{
 "cells": [
  {
   "cell_type": "code",
   "execution_count": 2,
   "metadata": {},
   "outputs": [],
   "source": [
    "import pandas as pd\n",
    "import numpy as np\n",
    "import matplotlib.pyplot as plt\n",
    "import seaborn as sns"
   ]
  },
  {
   "cell_type": "code",
   "execution_count": 3,
   "metadata": {},
   "outputs": [],
   "source": [
    "train = pd.read_csv('../../data/train.csv')\n",
    "test = pd.read_csv('../../data/test.csv')\n",
    "anime = pd.read_csv('../../data/anime.csv')\n",
    "profile = pd.read_csv('../../data/profile.csv')"
   ]
  },
  {
   "cell_type": "code",
   "execution_count": 4,
   "metadata": {},
   "outputs": [
    {
     "data": {
      "text/html": [
       "<div>\n",
       "<style scoped>\n",
       "    .dataframe tbody tr th:only-of-type {\n",
       "        vertical-align: middle;\n",
       "    }\n",
       "\n",
       "    .dataframe tbody tr th {\n",
       "        vertical-align: top;\n",
       "    }\n",
       "\n",
       "    .dataframe thead th {\n",
       "        text-align: right;\n",
       "    }\n",
       "</style>\n",
       "<table border=\"1\" class=\"dataframe\">\n",
       "  <thead>\n",
       "    <tr style=\"text-align: right;\">\n",
       "      <th></th>\n",
       "      <th>user</th>\n",
       "      <th>anime_id</th>\n",
       "      <th>text</th>\n",
       "      <th>score</th>\n",
       "    </tr>\n",
       "  </thead>\n",
       "  <tbody>\n",
       "    <tr>\n",
       "      <th>0</th>\n",
       "      <td>cd931c240b</td>\n",
       "      <td>6574</td>\n",
       "      <td>\\n           \\n         \\n           \\n       ...</td>\n",
       "      <td>9</td>\n",
       "    </tr>\n",
       "    <tr>\n",
       "      <th>1</th>\n",
       "      <td>bf666ac921</td>\n",
       "      <td>12531</td>\n",
       "      <td>\\n           \\n         \\n           \\n       ...</td>\n",
       "      <td>8</td>\n",
       "    </tr>\n",
       "    <tr>\n",
       "      <th>2</th>\n",
       "      <td>24a73e9958</td>\n",
       "      <td>23079</td>\n",
       "      <td>\\n           \\n         \\n           \\n       ...</td>\n",
       "      <td>5</td>\n",
       "    </tr>\n",
       "    <tr>\n",
       "      <th>3</th>\n",
       "      <td>d45057b3ec</td>\n",
       "      <td>8769</td>\n",
       "      <td>\\n           \\n         \\n           \\n       ...</td>\n",
       "      <td>7</td>\n",
       "    </tr>\n",
       "    <tr>\n",
       "      <th>4</th>\n",
       "      <td>9b33e2839e</td>\n",
       "      <td>12367</td>\n",
       "      <td>\\n           \\n         \\n           \\n       ...</td>\n",
       "      <td>2</td>\n",
       "    </tr>\n",
       "    <tr>\n",
       "      <th>...</th>\n",
       "      <td>...</td>\n",
       "      <td>...</td>\n",
       "      <td>...</td>\n",
       "      <td>...</td>\n",
       "    </tr>\n",
       "    <tr>\n",
       "      <th>105344</th>\n",
       "      <td>22815a50b1</td>\n",
       "      <td>9756</td>\n",
       "      <td>\\n           \\n         \\n           \\n       ...</td>\n",
       "      <td>10</td>\n",
       "    </tr>\n",
       "    <tr>\n",
       "      <th>105345</th>\n",
       "      <td>52c79b3a9c</td>\n",
       "      <td>228</td>\n",
       "      <td>\\n           \\n         \\n           \\n       ...</td>\n",
       "      <td>9</td>\n",
       "    </tr>\n",
       "    <tr>\n",
       "      <th>105346</th>\n",
       "      <td>97eab6eb54</td>\n",
       "      <td>6164</td>\n",
       "      <td>\\n           \\n         \\n           \\n       ...</td>\n",
       "      <td>8</td>\n",
       "    </tr>\n",
       "    <tr>\n",
       "      <th>105347</th>\n",
       "      <td>ca1066ee61</td>\n",
       "      <td>32</td>\n",
       "      <td>\\n           \\n         \\n           \\n       ...</td>\n",
       "      <td>9</td>\n",
       "    </tr>\n",
       "    <tr>\n",
       "      <th>105348</th>\n",
       "      <td>cdb5567e1a</td>\n",
       "      <td>4039</td>\n",
       "      <td>\\n           \\n         \\n           \\n       ...</td>\n",
       "      <td>10</td>\n",
       "    </tr>\n",
       "  </tbody>\n",
       "</table>\n",
       "<p>105349 rows × 4 columns</p>\n",
       "</div>"
      ],
      "text/plain": [
       "              user  anime_id  \\\n",
       "0       cd931c240b      6574   \n",
       "1       bf666ac921     12531   \n",
       "2       24a73e9958     23079   \n",
       "3       d45057b3ec      8769   \n",
       "4       9b33e2839e     12367   \n",
       "...            ...       ...   \n",
       "105344  22815a50b1      9756   \n",
       "105345  52c79b3a9c       228   \n",
       "105346  97eab6eb54      6164   \n",
       "105347  ca1066ee61        32   \n",
       "105348  cdb5567e1a      4039   \n",
       "\n",
       "                                                     text  score  \n",
       "0       \\n           \\n         \\n           \\n       ...      9  \n",
       "1       \\n           \\n         \\n           \\n       ...      8  \n",
       "2       \\n           \\n         \\n           \\n       ...      5  \n",
       "3       \\n           \\n         \\n           \\n       ...      7  \n",
       "4       \\n           \\n         \\n           \\n       ...      2  \n",
       "...                                                   ...    ...  \n",
       "105344  \\n           \\n         \\n           \\n       ...     10  \n",
       "105345  \\n           \\n         \\n           \\n       ...      9  \n",
       "105346  \\n           \\n         \\n           \\n       ...      8  \n",
       "105347  \\n           \\n         \\n           \\n       ...      9  \n",
       "105348  \\n           \\n         \\n           \\n       ...     10  \n",
       "\n",
       "[105349 rows x 4 columns]"
      ]
     },
     "execution_count": 4,
     "metadata": {},
     "output_type": "execute_result"
    }
   ],
   "source": [
    "train"
   ]
  },
  {
   "cell_type": "code",
   "execution_count": 5,
   "metadata": {},
   "outputs": [
    {
     "data": {
      "text/html": [
       "<div>\n",
       "<style scoped>\n",
       "    .dataframe tbody tr th:only-of-type {\n",
       "        vertical-align: middle;\n",
       "    }\n",
       "\n",
       "    .dataframe tbody tr th {\n",
       "        vertical-align: top;\n",
       "    }\n",
       "\n",
       "    .dataframe thead th {\n",
       "        text-align: right;\n",
       "    }\n",
       "</style>\n",
       "<table border=\"1\" class=\"dataframe\">\n",
       "  <thead>\n",
       "    <tr style=\"text-align: right;\">\n",
       "      <th></th>\n",
       "      <th>user</th>\n",
       "      <th>anime_id</th>\n",
       "      <th>ID</th>\n",
       "    </tr>\n",
       "  </thead>\n",
       "  <tbody>\n",
       "    <tr>\n",
       "      <th>0</th>\n",
       "      <td>df5ce90323</td>\n",
       "      <td>2191</td>\n",
       "      <td>df5ce90323/2191</td>\n",
       "    </tr>\n",
       "    <tr>\n",
       "      <th>1</th>\n",
       "      <td>fd47680337</td>\n",
       "      <td>12355</td>\n",
       "      <td>fd47680337/12355</td>\n",
       "    </tr>\n",
       "    <tr>\n",
       "      <th>2</th>\n",
       "      <td>8bfc6cea02</td>\n",
       "      <td>3287</td>\n",
       "      <td>8bfc6cea02/3287</td>\n",
       "    </tr>\n",
       "    <tr>\n",
       "      <th>3</th>\n",
       "      <td>5ba4de2706</td>\n",
       "      <td>5114</td>\n",
       "      <td>5ba4de2706/5114</td>\n",
       "    </tr>\n",
       "    <tr>\n",
       "      <th>4</th>\n",
       "      <td>6f78771003</td>\n",
       "      <td>33966</td>\n",
       "      <td>6f78771003/33966</td>\n",
       "    </tr>\n",
       "    <tr>\n",
       "      <th>...</th>\n",
       "      <td>...</td>\n",
       "      <td>...</td>\n",
       "      <td>...</td>\n",
       "    </tr>\n",
       "    <tr>\n",
       "      <th>25165</th>\n",
       "      <td>f60d21c6ff</td>\n",
       "      <td>34914</td>\n",
       "      <td>f60d21c6ff/34914</td>\n",
       "    </tr>\n",
       "    <tr>\n",
       "      <th>25166</th>\n",
       "      <td>1efa7f7adc</td>\n",
       "      <td>9989</td>\n",
       "      <td>1efa7f7adc/9989</td>\n",
       "    </tr>\n",
       "    <tr>\n",
       "      <th>25167</th>\n",
       "      <td>76b6afecea</td>\n",
       "      <td>1606</td>\n",
       "      <td>76b6afecea/1606</td>\n",
       "    </tr>\n",
       "    <tr>\n",
       "      <th>25168</th>\n",
       "      <td>ae8792e8c9</td>\n",
       "      <td>14467</td>\n",
       "      <td>ae8792e8c9/14467</td>\n",
       "    </tr>\n",
       "    <tr>\n",
       "      <th>25169</th>\n",
       "      <td>633644c951</td>\n",
       "      <td>11759</td>\n",
       "      <td>633644c951/11759</td>\n",
       "    </tr>\n",
       "  </tbody>\n",
       "</table>\n",
       "<p>25170 rows × 3 columns</p>\n",
       "</div>"
      ],
      "text/plain": [
       "             user  anime_id                ID\n",
       "0      df5ce90323      2191   df5ce90323/2191\n",
       "1      fd47680337     12355  fd47680337/12355\n",
       "2      8bfc6cea02      3287   8bfc6cea02/3287\n",
       "3      5ba4de2706      5114   5ba4de2706/5114\n",
       "4      6f78771003     33966  6f78771003/33966\n",
       "...           ...       ...               ...\n",
       "25165  f60d21c6ff     34914  f60d21c6ff/34914\n",
       "25166  1efa7f7adc      9989   1efa7f7adc/9989\n",
       "25167  76b6afecea      1606   76b6afecea/1606\n",
       "25168  ae8792e8c9     14467  ae8792e8c9/14467\n",
       "25169  633644c951     11759  633644c951/11759\n",
       "\n",
       "[25170 rows x 3 columns]"
      ]
     },
     "execution_count": 5,
     "metadata": {},
     "output_type": "execute_result"
    }
   ],
   "source": [
    "test"
   ]
  },
  {
   "cell_type": "code",
   "execution_count": 6,
   "metadata": {},
   "outputs": [
    {
     "data": {
      "text/html": [
       "<div>\n",
       "<style scoped>\n",
       "    .dataframe tbody tr th:only-of-type {\n",
       "        vertical-align: middle;\n",
       "    }\n",
       "\n",
       "    .dataframe tbody tr th {\n",
       "        vertical-align: top;\n",
       "    }\n",
       "\n",
       "    .dataframe thead th {\n",
       "        text-align: right;\n",
       "    }\n",
       "</style>\n",
       "<table border=\"1\" class=\"dataframe\">\n",
       "  <thead>\n",
       "    <tr style=\"text-align: right;\">\n",
       "      <th></th>\n",
       "      <th>id</th>\n",
       "      <th>title</th>\n",
       "      <th>synopsis</th>\n",
       "      <th>genre</th>\n",
       "      <th>episodes</th>\n",
       "      <th>members</th>\n",
       "      <th>popularity</th>\n",
       "      <th>ranked</th>\n",
       "      <th>start_month</th>\n",
       "      <th>start_day</th>\n",
       "      <th>start_year</th>\n",
       "      <th>end_month</th>\n",
       "      <th>end_day</th>\n",
       "      <th>end_year</th>\n",
       "    </tr>\n",
       "  </thead>\n",
       "  <tbody>\n",
       "    <tr>\n",
       "      <th>0</th>\n",
       "      <td>28891</td>\n",
       "      <td>Haikyuu!! Second Season</td>\n",
       "      <td>Following their participation at the Inter-Hig...</td>\n",
       "      <td>['Comedy', 'Sports', 'Drama', 'School', 'Shoun...</td>\n",
       "      <td>25.0</td>\n",
       "      <td>489888</td>\n",
       "      <td>141</td>\n",
       "      <td>25.0</td>\n",
       "      <td>10.0</td>\n",
       "      <td>4.0</td>\n",
       "      <td>2015.0</td>\n",
       "      <td>3.0</td>\n",
       "      <td>27.0</td>\n",
       "      <td>2016.0</td>\n",
       "    </tr>\n",
       "    <tr>\n",
       "      <th>1</th>\n",
       "      <td>23273</td>\n",
       "      <td>Shigatsu wa Kimi no Uso</td>\n",
       "      <td>Music accompanies the path of the human metron...</td>\n",
       "      <td>['Drama', 'Music', 'Romance', 'School', 'Shoun...</td>\n",
       "      <td>22.0</td>\n",
       "      <td>995473</td>\n",
       "      <td>28</td>\n",
       "      <td>24.0</td>\n",
       "      <td>10.0</td>\n",
       "      <td>10.0</td>\n",
       "      <td>2014.0</td>\n",
       "      <td>3.0</td>\n",
       "      <td>20.0</td>\n",
       "      <td>2015.0</td>\n",
       "    </tr>\n",
       "    <tr>\n",
       "      <th>2</th>\n",
       "      <td>34599</td>\n",
       "      <td>Made in Abyss</td>\n",
       "      <td>The Abyss—a gaping chasm stretching down into ...</td>\n",
       "      <td>['Sci-Fi', 'Adventure', 'Mystery', 'Drama', 'F...</td>\n",
       "      <td>13.0</td>\n",
       "      <td>581663</td>\n",
       "      <td>98</td>\n",
       "      <td>23.0</td>\n",
       "      <td>7.0</td>\n",
       "      <td>7.0</td>\n",
       "      <td>2017.0</td>\n",
       "      <td>9.0</td>\n",
       "      <td>29.0</td>\n",
       "      <td>2017.0</td>\n",
       "    </tr>\n",
       "    <tr>\n",
       "      <th>3</th>\n",
       "      <td>5114</td>\n",
       "      <td>Fullmetal Alchemist: Brotherhood</td>\n",
       "      <td>\"In order for something to be obtained, someth...</td>\n",
       "      <td>['Action', 'Military', 'Adventure', 'Comedy', ...</td>\n",
       "      <td>64.0</td>\n",
       "      <td>1615084</td>\n",
       "      <td>4</td>\n",
       "      <td>1.0</td>\n",
       "      <td>4.0</td>\n",
       "      <td>5.0</td>\n",
       "      <td>2009.0</td>\n",
       "      <td>7.0</td>\n",
       "      <td>4.0</td>\n",
       "      <td>2010.0</td>\n",
       "    </tr>\n",
       "    <tr>\n",
       "      <th>4</th>\n",
       "      <td>31758</td>\n",
       "      <td>Kizumonogatari III: Reiketsu-hen</td>\n",
       "      <td>After helping revive the legendary vampire Kis...</td>\n",
       "      <td>['Action', 'Mystery', 'Supernatural', 'Vampire']</td>\n",
       "      <td>1.0</td>\n",
       "      <td>214621</td>\n",
       "      <td>502</td>\n",
       "      <td>22.0</td>\n",
       "      <td>1.0</td>\n",
       "      <td>6.0</td>\n",
       "      <td>2017.0</td>\n",
       "      <td>1.0</td>\n",
       "      <td>6.0</td>\n",
       "      <td>2017.0</td>\n",
       "    </tr>\n",
       "    <tr>\n",
       "      <th>...</th>\n",
       "      <td>...</td>\n",
       "      <td>...</td>\n",
       "      <td>...</td>\n",
       "      <td>...</td>\n",
       "      <td>...</td>\n",
       "      <td>...</td>\n",
       "      <td>...</td>\n",
       "      <td>...</td>\n",
       "      <td>...</td>\n",
       "      <td>...</td>\n",
       "      <td>...</td>\n",
       "      <td>...</td>\n",
       "      <td>...</td>\n",
       "      <td>...</td>\n",
       "    </tr>\n",
       "    <tr>\n",
       "      <th>16363</th>\n",
       "      <td>10075</td>\n",
       "      <td>Naruto x UT</td>\n",
       "      <td>All-new animation offered throughout UNIQLO cl...</td>\n",
       "      <td>['Action', 'Comedy', 'Super Power', 'Martial A...</td>\n",
       "      <td>1.0</td>\n",
       "      <td>34155</td>\n",
       "      <td>2382</td>\n",
       "      <td>1728.0</td>\n",
       "      <td>1.0</td>\n",
       "      <td>1.0</td>\n",
       "      <td>2011.0</td>\n",
       "      <td>1.0</td>\n",
       "      <td>1.0</td>\n",
       "      <td>2011.0</td>\n",
       "    </tr>\n",
       "    <tr>\n",
       "      <th>16364</th>\n",
       "      <td>35828</td>\n",
       "      <td>Miira no Kaikata</td>\n",
       "      <td>High school student Sora Kashiwagi is accustom...</td>\n",
       "      <td>['Slice of Life', 'Comedy', 'Supernatural']</td>\n",
       "      <td>12.0</td>\n",
       "      <td>61459</td>\n",
       "      <td>1648</td>\n",
       "      <td>1727.0</td>\n",
       "      <td>1.0</td>\n",
       "      <td>12.0</td>\n",
       "      <td>2018.0</td>\n",
       "      <td>3.0</td>\n",
       "      <td>30.0</td>\n",
       "      <td>2018.0</td>\n",
       "    </tr>\n",
       "    <tr>\n",
       "      <th>16365</th>\n",
       "      <td>10378</td>\n",
       "      <td>Shinryaku!? Ika Musume</td>\n",
       "      <td>After regaining her squid-like abilities, Ika ...</td>\n",
       "      <td>['Slice of Life', 'Comedy', 'Shounen']</td>\n",
       "      <td>12.0</td>\n",
       "      <td>67422</td>\n",
       "      <td>1547</td>\n",
       "      <td>1548.0</td>\n",
       "      <td>9.0</td>\n",
       "      <td>27.0</td>\n",
       "      <td>2011.0</td>\n",
       "      <td>12.0</td>\n",
       "      <td>25.0</td>\n",
       "      <td>2011.0</td>\n",
       "    </tr>\n",
       "    <tr>\n",
       "      <th>16366</th>\n",
       "      <td>33082</td>\n",
       "      <td>Kingsglaive: Final Fantasy XV</td>\n",
       "      <td>For years, the Niflheim Empire and the kingdom...</td>\n",
       "      <td>['Action']</td>\n",
       "      <td>1.0</td>\n",
       "      <td>41077</td>\n",
       "      <td>2154</td>\n",
       "      <td>1544.0</td>\n",
       "      <td>7.0</td>\n",
       "      <td>9.0</td>\n",
       "      <td>2016.0</td>\n",
       "      <td>7.0</td>\n",
       "      <td>9.0</td>\n",
       "      <td>2016.0</td>\n",
       "    </tr>\n",
       "    <tr>\n",
       "      <th>16367</th>\n",
       "      <td>16934</td>\n",
       "      <td>Chuunibyou demo Koi ga Shitai!: Kirameki no......</td>\n",
       "      <td>Although Yuuta Togashi and Rikka Takanashi hav...</td>\n",
       "      <td>['Comedy', 'Drama', 'Romance', 'School', 'Slic...</td>\n",
       "      <td>1.0</td>\n",
       "      <td>128400</td>\n",
       "      <td>883</td>\n",
       "      <td>1533.0</td>\n",
       "      <td>6.0</td>\n",
       "      <td>19.0</td>\n",
       "      <td>2013.0</td>\n",
       "      <td>6.0</td>\n",
       "      <td>19.0</td>\n",
       "      <td>2013.0</td>\n",
       "    </tr>\n",
       "  </tbody>\n",
       "</table>\n",
       "<p>16368 rows × 14 columns</p>\n",
       "</div>"
      ],
      "text/plain": [
       "          id                                              title  \\\n",
       "0      28891                            Haikyuu!! Second Season   \n",
       "1      23273                            Shigatsu wa Kimi no Uso   \n",
       "2      34599                                      Made in Abyss   \n",
       "3       5114                   Fullmetal Alchemist: Brotherhood   \n",
       "4      31758                   Kizumonogatari III: Reiketsu-hen   \n",
       "...      ...                                                ...   \n",
       "16363  10075                                        Naruto x UT   \n",
       "16364  35828                                   Miira no Kaikata   \n",
       "16365  10378                             Shinryaku!? Ika Musume   \n",
       "16366  33082                      Kingsglaive: Final Fantasy XV   \n",
       "16367  16934  Chuunibyou demo Koi ga Shitai!: Kirameki no......   \n",
       "\n",
       "                                                synopsis  \\\n",
       "0      Following their participation at the Inter-Hig...   \n",
       "1      Music accompanies the path of the human metron...   \n",
       "2      The Abyss—a gaping chasm stretching down into ...   \n",
       "3      \"In order for something to be obtained, someth...   \n",
       "4      After helping revive the legendary vampire Kis...   \n",
       "...                                                  ...   \n",
       "16363  All-new animation offered throughout UNIQLO cl...   \n",
       "16364  High school student Sora Kashiwagi is accustom...   \n",
       "16365  After regaining her squid-like abilities, Ika ...   \n",
       "16366  For years, the Niflheim Empire and the kingdom...   \n",
       "16367  Although Yuuta Togashi and Rikka Takanashi hav...   \n",
       "\n",
       "                                                   genre  episodes  members  \\\n",
       "0      ['Comedy', 'Sports', 'Drama', 'School', 'Shoun...      25.0   489888   \n",
       "1      ['Drama', 'Music', 'Romance', 'School', 'Shoun...      22.0   995473   \n",
       "2      ['Sci-Fi', 'Adventure', 'Mystery', 'Drama', 'F...      13.0   581663   \n",
       "3      ['Action', 'Military', 'Adventure', 'Comedy', ...      64.0  1615084   \n",
       "4       ['Action', 'Mystery', 'Supernatural', 'Vampire']       1.0   214621   \n",
       "...                                                  ...       ...      ...   \n",
       "16363  ['Action', 'Comedy', 'Super Power', 'Martial A...       1.0    34155   \n",
       "16364        ['Slice of Life', 'Comedy', 'Supernatural']      12.0    61459   \n",
       "16365             ['Slice of Life', 'Comedy', 'Shounen']      12.0    67422   \n",
       "16366                                         ['Action']       1.0    41077   \n",
       "16367  ['Comedy', 'Drama', 'Romance', 'School', 'Slic...       1.0   128400   \n",
       "\n",
       "       popularity  ranked  start_month  start_day  start_year  end_month  \\\n",
       "0             141    25.0         10.0        4.0      2015.0        3.0   \n",
       "1              28    24.0         10.0       10.0      2014.0        3.0   \n",
       "2              98    23.0          7.0        7.0      2017.0        9.0   \n",
       "3               4     1.0          4.0        5.0      2009.0        7.0   \n",
       "4             502    22.0          1.0        6.0      2017.0        1.0   \n",
       "...           ...     ...          ...        ...         ...        ...   \n",
       "16363        2382  1728.0          1.0        1.0      2011.0        1.0   \n",
       "16364        1648  1727.0          1.0       12.0      2018.0        3.0   \n",
       "16365        1547  1548.0          9.0       27.0      2011.0       12.0   \n",
       "16366        2154  1544.0          7.0        9.0      2016.0        7.0   \n",
       "16367         883  1533.0          6.0       19.0      2013.0        6.0   \n",
       "\n",
       "       end_day  end_year  \n",
       "0         27.0    2016.0  \n",
       "1         20.0    2015.0  \n",
       "2         29.0    2017.0  \n",
       "3          4.0    2010.0  \n",
       "4          6.0    2017.0  \n",
       "...        ...       ...  \n",
       "16363      1.0    2011.0  \n",
       "16364     30.0    2018.0  \n",
       "16365     25.0    2011.0  \n",
       "16366      9.0    2016.0  \n",
       "16367     19.0    2013.0  \n",
       "\n",
       "[16368 rows x 14 columns]"
      ]
     },
     "execution_count": 6,
     "metadata": {},
     "output_type": "execute_result"
    }
   ],
   "source": [
    "anime"
   ]
  },
  {
   "cell_type": "code",
   "execution_count": 7,
   "metadata": {},
   "outputs": [
    {
     "data": {
      "text/html": [
       "<div>\n",
       "<style scoped>\n",
       "    .dataframe tbody tr th:only-of-type {\n",
       "        vertical-align: middle;\n",
       "    }\n",
       "\n",
       "    .dataframe tbody tr th {\n",
       "        vertical-align: top;\n",
       "    }\n",
       "\n",
       "    .dataframe thead th {\n",
       "        text-align: right;\n",
       "    }\n",
       "</style>\n",
       "<table border=\"1\" class=\"dataframe\">\n",
       "  <thead>\n",
       "    <tr style=\"text-align: right;\">\n",
       "      <th></th>\n",
       "      <th>user</th>\n",
       "      <th>gender</th>\n",
       "      <th>birthday</th>\n",
       "    </tr>\n",
       "  </thead>\n",
       "  <tbody>\n",
       "    <tr>\n",
       "      <th>0</th>\n",
       "      <td>a6d7097412</td>\n",
       "      <td>Male</td>\n",
       "      <td>Oct 2, 1994</td>\n",
       "    </tr>\n",
       "    <tr>\n",
       "      <th>1</th>\n",
       "      <td>a5b892cad4</td>\n",
       "      <td>Female</td>\n",
       "      <td>Nov 10, 2000</td>\n",
       "    </tr>\n",
       "    <tr>\n",
       "      <th>2</th>\n",
       "      <td>033266b0aa</td>\n",
       "      <td>NaN</td>\n",
       "      <td>NaN</td>\n",
       "    </tr>\n",
       "    <tr>\n",
       "      <th>3</th>\n",
       "      <td>6a18591ad5</td>\n",
       "      <td>Male</td>\n",
       "      <td>Sep 5</td>\n",
       "    </tr>\n",
       "    <tr>\n",
       "      <th>4</th>\n",
       "      <td>4fba2ad28f</td>\n",
       "      <td>Male</td>\n",
       "      <td>Oct 30, 1999</td>\n",
       "    </tr>\n",
       "    <tr>\n",
       "      <th>...</th>\n",
       "      <td>...</td>\n",
       "      <td>...</td>\n",
       "      <td>...</td>\n",
       "    </tr>\n",
       "    <tr>\n",
       "      <th>47880</th>\n",
       "      <td>9a42449c3b</td>\n",
       "      <td>NaN</td>\n",
       "      <td>NaN</td>\n",
       "    </tr>\n",
       "    <tr>\n",
       "      <th>47881</th>\n",
       "      <td>f8f5c5e25a</td>\n",
       "      <td>Male</td>\n",
       "      <td>Jan 1, 2001</td>\n",
       "    </tr>\n",
       "    <tr>\n",
       "      <th>47882</th>\n",
       "      <td>54efa1ca22</td>\n",
       "      <td>NaN</td>\n",
       "      <td>NaN</td>\n",
       "    </tr>\n",
       "    <tr>\n",
       "      <th>47883</th>\n",
       "      <td>20bb0c572b</td>\n",
       "      <td>NaN</td>\n",
       "      <td>NaN</td>\n",
       "    </tr>\n",
       "    <tr>\n",
       "      <th>47884</th>\n",
       "      <td>e91ba06978</td>\n",
       "      <td>NaN</td>\n",
       "      <td>NaN</td>\n",
       "    </tr>\n",
       "  </tbody>\n",
       "</table>\n",
       "<p>47885 rows × 3 columns</p>\n",
       "</div>"
      ],
      "text/plain": [
       "             user  gender      birthday\n",
       "0      a6d7097412    Male   Oct 2, 1994\n",
       "1      a5b892cad4  Female  Nov 10, 2000\n",
       "2      033266b0aa     NaN           NaN\n",
       "3      6a18591ad5    Male         Sep 5\n",
       "4      4fba2ad28f    Male  Oct 30, 1999\n",
       "...           ...     ...           ...\n",
       "47880  9a42449c3b     NaN           NaN\n",
       "47881  f8f5c5e25a    Male   Jan 1, 2001\n",
       "47882  54efa1ca22     NaN           NaN\n",
       "47883  20bb0c572b     NaN           NaN\n",
       "47884  e91ba06978     NaN           NaN\n",
       "\n",
       "[47885 rows x 3 columns]"
      ]
     },
     "execution_count": 7,
     "metadata": {},
     "output_type": "execute_result"
    }
   ],
   "source": [
    "profile"
   ]
  },
  {
   "cell_type": "code",
   "execution_count": 8,
   "metadata": {},
   "outputs": [
    {
     "data": {
      "text/plain": [
       "3041"
      ]
     },
     "execution_count": 8,
     "metadata": {},
     "output_type": "execute_result"
    }
   ],
   "source": [
    "# test の userがすべて trainに含まれるか？\n",
    "test.shape[0] - np.isin(test['user'], train['user']).sum() "
   ]
  },
  {
   "cell_type": "code",
   "execution_count": 9,
   "metadata": {},
   "outputs": [
    {
     "data": {
      "text/plain": [
       "0"
      ]
     },
     "execution_count": 9,
     "metadata": {},
     "output_type": "execute_result"
    }
   ],
   "source": [
    "# train, test の user はすべて profile にあるか？\n",
    "(~np.isin(train['user'], profile['user'])).sum()"
   ]
  },
  {
   "cell_type": "code",
   "execution_count": 10,
   "metadata": {},
   "outputs": [
    {
     "data": {
      "text/plain": [
       "0"
      ]
     },
     "execution_count": 10,
     "metadata": {},
     "output_type": "execute_result"
    }
   ],
   "source": [
    "(~np.isin(test['user'], profile['user'])).sum()"
   ]
  },
  {
   "cell_type": "code",
   "execution_count": 11,
   "metadata": {},
   "outputs": [
    {
     "data": {
      "text/plain": [
       "608"
      ]
     },
     "execution_count": 11,
     "metadata": {},
     "output_type": "execute_result"
    }
   ],
   "source": [
    "(~np.isin(test['anime_id'], train['anime_id'])).sum()"
   ]
  },
  {
   "cell_type": "code",
   "execution_count": 12,
   "metadata": {},
   "outputs": [
    {
     "data": {
      "text/plain": [
       "4727"
      ]
     },
     "execution_count": 12,
     "metadata": {},
     "output_type": "execute_result"
    }
   ],
   "source": [
    "test['anime_id'].nunique()"
   ]
  },
  {
   "cell_type": "code",
   "execution_count": 13,
   "metadata": {},
   "outputs": [
    {
     "data": {
      "text/plain": [
       "0"
      ]
     },
     "execution_count": 13,
     "metadata": {},
     "output_type": "execute_result"
    }
   ],
   "source": [
    "# train, test の anime_id はすべて anime にあるか？\n",
    "(~np.isin(train['anime_id'], anime['id'])).sum()"
   ]
  },
  {
   "cell_type": "code",
   "execution_count": 14,
   "metadata": {},
   "outputs": [
    {
     "data": {
      "text/plain": [
       "0"
      ]
     },
     "execution_count": 14,
     "metadata": {},
     "output_type": "execute_result"
    }
   ],
   "source": [
    "(~np.isin(test['anime_id'], anime['id'])).sum()"
   ]
  },
  {
   "cell_type": "code",
   "execution_count": 15,
   "metadata": {},
   "outputs": [],
   "source": [
    "# => アニメはanimeにはすべてあるが、 train では 600 / 4700が初見.  ユーザはtrainで既出とは限らない.（３０００ / 16000 が 初見).  profileではすべて既出"
   ]
  },
  {
   "cell_type": "code",
   "execution_count": 16,
   "metadata": {},
   "outputs": [],
   "source": [
    "test_eda = test.copy()"
   ]
  },
  {
   "cell_type": "code",
   "execution_count": 17,
   "metadata": {},
   "outputs": [],
   "source": [
    "test_eda['anime_unseen'] = ~np.isin(test['anime_id'], train['anime_id'])\n",
    "test_eda['user_unseen'] = ~np.isin(test['user'], train['user'])"
   ]
  },
  {
   "cell_type": "code",
   "execution_count": 18,
   "metadata": {},
   "outputs": [
    {
     "data": {
      "text/html": [
       "<div>\n",
       "<style scoped>\n",
       "    .dataframe tbody tr th:only-of-type {\n",
       "        vertical-align: middle;\n",
       "    }\n",
       "\n",
       "    .dataframe tbody tr th {\n",
       "        vertical-align: top;\n",
       "    }\n",
       "\n",
       "    .dataframe thead th {\n",
       "        text-align: right;\n",
       "    }\n",
       "</style>\n",
       "<table border=\"1\" class=\"dataframe\">\n",
       "  <thead>\n",
       "    <tr style=\"text-align: right;\">\n",
       "      <th></th>\n",
       "      <th>user</th>\n",
       "      <th>anime_id</th>\n",
       "      <th>ID</th>\n",
       "      <th>anime_unseen</th>\n",
       "      <th>user_unseen</th>\n",
       "    </tr>\n",
       "  </thead>\n",
       "  <tbody>\n",
       "    <tr>\n",
       "      <th>0</th>\n",
       "      <td>df5ce90323</td>\n",
       "      <td>2191</td>\n",
       "      <td>df5ce90323/2191</td>\n",
       "      <td>True</td>\n",
       "      <td>False</td>\n",
       "    </tr>\n",
       "    <tr>\n",
       "      <th>1</th>\n",
       "      <td>fd47680337</td>\n",
       "      <td>12355</td>\n",
       "      <td>fd47680337/12355</td>\n",
       "      <td>False</td>\n",
       "      <td>False</td>\n",
       "    </tr>\n",
       "    <tr>\n",
       "      <th>2</th>\n",
       "      <td>8bfc6cea02</td>\n",
       "      <td>3287</td>\n",
       "      <td>8bfc6cea02/3287</td>\n",
       "      <td>False</td>\n",
       "      <td>False</td>\n",
       "    </tr>\n",
       "    <tr>\n",
       "      <th>3</th>\n",
       "      <td>5ba4de2706</td>\n",
       "      <td>5114</td>\n",
       "      <td>5ba4de2706/5114</td>\n",
       "      <td>False</td>\n",
       "      <td>False</td>\n",
       "    </tr>\n",
       "    <tr>\n",
       "      <th>4</th>\n",
       "      <td>6f78771003</td>\n",
       "      <td>33966</td>\n",
       "      <td>6f78771003/33966</td>\n",
       "      <td>False</td>\n",
       "      <td>False</td>\n",
       "    </tr>\n",
       "    <tr>\n",
       "      <th>...</th>\n",
       "      <td>...</td>\n",
       "      <td>...</td>\n",
       "      <td>...</td>\n",
       "      <td>...</td>\n",
       "      <td>...</td>\n",
       "    </tr>\n",
       "    <tr>\n",
       "      <th>25165</th>\n",
       "      <td>f60d21c6ff</td>\n",
       "      <td>34914</td>\n",
       "      <td>f60d21c6ff/34914</td>\n",
       "      <td>False</td>\n",
       "      <td>False</td>\n",
       "    </tr>\n",
       "    <tr>\n",
       "      <th>25166</th>\n",
       "      <td>1efa7f7adc</td>\n",
       "      <td>9989</td>\n",
       "      <td>1efa7f7adc/9989</td>\n",
       "      <td>False</td>\n",
       "      <td>True</td>\n",
       "    </tr>\n",
       "    <tr>\n",
       "      <th>25167</th>\n",
       "      <td>76b6afecea</td>\n",
       "      <td>1606</td>\n",
       "      <td>76b6afecea/1606</td>\n",
       "      <td>False</td>\n",
       "      <td>False</td>\n",
       "    </tr>\n",
       "    <tr>\n",
       "      <th>25168</th>\n",
       "      <td>ae8792e8c9</td>\n",
       "      <td>14467</td>\n",
       "      <td>ae8792e8c9/14467</td>\n",
       "      <td>False</td>\n",
       "      <td>False</td>\n",
       "    </tr>\n",
       "    <tr>\n",
       "      <th>25169</th>\n",
       "      <td>633644c951</td>\n",
       "      <td>11759</td>\n",
       "      <td>633644c951/11759</td>\n",
       "      <td>False</td>\n",
       "      <td>False</td>\n",
       "    </tr>\n",
       "  </tbody>\n",
       "</table>\n",
       "<p>25170 rows × 5 columns</p>\n",
       "</div>"
      ],
      "text/plain": [
       "             user  anime_id                ID  anime_unseen  user_unseen\n",
       "0      df5ce90323      2191   df5ce90323/2191          True        False\n",
       "1      fd47680337     12355  fd47680337/12355         False        False\n",
       "2      8bfc6cea02      3287   8bfc6cea02/3287         False        False\n",
       "3      5ba4de2706      5114   5ba4de2706/5114         False        False\n",
       "4      6f78771003     33966  6f78771003/33966         False        False\n",
       "...           ...       ...               ...           ...          ...\n",
       "25165  f60d21c6ff     34914  f60d21c6ff/34914         False        False\n",
       "25166  1efa7f7adc      9989   1efa7f7adc/9989         False         True\n",
       "25167  76b6afecea      1606   76b6afecea/1606         False        False\n",
       "25168  ae8792e8c9     14467  ae8792e8c9/14467         False        False\n",
       "25169  633644c951     11759  633644c951/11759         False        False\n",
       "\n",
       "[25170 rows x 5 columns]"
      ]
     },
     "execution_count": 18,
     "metadata": {},
     "output_type": "execute_result"
    }
   ],
   "source": [
    "test_eda"
   ]
  },
  {
   "cell_type": "code",
   "execution_count": 19,
   "metadata": {},
   "outputs": [
    {
     "data": {
      "text/plain": [
       "0"
      ]
     },
     "execution_count": 19,
     "metadata": {},
     "output_type": "execute_result"
    }
   ],
   "source": [
    "np.isin((train['user'] + '/' + train['anime_id'].astype('str')).unique(), test['ID']).sum()"
   ]
  },
  {
   "cell_type": "code",
   "execution_count": 20,
   "metadata": {},
   "outputs": [
    {
     "data": {
      "text/plain": [
       "0     21574\n",
       "1      2988\n",
       "10      555\n",
       "11       53\n",
       "Name: count, dtype: int64"
      ]
     },
     "execution_count": 20,
     "metadata": {},
     "output_type": "execute_result"
    }
   ],
   "source": [
    "# 0 -> どっちも seen\n",
    "# 1 -> user だけ unseen\n",
    "# 10 -> anime だけ unseen\n",
    "# 11 -> どちらも unseen\n",
    "(10 * test_eda['anime_unseen'] + test_eda['user_unseen']).value_counts()"
   ]
  },
  {
   "cell_type": "code",
   "execution_count": 21,
   "metadata": {},
   "outputs": [],
   "source": [
    "# train, test見ていく"
   ]
  },
  {
   "cell_type": "code",
   "execution_count": 22,
   "metadata": {},
   "outputs": [
    {
     "data": {
      "text/plain": [
       "44942"
      ]
     },
     "execution_count": 22,
     "metadata": {},
     "output_type": "execute_result"
    }
   ],
   "source": [
    "train['user'].nunique()"
   ]
  },
  {
   "cell_type": "code",
   "execution_count": 23,
   "metadata": {},
   "outputs": [
    {
     "data": {
      "text/plain": [
       "10371"
      ]
     },
     "execution_count": 23,
     "metadata": {},
     "output_type": "execute_result"
    }
   ],
   "source": [
    "test['user'].nunique()"
   ]
  },
  {
   "cell_type": "code",
   "execution_count": 24,
   "metadata": {},
   "outputs": [
    {
     "data": {
      "image/png": "[encoded data removed]",
      "text/plain": [
       "<Figure size 640x480 with 1 Axes>"
      ]
     },
     "metadata": {},
     "output_type": "display_data"
    }
   ],
   "source": [
    "plt.hist(train['user'].value_counts())\n",
    "plt.yscale('log')"
   ]
  },
  {
   "cell_type": "code",
   "execution_count": 25,
   "metadata": {},
   "outputs": [
    {
     "data": {
      "image/png": "[encoded data removed]",
      "text/plain": [
       "<Figure size 640x480 with 1 Axes>"
      ]
     },
     "metadata": {},
     "output_type": "display_data"
    }
   ],
   "source": [
    "plt.hist(test['user'].value_counts())\n",
    "plt.yscale('log')"
   ]
  },
  {
   "cell_type": "code",
   "execution_count": 27,
   "metadata": {},
   "outputs": [
    {
     "data": {
      "image/png": "[encoded data removed]",
      "text/plain": [
       "<Figure size 640x480 with 1 Axes>"
      ]
     },
     "metadata": {},
     "output_type": "display_data"
    }
   ],
   "source": [
    "plt.hist(train['anime_id'].value_counts())\n",
    "plt.yscale('log')"
   ]
  },
  {
   "cell_type": "code",
   "execution_count": 28,
   "metadata": {},
   "outputs": [
    {
     "data": {
      "image/png": "[encoded data removed]",
      "text/plain": [
       "<Figure size 640x480 with 1 Axes>"
      ]
     },
     "metadata": {},
     "output_type": "display_data"
    }
   ],
   "source": [
    "plt.hist(test['anime_id'].value_counts())\n",
    "plt.yscale('log')"
   ]
  },
  {
   "cell_type": "code",
   "execution_count": 35,
   "metadata": {},
   "outputs": [
    {
     "data": {
      "image/png": "[encoded data removed]",
      "text/plain": [
       "<Figure size 640x480 with 1 Axes>"
      ]
     },
     "metadata": {},
     "output_type": "display_data"
    }
   ],
   "source": [
    "plt.hist(train['text'].apply(len), bins=100)\n",
    "plt.yscale('log')"
   ]
  },
  {
   "cell_type": "code",
   "execution_count": 39,
   "metadata": {},
   "outputs": [
    {
     "data": {
      "text/plain": [
       "(array([1.0000e+00, 0.0000e+00, 2.3940e+03, 0.0000e+00, 0.0000e+00,\n",
       "        2.5220e+03, 0.0000e+00, 0.0000e+00, 4.6410e+03, 0.0000e+00,\n",
       "        4.7110e+03, 0.0000e+00, 0.0000e+00, 6.8070e+03, 0.0000e+00,\n",
       "        0.0000e+00, 9.9180e+03, 0.0000e+00, 0.0000e+00, 1.5062e+04,\n",
       "        0.0000e+00, 1.8940e+04, 0.0000e+00, 0.0000e+00, 1.9900e+04,\n",
       "        0.0000e+00, 0.0000e+00, 2.0452e+04, 0.0000e+00, 1.0000e+00]),\n",
       " array([ 0.        ,  0.36666667,  0.73333333,  1.1       ,  1.46666667,\n",
       "         1.83333333,  2.2       ,  2.56666667,  2.93333333,  3.3       ,\n",
       "         3.66666667,  4.03333333,  4.4       ,  4.76666667,  5.13333333,\n",
       "         5.5       ,  5.86666667,  6.23333333,  6.6       ,  6.96666667,\n",
       "         7.33333333,  7.7       ,  8.06666667,  8.43333333,  8.8       ,\n",
       "         9.16666667,  9.53333333,  9.9       , 10.26666667, 10.63333333,\n",
       "        11.        ]),\n",
       " <BarContainer object of 30 artists>)"
      ]
     },
     "execution_count": 39,
     "metadata": {},
     "output_type": "execute_result"
    },
    {
     "data": {
      "image/png": "[encoded data removed]",
      "text/plain": [
       "<Figure size 640x480 with 1 Axes>"
      ]
     },
     "metadata": {},
     "output_type": "display_data"
    }
   ],
   "source": [
    "plt.hist(train['score'], bins=30)"
   ]
  },
  {
   "cell_type": "code",
   "execution_count": null,
   "metadata": {},
   "outputs": [],
   "source": []
  }
 ],
 "metadata": {
  "kernelspec": {
   "display_name": "Python 3 (ipykernel)",
   "language": "python",
   "name": "python3"
  },
  "language_info": {
   "codemirror_mode": {
    "name": "ipython",
    "version": 3
   },
   "file_extension": ".py",
   "mimetype": "text/x-python",
   "name": "python",
   "nbconvert_exporter": "python",
   "pygments_lexer": "ipython3",
   "version": "3.9.6"
  }
 },
 "nbformat": 4,
 "nbformat_minor": 4
}
