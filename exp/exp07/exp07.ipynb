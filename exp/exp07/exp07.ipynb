{
 "cells": [
  {
   "cell_type": "code",
   "execution_count": 1,
   "id": "2ed471fd-32dc-4795-9be0-e8d021cc9b8d",
   "metadata": {},
   "outputs": [
    {
     "name": "stdout",
     "output_type": "stream",
     "text": [
      "register model: lightgbm\n",
      "register model: catboost\n",
      "register model: catboost_class\n"
     ]
    }
   ],
   "source": [
    "import sys\n",
    "sys.path.append('../../src')\n",
    "\n",
    "import pandas as pd\n",
    "\n",
    "from run import run\n",
    "from utils import save_all_columns"
   ]
  },
  {
   "cell_type": "code",
   "execution_count": 2,
   "id": "cdb87ab9-2262-4744-aed2-fda5453c1a2d",
   "metadata": {},
   "outputs": [
    {
     "name": "stdout",
     "output_type": "stream",
     "text": [
      "[2023-08-27 00:17:07.768995] train columns -> test columns\n",
      "[2023-08-27 00:17:07.769127] anime_id -> test_seen_anime_id\n",
      "[2023-08-27 00:17:07.769136] user -> test_seen_user\n",
      "[2023-08-27 00:17:07.769140] user_count_encoding -> test_seen_user_count_encoding\n",
      "[2023-08-27 00:17:07.769144] text_len_max -> test_seen_text_len_max\n",
      "[2023-08-27 00:17:07.769148] text_len_mean -> test_seen_text_len_mean\n",
      "[2023-08-27 00:17:07.769152] text_len_min -> test_seen_text_len_min\n",
      "[2023-08-27 00:17:07.769155] text_len_std -> test_seen_text_len_std\n",
      "[2023-08-27 00:17:07.769159] episodes -> test_seen_episodes\n",
      "[2023-08-27 00:17:07.769163] members -> test_seen_members\n",
      "[2023-08-27 00:17:07.769166] popularity -> test_seen_popularity\n",
      "[2023-08-27 00:17:07.769170] ranked -> test_seen_ranked\n",
      "[2023-08-27 00:17:07.769174] start_month -> test_seen_start_month\n",
      "[2023-08-27 00:17:07.769177] start_day -> test_seen_start_day\n",
      "[2023-08-27 00:17:07.769182] start_year -> test_seen_start_year\n",
      "[2023-08-27 00:17:07.769185] end_month -> test_seen_end_month\n",
      "[2023-08-27 00:17:07.769189] end_day -> test_seen_end_day\n",
      "[2023-08-27 00:17:07.769193] end_year -> test_seen_end_year\n",
      "[2023-08-27 00:17:07.769197] len_year -> test_seen_len_year\n",
      "[2023-08-27 00:17:07.769201] len_month -> test_seen_len_month\n",
      "[2023-08-27 00:17:07.769205] len_day -> test_seen_len_day\n",
      "[2023-08-27 00:17:07.769209] episode_per_month -> test_seen_episode_per_month\n",
      "[2023-08-27 00:17:07.769213] episode_per_day -> test_seen_episode_per_day\n",
      "[2023-08-27 00:17:07.769216] Action -> test_seen_Action\n",
      "[2023-08-27 00:17:07.769221] Adventure -> test_seen_Adventure\n",
      "[2023-08-27 00:17:07.769224] Cars -> test_seen_Cars\n",
      "[2023-08-27 00:17:07.769228] Comedy -> test_seen_Comedy\n",
      "[2023-08-27 00:17:07.769270] Dementia -> test_seen_Dementia\n",
      "[2023-08-27 00:17:07.769285] Demons -> test_seen_Demons\n",
      "[2023-08-27 00:17:07.769311] Drama -> test_seen_Drama\n",
      "[2023-08-27 00:17:07.769317] Ecchi -> test_seen_Ecchi\n",
      "[2023-08-27 00:17:07.769321] Fantasy -> test_seen_Fantasy\n",
      "[2023-08-27 00:17:07.769324] Game -> test_seen_Game\n",
      "[2023-08-27 00:17:07.769329] Harem -> test_seen_Harem\n",
      "[2023-08-27 00:17:07.769333] Hentai -> test_seen_Hentai\n",
      "[2023-08-27 00:17:07.769337] Historical -> test_seen_Historical\n",
      "[2023-08-27 00:17:07.769340] Horror -> test_seen_Horror\n",
      "[2023-08-27 00:17:07.769344] Josei -> test_seen_Josei\n",
      "[2023-08-27 00:17:07.769348] Kids -> test_seen_Kids\n",
      "[2023-08-27 00:17:07.769352] Magic -> test_seen_Magic\n",
      "[2023-08-27 00:17:07.769356] Martial Arts -> test_seen_Martial Arts\n",
      "[2023-08-27 00:17:07.769360] Mecha -> test_seen_Mecha\n",
      "[2023-08-27 00:17:07.769363] Military -> test_seen_Military\n",
      "[2023-08-27 00:17:07.769368] Music -> test_seen_Music\n",
      "[2023-08-27 00:17:07.769377] Mystery -> test_seen_Mystery\n",
      "[2023-08-27 00:17:07.769381] None -> test_seen_None\n",
      "[2023-08-27 00:17:07.769385] Parody -> test_seen_Parody\n",
      "[2023-08-27 00:17:07.769389] Police -> test_seen_Police\n",
      "[2023-08-27 00:17:07.769393] Psychological -> test_seen_Psychological\n",
      "[2023-08-27 00:17:07.769396] Romance -> test_seen_Romance\n",
      "[2023-08-27 00:17:07.769400] Samurai -> test_seen_Samurai\n",
      "[2023-08-27 00:17:07.769404] School -> test_seen_School\n",
      "[2023-08-27 00:17:07.769408] Sci-Fi -> test_seen_Sci-Fi\n",
      "[2023-08-27 00:17:07.769411] Seinen -> test_seen_Seinen\n",
      "[2023-08-27 00:17:07.769415] Shoujo -> test_seen_Shoujo\n",
      "[2023-08-27 00:17:07.769419] Shoujo Ai -> test_seen_Shoujo Ai\n",
      "[2023-08-27 00:17:07.769422] Shounen -> test_seen_Shounen\n",
      "[2023-08-27 00:17:07.769426] Shounen Ai -> test_seen_Shounen Ai\n",
      "[2023-08-27 00:17:07.769430] Slice of Life -> test_seen_Slice of Life\n",
      "[2023-08-27 00:17:07.769433] Space -> test_seen_Space\n",
      "[2023-08-27 00:17:07.769437] Sports -> test_seen_Sports\n",
      "[2023-08-27 00:17:07.769441] Super Power -> test_seen_Super Power\n",
      "[2023-08-27 00:17:07.769444] Supernatural -> test_seen_Supernatural\n",
      "[2023-08-27 00:17:07.769448] Thriller -> test_seen_Thriller\n",
      "[2023-08-27 00:17:07.769451] Vampire -> test_seen_Vampire\n",
      "[2023-08-27 00:17:07.769455] Yaoi -> test_seen_Yaoi\n",
      "[2023-08-27 00:17:07.769459] Yuri -> test_seen_Yuri\n",
      "[2023-08-27 00:17:07.769463] birth_year -> test_seen_birth_year\n",
      "[2023-08-27 00:17:07.769466] gender -> test_seen_gender\n"
     ]
    },
    {
     "name": "stderr",
     "output_type": "stream",
     "text": [
      "\u001b[34m\u001b[1mwandb\u001b[0m: Currently logged in as: \u001b[33mabap\u001b[0m. Use \u001b[1m`wandb login --relogin`\u001b[0m to force relogin\n"
     ]
    },
    {
     "data": {
      "text/html": [
       "Tracking run with wandb version 0.15.8"
      ],
      "text/plain": [
       "<IPython.core.display.HTML object>"
      ]
     },
     "metadata": {},
     "output_type": "display_data"
    },
    {
     "data": {
      "text/html": [
       "Run data is saved locally in <code>/Users/yuchi/Desktop/tracon-2023-8/exp/exp06/wandb/run-20230827_001709-o05avgjo</code>"
      ],
      "text/plain": [
       "<IPython.core.display.HTML object>"
      ]
     },
     "metadata": {},
     "output_type": "display_data"
    },
    {
     "data": {
      "text/html": [
       "Syncing run <strong><a href='https://wandb.ai/abap/tracon-2023-8/runs/o05avgjo' target=\"_blank\">cb-baseline</a></strong> to <a href='https://wandb.ai/abap/tracon-2023-8' target=\"_blank\">Weights & Biases</a> (<a href='https://wandb.me/run' target=\"_blank\">docs</a>)<br/>"
      ],
      "text/plain": [
       "<IPython.core.display.HTML object>"
      ]
     },
     "metadata": {},
     "output_type": "display_data"
    },
    {
     "data": {
      "text/html": [
       " View project at <a href='https://wandb.ai/abap/tracon-2023-8' target=\"_blank\">https://wandb.ai/abap/tracon-2023-8</a>"
      ],
      "text/plain": [
       "<IPython.core.display.HTML object>"
      ]
     },
     "metadata": {},
     "output_type": "display_data"
    },
    {
     "data": {
      "text/html": [
       " View run at <a href='https://wandb.ai/abap/tracon-2023-8/runs/o05avgjo' target=\"_blank\">https://wandb.ai/abap/tracon-2023-8/runs/o05avgjo</a>"
      ],
      "text/plain": [
       "<IPython.core.display.HTML object>"
      ]
     },
     "metadata": {},
     "output_type": "display_data"
    },
    {
     "name": "stderr",
     "output_type": "stream",
     "text": [
      "load train columns: 100%|████████████████████████████████████████████████████████████████████████████████████████████████████████████████████████████████████████| 68/68 [00:00<00:00, 492.91it/s, load gender]\n",
      "load test columns: 100%|███████████████████████████████████████████████████████████████████████████████████████████████████████████████████████████████| 68/68 [00:00<00:00, 523.11it/s, load test_seen_gender]\n",
      "/Users/yuchi/Library/Python/3.9/lib/python/site-packages/sklearn/model_selection/_split.py:700: UserWarning: The least populated class in y has only 1 members, which is less than n_splits=4.\n",
      "  warnings.warn(\n"
     ]
    },
    {
     "name": "stdout",
     "output_type": "stream",
     "text": [
      "[2023-08-27 00:17:10.344048] start training\n",
      "(79011,) (26338,)\n",
      "[2023-08-27 00:17:10.366246] start fold: 0\n",
      "(79012,) (26337,)\n",
      "[2023-08-27 00:17:11.432711] start fold: 1\n",
      "(79012,) (26337,)\n",
      "[2023-08-27 00:17:12.013849] start fold: 2\n",
      "(79012,) (26337,)\n",
      "[2023-08-27 00:17:12.500523] start fold: 3\n",
      "[2023-08-27 00:17:12.999170] Finish Train. val_loss: 4.776825343562671\n",
      "[2023-08-27 00:17:13.021710] save submit file: /Users/yuchi/Desktop/tracon-2023-8/exp/exp06/seen.csv\n"
     ]
    },
    {
     "data": {
      "text/html": [
       "Waiting for W&B process to finish... <strong style=\"color:green\">(success).</strong>"
      ],
      "text/plain": [
       "<IPython.core.display.HTML object>"
      ]
     },
     "metadata": {},
     "output_type": "display_data"
    },
    {
     "data": {
      "application/vnd.jupyter.widget-view+json": {
       "model_id": "a14c159e4d2b469eac574b91d944bc21",
       "version_major": 2,
       "version_minor": 0
      },
      "text/plain": [
       "VBox(children=(Label(value='0.353 MB of 0.353 MB uploaded (0.000 MB deduped)\\r'), FloatProgress(value=1.0, max…"
      ]
     },
     "metadata": {},
     "output_type": "display_data"
    },
    {
     "data": {
      "text/html": [
       "<style>\n",
       "    table.wandb td:nth-child(1) { padding: 0 10px; text-align: left ; width: auto;} td:nth-child(2) {text-align: left ; width: 100%}\n",
       "    .wandb-row { display: flex; flex-direction: row; flex-wrap: wrap; justify-content: flex-start; width: 100% }\n",
       "    .wandb-col { display: flex; flex-direction: column; flex-basis: 100%; flex: 1; padding: 10px; }\n",
       "    </style>\n",
       "<div class=\"wandb-row\"><div class=\"wandb-col\"><h3>Run history:</h3><br/><table class=\"wandb\"><tr><td>train/0</td><td>█▇▆▅▄▄▃▂▂▁</td></tr><tr><td>val/0</td><td>█▇▆▅▄▄▃▂▂▁</td></tr></table><br/></div><div class=\"wandb-col\"><h3>Run summary:</h3><br/><table class=\"wandb\"><tr><td>train/0</td><td>4.78072</td></tr><tr><td>val/0</td><td>4.78816</td></tr></table><br/></div></div>"
      ],
      "text/plain": [
       "<IPython.core.display.HTML object>"
      ]
     },
     "metadata": {},
     "output_type": "display_data"
    },
    {
     "data": {
      "text/html": [
       " View run <strong style=\"color:#cdcd00\">cb-baseline</strong> at: <a href='https://wandb.ai/abap/tracon-2023-8/runs/o05avgjo' target=\"_blank\">https://wandb.ai/abap/tracon-2023-8/runs/o05avgjo</a><br/> View job at <a href='https://wandb.ai/abap/tracon-2023-8/jobs/QXJ0aWZhY3RDb2xsZWN0aW9uOjkyOTkyMzcz/version_details/v15' target=\"_blank\">https://wandb.ai/abap/tracon-2023-8/jobs/QXJ0aWZhY3RDb2xsZWN0aW9uOjkyOTkyMzcz/version_details/v15</a><br/>Synced 5 W&B file(s), 4 media file(s), 2 artifact file(s) and 0 other file(s)"
      ],
      "text/plain": [
       "<IPython.core.display.HTML object>"
      ]
     },
     "metadata": {},
     "output_type": "display_data"
    },
    {
     "data": {
      "text/html": [
       "Find logs at: <code>./wandb/run-20230827_001709-o05avgjo/logs</code>"
      ],
      "text/plain": [
       "<IPython.core.display.HTML object>"
      ]
     },
     "metadata": {},
     "output_type": "display_data"
    }
   ],
   "source": [
    "run(\n",
    "    in_columns=[\"anime_id\", \"user\", \"user_count_encoding\", \"text_len_*\", 'episodes', 'members',\n",
    "       'popularity', 'ranked', 'start_month', 'start_day', 'start_year',\n",
    "       'end_month', 'end_day', 'end_year', 'len_year', 'len_month', 'len_day',\n",
    "       'episode_per_month', 'episode_per_day',  'Action',\n",
    "       'Adventure', 'Cars', 'Comedy', 'Dementia', 'Demons', 'Drama', 'Ecchi',\n",
    "       'Fantasy', 'Game', 'Harem', 'Hentai', 'Historical', 'Horror', 'Josei',\n",
    "       'Kids', 'Magic', 'Martial Arts', 'Mecha', 'Military', 'Music',\n",
    "       'Mystery', 'None', 'Parody', 'Police', 'Psychological', 'Romance',\n",
    "       'Samurai', 'School', 'Sci-Fi', 'Seinen', 'Shoujo', 'Shoujo Ai',\n",
    "       'Shounen', 'Shounen Ai', 'Slice of Life', 'Space', 'Sports',\n",
    "       'Super Power', 'Supernatural', 'Thriller', 'Vampire', 'Yaoi', 'Yuri',\n",
    "        'birth_year', 'gender'],\n",
    "    target_column=\"score\",\n",
    "    test_prefix=\"test_seen\",\n",
    "    test_id=\"test_seen_ID\",\n",
    "    run_config={\n",
    "        \"name\":\"cb-baseline\",\n",
    "        \"fold_rule\":(lambda fold : \"seen\" + str(fold)),\n",
    "        \"model\":\"catboost\",\n",
    "        \"submit\": False,\n",
    "        \"task\": \"reg\",\n",
    "        \"submit_path\": \"seen.csv\",\n",
    "    },\n",
    "    model_params={\n",
    "        \"name\": \"seen-model-reg-v1\",\n",
    "        \"iterations\": 10,\n",
    "        \"learning_rate\": 0.05,\n",
    "        \"random_seed\":34,\n",
    "        \"cat_features\": [\"anime_id\", \"user\", \"gender\"],\n",
    "    },\n",
    "    train_params={\n",
    "        \"early_stopping_rounds\": 100,\n",
    "        \"verbose\": False,\n",
    "    }\n",
    ")"
   ]
  },
  {
   "cell_type": "code",
   "execution_count": 3,
   "id": "0b1d2cdc-a93d-4188-ba6e-31cf77ab1ef6",
   "metadata": {},
   "outputs": [
    {
     "name": "stdout",
     "output_type": "stream",
     "text": [
      "[2023-08-27 00:17:21.163668] train columns -> test columns\n",
      "[2023-08-27 00:17:21.163922] anime_id -> test_unseen_anime_id\n",
      "[2023-08-27 00:17:21.163939] episodes -> test_unseen_episodes\n",
      "[2023-08-27 00:17:21.163948] members -> test_unseen_members\n",
      "[2023-08-27 00:17:21.163957] popularity -> test_unseen_popularity\n",
      "[2023-08-27 00:17:21.163965] ranked -> test_unseen_ranked\n",
      "[2023-08-27 00:17:21.163974] start_month -> test_unseen_start_month\n",
      "[2023-08-27 00:17:21.163982] start_day -> test_unseen_start_day\n",
      "[2023-08-27 00:17:21.163990] start_year -> test_unseen_start_year\n",
      "[2023-08-27 00:17:21.163998] end_month -> test_unseen_end_month\n",
      "[2023-08-27 00:17:21.164007] end_day -> test_unseen_end_day\n",
      "[2023-08-27 00:17:21.164015] end_year -> test_unseen_end_year\n",
      "[2023-08-27 00:17:21.164023] len_year -> test_unseen_len_year\n",
      "[2023-08-27 00:17:21.164031] len_month -> test_unseen_len_month\n",
      "[2023-08-27 00:17:21.164039] len_day -> test_unseen_len_day\n",
      "[2023-08-27 00:17:21.164047] episode_per_month -> test_unseen_episode_per_month\n",
      "[2023-08-27 00:17:21.164055] episode_per_day -> test_unseen_episode_per_day\n",
      "[2023-08-27 00:17:21.164064] Action -> test_unseen_Action\n",
      "[2023-08-27 00:17:21.164072] Adventure -> test_unseen_Adventure\n",
      "[2023-08-27 00:17:21.164080] Cars -> test_unseen_Cars\n",
      "[2023-08-27 00:17:21.164088] Comedy -> test_unseen_Comedy\n",
      "[2023-08-27 00:17:21.164096] Dementia -> test_unseen_Dementia\n",
      "[2023-08-27 00:17:21.164104] Demons -> test_unseen_Demons\n",
      "[2023-08-27 00:17:21.164112] Drama -> test_unseen_Drama\n",
      "[2023-08-27 00:17:21.164120] Ecchi -> test_unseen_Ecchi\n",
      "[2023-08-27 00:17:21.164128] Fantasy -> test_unseen_Fantasy\n",
      "[2023-08-27 00:17:21.164136] Game -> test_unseen_Game\n",
      "[2023-08-27 00:17:21.164143] Harem -> test_unseen_Harem\n",
      "[2023-08-27 00:17:21.164152] Hentai -> test_unseen_Hentai\n",
      "[2023-08-27 00:17:21.164160] Historical -> test_unseen_Historical\n",
      "[2023-08-27 00:17:21.164168] Horror -> test_unseen_Horror\n",
      "[2023-08-27 00:17:21.164175] Josei -> test_unseen_Josei\n",
      "[2023-08-27 00:17:21.164183] Kids -> test_unseen_Kids\n",
      "[2023-08-27 00:17:21.164192] Magic -> test_unseen_Magic\n",
      "[2023-08-27 00:17:21.164200] Martial Arts -> test_unseen_Martial Arts\n",
      "[2023-08-27 00:17:21.164208] Mecha -> test_unseen_Mecha\n",
      "[2023-08-27 00:17:21.164216] Military -> test_unseen_Military\n",
      "[2023-08-27 00:17:21.164224] Music -> test_unseen_Music\n",
      "[2023-08-27 00:17:21.164233] Mystery -> test_unseen_Mystery\n",
      "[2023-08-27 00:17:21.164240] None -> test_unseen_None\n",
      "[2023-08-27 00:17:21.164248] Parody -> test_unseen_Parody\n",
      "[2023-08-27 00:17:21.164256] Police -> test_unseen_Police\n",
      "[2023-08-27 00:17:21.164264] Psychological -> test_unseen_Psychological\n",
      "[2023-08-27 00:17:21.164272] Romance -> test_unseen_Romance\n",
      "[2023-08-27 00:17:21.164280] Samurai -> test_unseen_Samurai\n",
      "[2023-08-27 00:17:21.164288] School -> test_unseen_School\n",
      "[2023-08-27 00:17:21.164296] Sci-Fi -> test_unseen_Sci-Fi\n",
      "[2023-08-27 00:17:21.164304] Seinen -> test_unseen_Seinen\n",
      "[2023-08-27 00:17:21.164312] Shoujo -> test_unseen_Shoujo\n",
      "[2023-08-27 00:17:21.164320] Shoujo Ai -> test_unseen_Shoujo Ai\n",
      "[2023-08-27 00:17:21.164328] Shounen -> test_unseen_Shounen\n",
      "[2023-08-27 00:17:21.164337] Shounen Ai -> test_unseen_Shounen Ai\n",
      "[2023-08-27 00:17:21.164345] Slice of Life -> test_unseen_Slice of Life\n",
      "[2023-08-27 00:17:21.164353] Space -> test_unseen_Space\n",
      "[2023-08-27 00:17:21.164361] Sports -> test_unseen_Sports\n",
      "[2023-08-27 00:17:21.164369] Super Power -> test_unseen_Super Power\n",
      "[2023-08-27 00:17:21.164377] Supernatural -> test_unseen_Supernatural\n",
      "[2023-08-27 00:17:21.164385] Thriller -> test_unseen_Thriller\n",
      "[2023-08-27 00:17:21.164393] Vampire -> test_unseen_Vampire\n",
      "[2023-08-27 00:17:21.164401] Yaoi -> test_unseen_Yaoi\n",
      "[2023-08-27 00:17:21.164408] Yuri -> test_unseen_Yuri\n",
      "[2023-08-27 00:17:21.164416] birth_year -> test_unseen_birth_year\n",
      "[2023-08-27 00:17:21.164424] gender -> test_unseen_gender\n"
     ]
    },
    {
     "data": {
      "application/vnd.jupyter.widget-view+json": {
       "model_id": "cae94da3b4794bc3962550df71c8de63",
       "version_major": 2,
       "version_minor": 0
      },
      "text/plain": [
       "VBox(children=(Label(value='Waiting for wandb.init()...\\r'), FloatProgress(value=0.016752456949999998, max=1.0…"
      ]
     },
     "metadata": {},
     "output_type": "display_data"
    },
    {
     "data": {
      "text/html": [
       "Tracking run with wandb version 0.15.8"
      ],
      "text/plain": [
       "<IPython.core.display.HTML object>"
      ]
     },
     "metadata": {},
     "output_type": "display_data"
    },
    {
     "data": {
      "text/html": [
       "Run data is saved locally in <code>/Users/yuchi/Desktop/tracon-2023-8/exp/exp06/wandb/run-20230827_001721-hgrukxbf</code>"
      ],
      "text/plain": [
       "<IPython.core.display.HTML object>"
      ]
     },
     "metadata": {},
     "output_type": "display_data"
    },
    {
     "data": {
      "text/html": [
       "Syncing run <strong><a href='https://wandb.ai/abap/tracon-2023-8/runs/hgrukxbf' target=\"_blank\">cb-baseline</a></strong> to <a href='https://wandb.ai/abap/tracon-2023-8' target=\"_blank\">Weights & Biases</a> (<a href='https://wandb.me/run' target=\"_blank\">docs</a>)<br/>"
      ],
      "text/plain": [
       "<IPython.core.display.HTML object>"
      ]
     },
     "metadata": {},
     "output_type": "display_data"
    },
    {
     "data": {
      "text/html": [
       " View project at <a href='https://wandb.ai/abap/tracon-2023-8' target=\"_blank\">https://wandb.ai/abap/tracon-2023-8</a>"
      ],
      "text/plain": [
       "<IPython.core.display.HTML object>"
      ]
     },
     "metadata": {},
     "output_type": "display_data"
    },
    {
     "data": {
      "text/html": [
       " View run at <a href='https://wandb.ai/abap/tracon-2023-8/runs/hgrukxbf' target=\"_blank\">https://wandb.ai/abap/tracon-2023-8/runs/hgrukxbf</a>"
      ],
      "text/plain": [
       "<IPython.core.display.HTML object>"
      ]
     },
     "metadata": {},
     "output_type": "display_data"
    },
    {
     "name": "stderr",
     "output_type": "stream",
     "text": [
      "load train columns: 100%|████████████████████████████████████████████████████████████████████████████████████████████████████████████████████████████████████████| 62/62 [00:00<00:00, 560.79it/s, load gender]\n",
      "load test columns: 100%|█████████████████████████████████████████████████████████████████████████████████████████████████████████████████████████████| 62/62 [00:00<00:00, 862.54it/s, load test_unseen_gender]\n",
      "/Users/yuchi/Library/Python/3.9/lib/python/site-packages/sklearn/model_selection/_split.py:909: UserWarning: The least populated class in y has only 1 members, which is less than n_splits=4.\n",
      "  warnings.warn(\n"
     ]
    },
    {
     "name": "stdout",
     "output_type": "stream",
     "text": [
      "[2023-08-27 00:17:23.270451] start training\n",
      "(77961,) (27388,)\n",
      "[2023-08-27 00:17:27.123751] start fold: 0\n",
      "(79311,) (26038,)\n",
      "[2023-08-27 00:17:33.936668] start fold: 1\n",
      "(79541,) (25808,)\n",
      "[2023-08-27 00:17:44.074054] start fold: 2\n",
      "(79234,) (26115,)\n",
      "[2023-08-27 00:17:48.725443] start fold: 3\n",
      "[2023-08-27 00:17:56.262618] Finish Train. val_loss: 4.242339612674383\n",
      "[2023-08-27 00:17:56.275924] save submit file: /Users/yuchi/Desktop/tracon-2023-8/exp/exp06/unseen.csv\n"
     ]
    },
    {
     "data": {
      "text/html": [
       "Waiting for W&B process to finish... <strong style=\"color:green\">(success).</strong>"
      ],
      "text/plain": [
       "<IPython.core.display.HTML object>"
      ]
     },
     "metadata": {},
     "output_type": "display_data"
    },
    {
     "data": {
      "text/html": [
       "<style>\n",
       "    table.wandb td:nth-child(1) { padding: 0 10px; text-align: left ; width: auto;} td:nth-child(2) {text-align: left ; width: 100%}\n",
       "    .wandb-row { display: flex; flex-direction: row; flex-wrap: wrap; justify-content: flex-start; width: 100% }\n",
       "    .wandb-col { display: flex; flex-direction: column; flex-basis: 100%; flex: 1; padding: 10px; }\n",
       "    </style>\n",
       "<div class=\"wandb-row\"><div class=\"wandb-col\"><h3>Run history:</h3><br/><table class=\"wandb\"><tr><td>train/0</td><td>█▆▄▃▃▃▃▂▂▂▂▂▂▂▂▂▂▂▂▂▂▂▂▂▂▁▁▁▁▁▁▁▁▁▁▁▁▁▁▁</td></tr><tr><td>train/1</td><td>███▇▇▇▇▇▇▆▆▆▆▆▅▅▅▅▅▄▄▄▄▄▃▃▃▃▃▃▃▂▂▂▂▂▁▁▁▁</td></tr><tr><td>val/0</td><td>█▅▃▂▁▁▁▁▁▁▁▁▁▁▁▁▁▁▁▁▁▁▁▁▁▁▁▁▁▁▁▁▁▁▁▁▁▁▁▁</td></tr><tr><td>val/1</td><td>▇▆██▆▆▆▇█▇▆▆▆▅▄▄▅▄▄▄▃▄▄▄▃▁▂▃▃▅▅▆▅▆▅▅▅▅▅▅</td></tr></table><br/></div><div class=\"wandb-col\"><h3>Run summary:</h3><br/><table class=\"wandb\"><tr><td>train/0</td><td>4.0564</td></tr><tr><td>train/1</td><td>4.04453</td></tr><tr><td>val/0</td><td>4.3517</td></tr><tr><td>val/1</td><td>4.1763</td></tr></table><br/></div></div>"
      ],
      "text/plain": [
       "<IPython.core.display.HTML object>"
      ]
     },
     "metadata": {},
     "output_type": "display_data"
    },
    {
     "data": {
      "text/html": [
       " View run <strong style=\"color:#cdcd00\">cb-baseline</strong> at: <a href='https://wandb.ai/abap/tracon-2023-8/runs/hgrukxbf' target=\"_blank\">https://wandb.ai/abap/tracon-2023-8/runs/hgrukxbf</a><br/> View job at <a href='https://wandb.ai/abap/tracon-2023-8/jobs/QXJ0aWZhY3RDb2xsZWN0aW9uOjkyOTkyMzcz/version_details/v16' target=\"_blank\">https://wandb.ai/abap/tracon-2023-8/jobs/QXJ0aWZhY3RDb2xsZWN0aW9uOjkyOTkyMzcz/version_details/v16</a><br/>Synced 5 W&B file(s), 4 media file(s), 0 artifact file(s) and 0 other file(s)"
      ],
      "text/plain": [
       "<IPython.core.display.HTML object>"
      ]
     },
     "metadata": {},
     "output_type": "display_data"
    },
    {
     "data": {
      "text/html": [
       "Find logs at: <code>./wandb/run-20230827_001721-hgrukxbf/logs</code>"
      ],
      "text/plain": [
       "<IPython.core.display.HTML object>"
      ]
     },
     "metadata": {},
     "output_type": "display_data"
    }
   ],
   "source": [
    "run(\n",
    "    in_columns=[\"anime_id\", 'episodes', 'members',\n",
    "       'popularity', 'ranked', 'start_month', 'start_day', 'start_year',\n",
    "       'end_month', 'end_day', 'end_year', 'len_year', 'len_month', 'len_day',\n",
    "       'episode_per_month', 'episode_per_day',  'Action',\n",
    "       'Adventure', 'Cars', 'Comedy', 'Dementia', 'Demons', 'Drama', 'Ecchi',\n",
    "       'Fantasy', 'Game', 'Harem', 'Hentai', 'Historical', 'Horror', 'Josei',\n",
    "       'Kids', 'Magic', 'Martial Arts', 'Mecha', 'Military', 'Music',\n",
    "       'Mystery', 'None', 'Parody', 'Police', 'Psychological', 'Romance',\n",
    "       'Samurai', 'School', 'Sci-Fi', 'Seinen', 'Shoujo', 'Shoujo Ai',\n",
    "       'Shounen', 'Shounen Ai', 'Slice of Life', 'Space', 'Sports',\n",
    "       'Super Power', 'Supernatural', 'Thriller', 'Vampire', 'Yaoi', 'Yuri', \n",
    "        'birth_year', 'gender'],\n",
    "    target_column=\"score\",\n",
    "    test_prefix=\"test_unseen\",\n",
    "    test_id=\"test_unseen_ID\",\n",
    "    run_config={\n",
    "        \"name\": \"cb-baseline\",\n",
    "        \"prefix\":\"unseen\",\n",
    "        \"model\":\"catboost\",\n",
    "        \"fold_rule\":(lambda fold : \"unseen\" + str(fold)),\n",
    "        \"submit\": False,\n",
    "        \"task\": \"reg\",\n",
    "        \"submit_path\": \"unseen.csv\",\n",
    "        \"groupkfold\": \"user_id\"\n",
    "    },\n",
    "    model_params={\n",
    "        \"name\": \"seen-model-reg-v1\",\n",
    "        \"iterations\": 10000,\n",
    "        \"learning_rate\": 0.05,\n",
    "        \"random_seed\":34,\n",
    "        \"cat_features\": [\"anime_id\", \"gender\"],\n",
    "    },\n",
    "    train_params={\n",
    "        \"early_stopping_rounds\": 100,\n",
    "        \"verbose\": False,\n",
    "    }\n",
    ")"
   ]
  },
  {
   "cell_type": "code",
   "execution_count": 4,
   "id": "3e3cb3dd-cfd4-4eee-8ba1-b8b510c48e40",
   "metadata": {},
   "outputs": [],
   "source": [
    "sample_submission = pd.read_csv('../../data/sample_submission.csv')"
   ]
  },
  {
   "cell_type": "code",
   "execution_count": 5,
   "id": "4d983054-5b29-447d-aad2-e01947468b97",
   "metadata": {},
   "outputs": [],
   "source": [
    "seen_pred = pd.read_csv('seen.csv')\n",
    "unseen_pred = pd.read_csv('unseen.csv')"
   ]
  },
  {
   "cell_type": "code",
   "execution_count": 6,
   "id": "87b134da-8f38-4443-9547-060df6563cc9",
   "metadata": {},
   "outputs": [],
   "source": [
    "sample_seen = pd.merge(\n",
    "    sample_submission, seen_pred, on=\"ID\",  how='left'\n",
    ")[[\"ID\", \"score_y\"]].rename(columns={\"score_y\": \"score\"})\n",
    "\n",
    "final_pred = pd.merge(\n",
    "    sample_seen, unseen_pred, on=\"ID\",  how='left'\n",
    ")\n",
    "\n",
    "final_pred[\"score\"] = final_pred[\"score_x\"].fillna(final_pred[\"score_y\"])"
   ]
  },
  {
   "cell_type": "code",
   "execution_count": 7,
   "id": "fdc51aac-1f78-472b-be59-e43aca34e238",
   "metadata": {},
   "outputs": [],
   "source": [
    "label = pd.read_csv('../../data/solution.csv')"
   ]
  },
  {
   "cell_type": "code",
   "execution_count": 8,
   "id": "91f7467d-f366-4375-8eae-f57f50abbe53",
   "metadata": {},
   "outputs": [],
   "source": [
    "label['seen'] = label['ID'].isin(seen_pred['ID'].values)"
   ]
  },
  {
   "cell_type": "code",
   "execution_count": 9,
   "id": "262c006c-56c9-4ccd-98fa-2c411390bde3",
   "metadata": {},
   "outputs": [],
   "source": [
    "from sklearn.metrics import mean_squared_error"
   ]
  },
  {
   "cell_type": "code",
   "execution_count": 10,
   "id": "15bceccc-b3ff-476d-aa57-0f76b2b2ad4b",
   "metadata": {},
   "outputs": [
    {
     "data": {
      "text/plain": [
       "4.370514532956658"
      ]
     },
     "execution_count": 10,
     "metadata": {},
     "output_type": "execute_result"
    }
   ],
   "source": [
    "mean_squared_error(label[label['seen']]['score'], seen_pred['score'])"
   ]
  },
  {
   "cell_type": "code",
   "execution_count": 11,
   "id": "251dcd82-b036-40d6-8cd2-08120f19896d",
   "metadata": {},
   "outputs": [
    {
     "data": {
      "text/plain": [
       "4.751386452530943"
      ]
     },
     "execution_count": 11,
     "metadata": {},
     "output_type": "execute_result"
    }
   ],
   "source": [
    "mean_squared_error(label[~label['seen']]['score'], unseen_pred['score'])"
   ]
  },
  {
   "cell_type": "code",
   "execution_count": 12,
   "id": "1e6d0e4f-2fe7-4021-91f5-cea22dcd4701",
   "metadata": {},
   "outputs": [],
   "source": [
    "final_pred[['ID', 'score']].to_csv('result.csv', index=False)"
   ]
  },
  {
   "cell_type": "code",
   "execution_count": 13,
   "id": "86706101-d442-40aa-9352-6287837e11ce",
   "metadata": {},
   "outputs": [
    {
     "name": "stdout",
     "output_type": "stream",
     "text": [
      "alias: -m: unknown option\n",
      "100%|█████████████████████████████████████████| 842k/842k [00:03<00:00, 256kB/s]\n",
      "Successfully submitted to traPコンペ 2023 夏"
     ]
    }
   ],
   "source": [
    "!kaggle competitions submit -c trap-competetion-2023-summer -f result.csv -m \"\""
   ]
  }
 ],
 "metadata": {
  "kernelspec": {
   "display_name": "Python 3 (ipykernel)",
   "language": "python",
   "name": "python3"
  },
  "language_info": {
   "codemirror_mode": {
    "name": "ipython",
    "version": 3
   },
   "file_extension": ".py",
   "mimetype": "text/x-python",
   "name": "python",
   "nbconvert_exporter": "python",
   "pygments_lexer": "ipython3",
   "version": "3.9.6"
  }
 },
 "nbformat": 4,
 "nbformat_minor": 5
}
