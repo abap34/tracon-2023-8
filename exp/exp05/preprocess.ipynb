{
 "cells": [
  {
   "cell_type": "code",
   "execution_count": 30,
   "metadata": {},
   "outputs": [],
   "source": [
    "import sys\n",
    "sys.path.append('../../src')\n",
    "\n",
    "import pandas as pd\n",
    "import numpy as np\n",
    "\n",
    "from run import run\n",
    "from utils import save_all_columns, save_columns"
   ]
  },
  {
   "cell_type": "code",
   "execution_count": 31,
   "metadata": {},
   "outputs": [],
   "source": [
    "train = pd.read_csv('../../data/train.csv')\n",
    "test = pd.read_csv('../../data/test.csv')\n",
    "anime = pd.read_csv('../../data/anime.csv')\n",
    "profile = pd.read_csv('../../data/profile.csv')"
   ]
  },
  {
   "cell_type": "code",
   "execution_count": 32,
   "metadata": {},
   "outputs": [],
   "source": [
    "test_seen = test[test[\"user\"].isin(train[\"user\"])].reset_index(drop=True)\n",
    "test_unseen = test[~test[\"user\"].isin(train[\"user\"])].reset_index(drop=True)"
   ]
  },
  {
   "cell_type": "code",
   "execution_count": 33,
   "metadata": {},
   "outputs": [],
   "source": [
    "import re\n",
    "def get_story(text):\n",
    "    pattern = r\"Story\\s*\\n\\s*(\\d+)\"\n",
    "    matches = re.findall(pattern, text)\n",
    "    return int(matches[0])\n",
    "\n",
    "def get_animation(text):\n",
    "    pattern = r\"Animation\\s*\\n\\s*(\\d+)\"\n",
    "    matches = re.findall(pattern, text)\n",
    "    return int(matches[0])"
   ]
  },
  {
   "cell_type": "code",
   "execution_count": 34,
   "metadata": {},
   "outputs": [],
   "source": [
    "train['story_point'] = train['text'].apply(get_story)\n",
    "train['anime_point'] = train['text'].apply(get_animation)"
   ]
  },
  {
   "cell_type": "code",
   "execution_count": 35,
   "metadata": {},
   "outputs": [],
   "source": [
    "train['story_point_mean'] = train['user'].map(train.groupby('user')['story_point'].mean())\n",
    "train['story_point_std'] = train['user'].map(train.groupby('user')['story_point'].std())\n",
    "\n",
    "test_seen['story_point_mean'] = test_seen['user'].map(train.groupby('user')['story_point'].mean())\n",
    "test_seen['story_point_std'] = test_seen['user'].map(train.groupby('user')['story_point'].std())"
   ]
  },
  {
   "cell_type": "code",
   "execution_count": 36,
   "metadata": {},
   "outputs": [],
   "source": [
    "save_columns(train['story_point_mean'], 'train', col_rename='story_point_mean')\n",
    "save_columns(test_seen['story_point_mean'], 'test', col_rename='test_seen_story_point_mean')\n",
    "\n",
    "save_columns(train['story_point_std'], 'train', col_rename='story_point_std')\n",
    "save_columns(test_seen['story_point_std'], 'test', col_rename='test_seen_story_point_std')"
   ]
  },
  {
   "cell_type": "code",
   "execution_count": 37,
   "metadata": {},
   "outputs": [],
   "source": [
    "train['anime_point_mean'] = train['user'].map(train.groupby('user')['anime_point'].mean())\n",
    "train['anime_point_std'] = train['user'].map(train.groupby('user')['anime_point'].std())\n",
    "\n",
    "test_seen['anime_point_mean'] = test_seen['user'].map(train.groupby('user')['anime_point'].mean())\n",
    "test_seen['anime_point_std'] = test_seen['user'].map(train.groupby('user')['anime_point'].std())\n",
    "\n",
    "\n",
    "save_columns(train['anime_point_mean'], 'train', col_rename='anime_point_mean')\n",
    "save_columns(test_seen['anime_point_mean'], 'test', col_rename='test_seen_anime_point_mean')\n",
    "\n",
    "save_columns(train['anime_point_std'], 'train', col_rename='anime_point_std')\n",
    "save_columns(test_seen['anime_point_std'], 'test', col_rename='test_seen_anime_point_std')"
   ]
  },
  {
   "cell_type": "code",
   "execution_count": null,
   "metadata": {},
   "outputs": [],
   "source": []
  }
 ],
 "metadata": {
  "kernelspec": {
   "display_name": "Python 3 (ipykernel)",
   "language": "python",
   "name": "python3"
  },
  "language_info": {
   "codemirror_mode": {
    "name": "ipython",
    "version": 3
   },
   "file_extension": ".py",
   "mimetype": "text/x-python",
   "name": "python",
   "nbconvert_exporter": "python",
   "pygments_lexer": "ipython3",
   "version": "3.9.6"
  }
 },
 "nbformat": 4,
 "nbformat_minor": 4
}
