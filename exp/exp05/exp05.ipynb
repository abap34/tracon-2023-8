{
 "cells": [
  {
   "cell_type": "code",
   "execution_count": 1,
   "id": "2ed471fd-32dc-4795-9be0-e8d021cc9b8d",
   "metadata": {},
   "outputs": [
    {
     "name": "stdout",
     "output_type": "stream",
     "text": [
      "register model: lightgbm\n",
      "register model: catboost\n",
      "register model: catboost_class\n"
     ]
    }
   ],
   "source": [
    "import sys\n",
    "sys.path.append('../../src')\n",
    "\n",
    "import pandas as pd\n",
    "\n",
    "from run import run\n",
    "from utils import save_all_columns"
   ]
  },
  {
   "cell_type": "code",
   "execution_count": 6,
   "id": "cdb87ab9-2262-4744-aed2-fda5453c1a2d",
   "metadata": {},
   "outputs": [
    {
     "name": "stdout",
     "output_type": "stream",
     "text": [
      "[2023-08-26 21:59:53.346480] train columns -> test columns\n",
      "anime_id -> test_seen_anime_id\n",
      "user -> test_seen_user\n",
      "user_count_encoding -> test_seen_user_count_encoding\n",
      "anime_point_mean -> test_seen_anime_point_mean\n",
      "anime_point_std -> test_seen_anime_point_std\n",
      "story_point_mean -> test_seen_story_point_mean\n",
      "story_point_std -> test_seen_story_point_std\n",
      "text_len_max -> test_seen_text_len_max\n",
      "text_len_mean -> test_seen_text_len_mean\n",
      "text_len_min -> test_seen_text_len_min\n",
      "text_len_std -> test_seen_text_len_std\n"
     ]
    },
    {
     "data": {
      "text/html": [
       "Finishing last run (ID:uod2pbej) before initializing another..."
      ],
      "text/plain": [
       "<IPython.core.display.HTML object>"
      ]
     },
     "metadata": {},
     "output_type": "display_data"
    },
    {
     "data": {
      "text/html": [
       "Waiting for W&B process to finish... <strong style=\"color:green\">(success).</strong>"
      ],
      "text/plain": [
       "<IPython.core.display.HTML object>"
      ]
     },
     "metadata": {},
     "output_type": "display_data"
    },
    {
     "data": {
      "application/vnd.jupyter.widget-view+json": {
       "model_id": "03f2d2ac39f3435a96262f6255ad12c8",
       "version_major": 2,
       "version_minor": 0
      },
      "text/plain": [
       "VBox(children=(Label(value='0.001 MB of 0.001 MB uploaded (0.000 MB deduped)\\r'), FloatProgress(value=1.0, max…"
      ]
     },
     "metadata": {},
     "output_type": "display_data"
    },
    {
     "data": {
      "text/html": [
       " View run <strong style=\"color:#cdcd00\">story_point</strong> at: <a href='https://wandb.ai/abap/tracon-2023-8/runs/uod2pbej' target=\"_blank\">https://wandb.ai/abap/tracon-2023-8/runs/uod2pbej</a><br/> View job at <a href='https://wandb.ai/abap/tracon-2023-8/jobs/QXJ0aWZhY3RDb2xsZWN0aW9uOjkyOTg2NzU5/version_details/v0' target=\"_blank\">https://wandb.ai/abap/tracon-2023-8/jobs/QXJ0aWZhY3RDb2xsZWN0aW9uOjkyOTg2NzU5/version_details/v0</a><br/>Synced 5 W&B file(s), 0 media file(s), 2 artifact file(s) and 0 other file(s)"
      ],
      "text/plain": [
       "<IPython.core.display.HTML object>"
      ]
     },
     "metadata": {},
     "output_type": "display_data"
    },
    {
     "data": {
      "text/html": [
       "Find logs at: <code>./wandb/run-20230826_215927-uod2pbej/logs</code>"
      ],
      "text/plain": [
       "<IPython.core.display.HTML object>"
      ]
     },
     "metadata": {},
     "output_type": "display_data"
    },
    {
     "data": {
      "text/html": [
       "Successfully finished last run (ID:uod2pbej). Initializing new run:<br/>"
      ],
      "text/plain": [
       "<IPython.core.display.HTML object>"
      ]
     },
     "metadata": {},
     "output_type": "display_data"
    },
    {
     "data": {
      "application/vnd.jupyter.widget-view+json": {
       "model_id": "bb4a11b882e04a808f53cfd1bdfd23b3",
       "version_major": 2,
       "version_minor": 0
      },
      "text/plain": [
       "VBox(children=(Label(value='Waiting for wandb.init()...\\r'), FloatProgress(value=0.016751897916666654, max=1.0…"
      ]
     },
     "metadata": {},
     "output_type": "display_data"
    },
    {
     "data": {
      "text/html": [
       "Tracking run with wandb version 0.15.8"
      ],
      "text/plain": [
       "<IPython.core.display.HTML object>"
      ]
     },
     "metadata": {},
     "output_type": "display_data"
    },
    {
     "data": {
      "text/html": [
       "Run data is saved locally in <code>/Users/yuchi/Desktop/tracon-2023-8/exp/exp05/wandb/run-20230826_215953-e06o84wq</code>"
      ],
      "text/plain": [
       "<IPython.core.display.HTML object>"
      ]
     },
     "metadata": {},
     "output_type": "display_data"
    },
    {
     "data": {
      "text/html": [
       "Syncing run <strong><a href='https://wandb.ai/abap/tracon-2023-8/runs/e06o84wq' target=\"_blank\">story_point</a></strong> to <a href='https://wandb.ai/abap/tracon-2023-8' target=\"_blank\">Weights & Biases</a> (<a href='https://wandb.me/run' target=\"_blank\">docs</a>)<br/>"
      ],
      "text/plain": [
       "<IPython.core.display.HTML object>"
      ]
     },
     "metadata": {},
     "output_type": "display_data"
    },
    {
     "data": {
      "text/html": [
       " View project at <a href='https://wandb.ai/abap/tracon-2023-8' target=\"_blank\">https://wandb.ai/abap/tracon-2023-8</a>"
      ],
      "text/plain": [
       "<IPython.core.display.HTML object>"
      ]
     },
     "metadata": {},
     "output_type": "display_data"
    },
    {
     "data": {
      "text/html": [
       " View run at <a href='https://wandb.ai/abap/tracon-2023-8/runs/e06o84wq' target=\"_blank\">https://wandb.ai/abap/tracon-2023-8/runs/e06o84wq</a>"
      ],
      "text/plain": [
       "<IPython.core.display.HTML object>"
      ]
     },
     "metadata": {},
     "output_type": "display_data"
    },
    {
     "name": "stderr",
     "output_type": "stream",
     "text": [
      "load train columns: 100%|██████████████████████████████████████████████████████████████████████████████████████████████████████████████████████████████████| 11/11 [00:00<00:00, 309.25it/s, load text_len_std]\n",
      "load test columns: 100%|█████████████████████████████████████████████████████████████████████████████████████████████████████████████████████████| 11/11 [00:00<00:00, 544.59it/s, load test_seen_text_len_std]\n",
      "/Users/yuchi/Library/Python/3.9/lib/python/site-packages/sklearn/model_selection/_split.py:700: UserWarning: The least populated class in y has only 1 members, which is less than n_splits=4.\n",
      "  warnings.warn(\n"
     ]
    },
    {
     "name": "stdout",
     "output_type": "stream",
     "text": [
      "[2023-08-26 22:00:03.475385] start training\n",
      "[2023-08-26 22:00:03.499193] start fold: 0\n",
      "[2023-08-26 22:00:51.908471] start fold: 1\n",
      "[2023-08-26 22:01:38.985520] start fold: 2\n",
      "[2023-08-26 22:02:15.583232] start fold: 3\n",
      "[2023-08-26 22:02:45.429081] save submit file: /Users/yuchi/Desktop/tracon-2023-8/exp/exp05/seen.csv\n"
     ]
    },
    {
     "data": {
      "text/html": [
       "Waiting for W&B process to finish... <strong style=\"color:green\">(success).</strong>"
      ],
      "text/plain": [
       "<IPython.core.display.HTML object>"
      ]
     },
     "metadata": {},
     "output_type": "display_data"
    },
    {
     "data": {
      "text/html": [
       "<style>\n",
       "    table.wandb td:nth-child(1) { padding: 0 10px; text-align: left ; width: auto;} td:nth-child(2) {text-align: left ; width: 100%}\n",
       "    .wandb-row { display: flex; flex-direction: row; flex-wrap: wrap; justify-content: flex-start; width: 100% }\n",
       "    .wandb-col { display: flex; flex-direction: column; flex-basis: 100%; flex: 1; padding: 10px; }\n",
       "    </style>\n",
       "<div class=\"wandb-row\"><div class=\"wandb-col\"><h3>Run history:</h3><br/><table class=\"wandb\"><tr><td>train/0</td><td>█▄▃▂▂▂▂▂▁▁▁▁▁▁▁▁▁▁▁▁▁▁▁▁▁▁▁▁▁▁▁▁▁▁▁▁▁▁▁▁</td></tr><tr><td>train/1</td><td>███▇▇▇▇▇▇▆▆▆▆▆▅▅▅▅▅▅▄▄▄▄▄▃▃▃▃▃▂▂▂▂▂▂▁▁▁▁</td></tr><tr><td>val/0</td><td>█▄▃▂▂▂▁▁▁▁▁▁▁▁▁▁▁▁▁▁▁▁▁▁▁▁▁▁▁▁▁▁▁▁▁▁▁▁▁▁</td></tr><tr><td>val/1</td><td>██▇▇▇▇▆▇▆▆▆▆▆▅▅▅▅▅▄▄▄▄▄▃▃▃▃▂▂▂▂▂▂▂▂▁▁▁▁▁</td></tr></table><br/></div><div class=\"wandb-col\"><h3>Run summary:</h3><br/><table class=\"wandb\"><tr><td>train/0</td><td>2.3279</td></tr><tr><td>train/1</td><td>2.34613</td></tr><tr><td>val/0</td><td>2.34018</td></tr><tr><td>val/1</td><td>2.26158</td></tr></table><br/></div></div>"
      ],
      "text/plain": [
       "<IPython.core.display.HTML object>"
      ]
     },
     "metadata": {},
     "output_type": "display_data"
    },
    {
     "data": {
      "text/html": [
       " View run <strong style=\"color:#cdcd00\">story_point</strong> at: <a href='https://wandb.ai/abap/tracon-2023-8/runs/e06o84wq' target=\"_blank\">https://wandb.ai/abap/tracon-2023-8/runs/e06o84wq</a><br/> View job at <a href='https://wandb.ai/abap/tracon-2023-8/jobs/QXJ0aWZhY3RDb2xsZWN0aW9uOjkyOTg2NzU5/version_details/v1' target=\"_blank\">https://wandb.ai/abap/tracon-2023-8/jobs/QXJ0aWZhY3RDb2xsZWN0aW9uOjkyOTg2NzU5/version_details/v1</a><br/>Synced 5 W&B file(s), 4 media file(s), 2 artifact file(s) and 0 other file(s)"
      ],
      "text/plain": [
       "<IPython.core.display.HTML object>"
      ]
     },
     "metadata": {},
     "output_type": "display_data"
    },
    {
     "data": {
      "text/html": [
       "Find logs at: <code>./wandb/run-20230826_215953-e06o84wq/logs</code>"
      ],
      "text/plain": [
       "<IPython.core.display.HTML object>"
      ]
     },
     "metadata": {},
     "output_type": "display_data"
    }
   ],
   "source": [
    "run(\n",
    "    in_columns=[\"anime_id\", \"user\", \"user_count_encoding\", \"*_point_*\", \"text_len_*\"],\n",
    "    target_column=\"score\",\n",
    "    test_prefix=\"test_seen\",\n",
    "    test_id=\"test_seen_ID\",\n",
    "    run_config={\n",
    "        \"name\":\"story_point\",\n",
    "        \"fold-rule\":(lambda fold : \"seen\" + str(fold)),\n",
    "        \"model\":\"catboost\",\n",
    "        \"submit\": False,\n",
    "        \"task\": \"reg\",\n",
    "        \"submit_path\": \"seen.csv\",\n",
    "    },\n",
    "    model_params={\n",
    "        \"name\": \"seen-model-reg-v1\",\n",
    "        \"iterations\": 10000,\n",
    "        \"learning_rate\": 0.01,\n",
    "        \"depth\": 5,\n",
    "        \"cat_features\": [\"anime_id\", \"user\"],\n",
    "    },\n",
    "    train_params={\n",
    "        \"early_stopping_rounds\": 10,\n",
    "        \"verbose\": False,\n",
    "    }\n",
    ")"
   ]
  },
  {
   "cell_type": "code",
   "execution_count": 7,
   "id": "0b1d2cdc-a93d-4188-ba6e-31cf77ab1ef6",
   "metadata": {},
   "outputs": [
    {
     "name": "stdout",
     "output_type": "stream",
     "text": [
      "[2023-08-26 22:02:54.952546] train columns -> test columns\n",
      "anime_id -> test_unseen_anime_id\n",
      "user -> test_unseen_user\n"
     ]
    },
    {
     "data": {
      "application/vnd.jupyter.widget-view+json": {
       "model_id": "b94d245ab5bb4cccac69524ccf02439f",
       "version_major": 2,
       "version_minor": 0
      },
      "text/plain": [
       "VBox(children=(Label(value='Waiting for wandb.init()...\\r'), FloatProgress(value=0.016752663883333695, max=1.0…"
      ]
     },
     "metadata": {},
     "output_type": "display_data"
    },
    {
     "data": {
      "text/html": [
       "Tracking run with wandb version 0.15.8"
      ],
      "text/plain": [
       "<IPython.core.display.HTML object>"
      ]
     },
     "metadata": {},
     "output_type": "display_data"
    },
    {
     "data": {
      "text/html": [
       "Run data is saved locally in <code>/Users/yuchi/Desktop/tracon-2023-8/exp/exp05/wandb/run-20230826_220254-w0dr2oc2</code>"
      ],
      "text/plain": [
       "<IPython.core.display.HTML object>"
      ]
     },
     "metadata": {},
     "output_type": "display_data"
    },
    {
     "data": {
      "text/html": [
       "Syncing run <strong><a href='https://wandb.ai/abap/tracon-2023-8/runs/w0dr2oc2' target=\"_blank\">basic-feature-v2</a></strong> to <a href='https://wandb.ai/abap/tracon-2023-8' target=\"_blank\">Weights & Biases</a> (<a href='https://wandb.me/run' target=\"_blank\">docs</a>)<br/>"
      ],
      "text/plain": [
       "<IPython.core.display.HTML object>"
      ]
     },
     "metadata": {},
     "output_type": "display_data"
    },
    {
     "data": {
      "text/html": [
       " View project at <a href='https://wandb.ai/abap/tracon-2023-8' target=\"_blank\">https://wandb.ai/abap/tracon-2023-8</a>"
      ],
      "text/plain": [
       "<IPython.core.display.HTML object>"
      ]
     },
     "metadata": {},
     "output_type": "display_data"
    },
    {
     "data": {
      "text/html": [
       " View run at <a href='https://wandb.ai/abap/tracon-2023-8/runs/w0dr2oc2' target=\"_blank\">https://wandb.ai/abap/tracon-2023-8/runs/w0dr2oc2</a>"
      ],
      "text/plain": [
       "<IPython.core.display.HTML object>"
      ]
     },
     "metadata": {},
     "output_type": "display_data"
    },
    {
     "name": "stderr",
     "output_type": "stream",
     "text": [
      "load train columns: 100%|████████████████████████████████████████████████████████████████████████████████████████████████████████████████████████████████████████████| 2/2 [00:00<00:00, 156.02it/s, load user]\n",
      "load test columns: 100%|█████████████████████████████████████████████████████████████████████████████████████████████████████████████████████████████████| 2/2 [00:00<00:00, 556.35it/s, load test_unseen_user]\n",
      "/Users/yuchi/Library/Python/3.9/lib/python/site-packages/sklearn/model_selection/_split.py:909: UserWarning: The least populated class in y has only 1 members, which is less than n_splits=4.\n",
      "  warnings.warn(\n"
     ]
    },
    {
     "name": "stdout",
     "output_type": "stream",
     "text": [
      "[2023-08-26 22:02:56.812593] start training\n",
      "[2023-08-26 22:03:00.610047] start fold: 0\n",
      "[2023-08-26 22:03:03.035411] start fold: 1\n",
      "[2023-08-26 22:03:07.496407] start fold: 2\n",
      "[2023-08-26 22:03:10.802409] start fold: 3\n",
      "[2023-08-26 22:03:16.386294] save submit file: /Users/yuchi/Desktop/tracon-2023-8/exp/exp05/unseen.csv\n"
     ]
    },
    {
     "data": {
      "text/html": [
       "Waiting for W&B process to finish... <strong style=\"color:green\">(success).</strong>"
      ],
      "text/plain": [
       "<IPython.core.display.HTML object>"
      ]
     },
     "metadata": {},
     "output_type": "display_data"
    },
    {
     "data": {
      "text/html": [
       "<style>\n",
       "    table.wandb td:nth-child(1) { padding: 0 10px; text-align: left ; width: auto;} td:nth-child(2) {text-align: left ; width: 100%}\n",
       "    .wandb-row { display: flex; flex-direction: row; flex-wrap: wrap; justify-content: flex-start; width: 100% }\n",
       "    .wandb-col { display: flex; flex-direction: column; flex-basis: 100%; flex: 1; padding: 10px; }\n",
       "    </style>\n",
       "<div class=\"wandb-row\"><div class=\"wandb-col\"><h3>Run history:</h3><br/><table class=\"wandb\"><tr><td>train/0</td><td>█▇▆▅▅▄▃▃▃▂▂▂▂▂▂▂▁▁▁▁▁▁▁▁▁▁▁▁▁▁▁▁▁▁▁▁▁▁▁▁</td></tr><tr><td>train/1</td><td>██▇▇▇▆▆▆▆▅▅▅▅▄▄▄▄▄▃▃▃▃▃▃▃▂▂▂▂▂▂▂▂▂▂▁▁▁▁▁</td></tr><tr><td>train/3</td><td>████▇▇▇▇▇▇▆▆▆▆▆▆▅▅▅▅▅▄▄▄▄▄▃▃▃▃▃▂▂▂▂▂▂▁▁▁</td></tr><tr><td>val/0</td><td>█▇▆▅▄▃▃▃▂▂▂▂▂▂▁▁▁▁▁▁▁▁▁▁▁▁▁▁▁▁▁▁▁▁▁▁▁▁▁▁</td></tr><tr><td>val/1</td><td>██▇▇▆▆▆▅▅▅▅▄▄▄▄▄▃▃▃▃▃▃▃▂▂▂▂▂▂▂▂▂▂▁▁▁▁▁▁▁</td></tr><tr><td>val/3</td><td>██▇▇▇▇▇▇▆▆▆▆▆▆▅▅▅▅▄▄▄▄▄▄▄▄▃▃▃▃▃▂▂▂▂▁▁▁▁▁</td></tr></table><br/></div><div class=\"wandb-col\"><h3>Run summary:</h3><br/><table class=\"wandb\"><tr><td>train/0</td><td>4.30086</td></tr><tr><td>train/1</td><td>4.30626</td></tr><tr><td>train/3</td><td>4.28705</td></tr><tr><td>val/0</td><td>4.64316</td></tr><tr><td>val/1</td><td>4.42104</td></tr><tr><td>val/3</td><td>4.49841</td></tr></table><br/></div></div>"
      ],
      "text/plain": [
       "<IPython.core.display.HTML object>"
      ]
     },
     "metadata": {},
     "output_type": "display_data"
    },
    {
     "data": {
      "text/html": [
       " View run <strong style=\"color:#cdcd00\">basic-feature-v2</strong> at: <a href='https://wandb.ai/abap/tracon-2023-8/runs/w0dr2oc2' target=\"_blank\">https://wandb.ai/abap/tracon-2023-8/runs/w0dr2oc2</a><br/> View job at <a href='https://wandb.ai/abap/tracon-2023-8/jobs/QXJ0aWZhY3RDb2xsZWN0aW9uOjkyOTg2NzU5/version_details/v2' target=\"_blank\">https://wandb.ai/abap/tracon-2023-8/jobs/QXJ0aWZhY3RDb2xsZWN0aW9uOjkyOTg2NzU5/version_details/v2</a><br/>Synced 5 W&B file(s), 4 media file(s), 2 artifact file(s) and 0 other file(s)"
      ],
      "text/plain": [
       "<IPython.core.display.HTML object>"
      ]
     },
     "metadata": {},
     "output_type": "display_data"
    },
    {
     "data": {
      "text/html": [
       "Find logs at: <code>./wandb/run-20230826_220254-w0dr2oc2/logs</code>"
      ],
      "text/plain": [
       "<IPython.core.display.HTML object>"
      ]
     },
     "metadata": {},
     "output_type": "display_data"
    }
   ],
   "source": [
    "run(\n",
    "    in_columns=[\"anime_id\", \"user\"],\n",
    "    target_column=\"score\",\n",
    "    test_prefix=\"test_unseen\",\n",
    "    test_id=\"test_unseen_ID\",\n",
    "    run_config={\n",
    "        \"name\": \"basic-feature-v2\",\n",
    "        \"prefix\":\"unseen\",\n",
    "        \"model\":\"catboost\",\n",
    "        \"submit\": False,\n",
    "        \"task\": \"reg\",\n",
    "        \"submit_path\": \"unseen.csv\",\n",
    "        \"groupkfold\": \"user_id\"\n",
    "    },\n",
    "    model_params={\n",
    "        \"name\": \"seen-model-reg-v1\",\n",
    "        \"iterations\": 10000,\n",
    "        \"learning_rate\": 0.01,\n",
    "        \"depth\": 7,\n",
    "        \"cat_features\": [\"anime_id\", \"user\"],\n",
    "    },\n",
    "    train_params={\n",
    "        \"early_stopping_rounds\": 10,\n",
    "        \"verbose\": False,\n",
    "    }\n",
    ")"
   ]
  },
  {
   "cell_type": "code",
   "execution_count": null,
   "id": "3e3cb3dd-cfd4-4eee-8ba1-b8b510c48e40",
   "metadata": {},
   "outputs": [],
   "source": []
  }
 ],
 "metadata": {
  "kernelspec": {
   "display_name": "Python 3 (ipykernel)",
   "language": "python",
   "name": "python3"
  },
  "language_info": {
   "codemirror_mode": {
    "name": "ipython",
    "version": 3
   },
   "file_extension": ".py",
   "mimetype": "text/x-python",
   "name": "python",
   "nbconvert_exporter": "python",
   "pygments_lexer": "ipython3",
   "version": "3.9.6"
  }
 },
 "nbformat": 4,
 "nbformat_minor": 5
}
