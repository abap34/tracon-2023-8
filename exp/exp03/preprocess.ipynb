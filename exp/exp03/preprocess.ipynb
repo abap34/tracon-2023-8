{
 "cells": [
  {
   "cell_type": "code",
   "execution_count": 16,
   "metadata": {},
   "outputs": [],
   "source": [
    "import sys\n",
    "sys.path.append('../../src')\n",
    "\n",
    "import pandas as pd\n",
    "\n",
    "from run import run\n",
    "from utils import save_all_columns\n",
    "\n",
    "\n",
    "train = pd.read_csv('../../data/train.csv')\n",
    "test = pd.read_csv('../../data/test.csv')\n",
    "anime = pd.read_csv('../../data/anime.csv')\n",
    "profile = pd.read_csv('../../data/profile.csv')"
   ]
  },
  {
   "cell_type": "code",
   "execution_count": 17,
   "metadata": {},
   "outputs": [],
   "source": [
    "# test の user の unseen で分割\n",
    "test_seen = test[test[\"user\"].isin(train[\"user\"])].reset_index(drop=True)\n",
    "test_unseen = test[~test[\"user\"].isin(train[\"user\"])].reset_index(drop=True)"
   ]
  },
  {
   "cell_type": "code",
   "execution_count": 18,
   "metadata": {},
   "outputs": [],
   "source": [
    "# rename test-seen, add prefix\n",
    "test_seen = test_seen.rename(columns=(lambda x: \"test_seen_\" + x))\n",
    "test_unseen = test_unseen.rename(columns=(lambda x: \"test_unseen_\" + x))"
   ]
  },
  {
   "cell_type": "code",
   "execution_count": 19,
   "metadata": {},
   "outputs": [
    {
     "data": {
      "text/html": [
       "<div>\n",
       "<style scoped>\n",
       "    .dataframe tbody tr th:only-of-type {\n",
       "        vertical-align: middle;\n",
       "    }\n",
       "\n",
       "    .dataframe tbody tr th {\n",
       "        vertical-align: top;\n",
       "    }\n",
       "\n",
       "    .dataframe thead th {\n",
       "        text-align: right;\n",
       "    }\n",
       "</style>\n",
       "<table border=\"1\" class=\"dataframe\">\n",
       "  <thead>\n",
       "    <tr style=\"text-align: right;\">\n",
       "      <th></th>\n",
       "      <th>test_seen_user</th>\n",
       "      <th>test_seen_anime_id</th>\n",
       "      <th>test_seen_ID</th>\n",
       "    </tr>\n",
       "  </thead>\n",
       "  <tbody>\n",
       "    <tr>\n",
       "      <th>0</th>\n",
       "      <td>df5ce90323</td>\n",
       "      <td>2191</td>\n",
       "      <td>df5ce90323/2191</td>\n",
       "    </tr>\n",
       "    <tr>\n",
       "      <th>1</th>\n",
       "      <td>fd47680337</td>\n",
       "      <td>12355</td>\n",
       "      <td>fd47680337/12355</td>\n",
       "    </tr>\n",
       "    <tr>\n",
       "      <th>2</th>\n",
       "      <td>8bfc6cea02</td>\n",
       "      <td>3287</td>\n",
       "      <td>8bfc6cea02/3287</td>\n",
       "    </tr>\n",
       "    <tr>\n",
       "      <th>3</th>\n",
       "      <td>5ba4de2706</td>\n",
       "      <td>5114</td>\n",
       "      <td>5ba4de2706/5114</td>\n",
       "    </tr>\n",
       "    <tr>\n",
       "      <th>4</th>\n",
       "      <td>6f78771003</td>\n",
       "      <td>33966</td>\n",
       "      <td>6f78771003/33966</td>\n",
       "    </tr>\n",
       "    <tr>\n",
       "      <th>...</th>\n",
       "      <td>...</td>\n",
       "      <td>...</td>\n",
       "      <td>...</td>\n",
       "    </tr>\n",
       "    <tr>\n",
       "      <th>22124</th>\n",
       "      <td>513878a55e</td>\n",
       "      <td>2501</td>\n",
       "      <td>513878a55e/2501</td>\n",
       "    </tr>\n",
       "    <tr>\n",
       "      <th>22125</th>\n",
       "      <td>f60d21c6ff</td>\n",
       "      <td>34914</td>\n",
       "      <td>f60d21c6ff/34914</td>\n",
       "    </tr>\n",
       "    <tr>\n",
       "      <th>22126</th>\n",
       "      <td>76b6afecea</td>\n",
       "      <td>1606</td>\n",
       "      <td>76b6afecea/1606</td>\n",
       "    </tr>\n",
       "    <tr>\n",
       "      <th>22127</th>\n",
       "      <td>ae8792e8c9</td>\n",
       "      <td>14467</td>\n",
       "      <td>ae8792e8c9/14467</td>\n",
       "    </tr>\n",
       "    <tr>\n",
       "      <th>22128</th>\n",
       "      <td>633644c951</td>\n",
       "      <td>11759</td>\n",
       "      <td>633644c951/11759</td>\n",
       "    </tr>\n",
       "  </tbody>\n",
       "</table>\n",
       "<p>22129 rows × 3 columns</p>\n",
       "</div>"
      ],
      "text/plain": [
       "      test_seen_user  test_seen_anime_id      test_seen_ID\n",
       "0         df5ce90323                2191   df5ce90323/2191\n",
       "1         fd47680337               12355  fd47680337/12355\n",
       "2         8bfc6cea02                3287   8bfc6cea02/3287\n",
       "3         5ba4de2706                5114   5ba4de2706/5114\n",
       "4         6f78771003               33966  6f78771003/33966\n",
       "...              ...                 ...               ...\n",
       "22124     513878a55e                2501   513878a55e/2501\n",
       "22125     f60d21c6ff               34914  f60d21c6ff/34914\n",
       "22126     76b6afecea                1606   76b6afecea/1606\n",
       "22127     ae8792e8c9               14467  ae8792e8c9/14467\n",
       "22128     633644c951               11759  633644c951/11759\n",
       "\n",
       "[22129 rows x 3 columns]"
      ]
     },
     "execution_count": 19,
     "metadata": {},
     "output_type": "execute_result"
    }
   ],
   "source": [
    "test_seen"
   ]
  },
  {
   "cell_type": "code",
   "execution_count": 20,
   "metadata": {},
   "outputs": [
    {
     "data": {
      "text/html": [
       "<div>\n",
       "<style scoped>\n",
       "    .dataframe tbody tr th:only-of-type {\n",
       "        vertical-align: middle;\n",
       "    }\n",
       "\n",
       "    .dataframe tbody tr th {\n",
       "        vertical-align: top;\n",
       "    }\n",
       "\n",
       "    .dataframe thead th {\n",
       "        text-align: right;\n",
       "    }\n",
       "</style>\n",
       "<table border=\"1\" class=\"dataframe\">\n",
       "  <thead>\n",
       "    <tr style=\"text-align: right;\">\n",
       "      <th></th>\n",
       "      <th>test_unseen_user</th>\n",
       "      <th>test_unseen_anime_id</th>\n",
       "      <th>test_unseen_ID</th>\n",
       "    </tr>\n",
       "  </thead>\n",
       "  <tbody>\n",
       "    <tr>\n",
       "      <th>0</th>\n",
       "      <td>3c42dd1ca5</td>\n",
       "      <td>37438</td>\n",
       "      <td>3c42dd1ca5/37438</td>\n",
       "    </tr>\n",
       "    <tr>\n",
       "      <th>1</th>\n",
       "      <td>f7086fba78</td>\n",
       "      <td>30694</td>\n",
       "      <td>f7086fba78/30694</td>\n",
       "    </tr>\n",
       "    <tr>\n",
       "      <th>2</th>\n",
       "      <td>447c01a6a6</td>\n",
       "      <td>4304</td>\n",
       "      <td>447c01a6a6/4304</td>\n",
       "    </tr>\n",
       "    <tr>\n",
       "      <th>3</th>\n",
       "      <td>a3d91316d0</td>\n",
       "      <td>31798</td>\n",
       "      <td>a3d91316d0/31798</td>\n",
       "    </tr>\n",
       "    <tr>\n",
       "      <th>4</th>\n",
       "      <td>36c80f014d</td>\n",
       "      <td>7079</td>\n",
       "      <td>36c80f014d/7079</td>\n",
       "    </tr>\n",
       "    <tr>\n",
       "      <th>...</th>\n",
       "      <td>...</td>\n",
       "      <td>...</td>\n",
       "      <td>...</td>\n",
       "    </tr>\n",
       "    <tr>\n",
       "      <th>3036</th>\n",
       "      <td>e0f631a0ae</td>\n",
       "      <td>12175</td>\n",
       "      <td>e0f631a0ae/12175</td>\n",
       "    </tr>\n",
       "    <tr>\n",
       "      <th>3037</th>\n",
       "      <td>ae9a32c26b</td>\n",
       "      <td>94</td>\n",
       "      <td>ae9a32c26b/94</td>\n",
       "    </tr>\n",
       "    <tr>\n",
       "      <th>3038</th>\n",
       "      <td>aa8ff6b83f</td>\n",
       "      <td>28223</td>\n",
       "      <td>aa8ff6b83f/28223</td>\n",
       "    </tr>\n",
       "    <tr>\n",
       "      <th>3039</th>\n",
       "      <td>fd08ce7650</td>\n",
       "      <td>1457</td>\n",
       "      <td>fd08ce7650/1457</td>\n",
       "    </tr>\n",
       "    <tr>\n",
       "      <th>3040</th>\n",
       "      <td>1efa7f7adc</td>\n",
       "      <td>9989</td>\n",
       "      <td>1efa7f7adc/9989</td>\n",
       "    </tr>\n",
       "  </tbody>\n",
       "</table>\n",
       "<p>3041 rows × 3 columns</p>\n",
       "</div>"
      ],
      "text/plain": [
       "     test_unseen_user  test_unseen_anime_id    test_unseen_ID\n",
       "0          3c42dd1ca5                 37438  3c42dd1ca5/37438\n",
       "1          f7086fba78                 30694  f7086fba78/30694\n",
       "2          447c01a6a6                  4304   447c01a6a6/4304\n",
       "3          a3d91316d0                 31798  a3d91316d0/31798\n",
       "4          36c80f014d                  7079   36c80f014d/7079\n",
       "...               ...                   ...               ...\n",
       "3036       e0f631a0ae                 12175  e0f631a0ae/12175\n",
       "3037       ae9a32c26b                    94     ae9a32c26b/94\n",
       "3038       aa8ff6b83f                 28223  aa8ff6b83f/28223\n",
       "3039       fd08ce7650                  1457   fd08ce7650/1457\n",
       "3040       1efa7f7adc                  9989   1efa7f7adc/9989\n",
       "\n",
       "[3041 rows x 3 columns]"
      ]
     },
     "execution_count": 20,
     "metadata": {},
     "output_type": "execute_result"
    }
   ],
   "source": [
    "test_unseen"
   ]
  },
  {
   "cell_type": "code",
   "execution_count": 21,
   "metadata": {},
   "outputs": [
    {
     "name": "stderr",
     "output_type": "stream",
     "text": [
      "save columns: 100%|██████████| 3/3 [00:00<00:00, 55.63it/s, save test_seen_ID]\n"
     ]
    }
   ],
   "source": [
    "save_all_columns(test_seen, feature_type=\"test\")"
   ]
  },
  {
   "cell_type": "code",
   "execution_count": 22,
   "metadata": {},
   "outputs": [
    {
     "name": "stderr",
     "output_type": "stream",
     "text": [
      "save columns: 100%|██████████| 3/3 [00:00<00:00, 583.43it/s, save test_unseen_ID]\n"
     ]
    }
   ],
   "source": [
    "save_all_columns(test_unseen, feature_type=\"test\")"
   ]
  }
 ],
 "metadata": {
  "kernelspec": {
   "display_name": "Python 3 (ipykernel)",
   "language": "python",
   "name": "python3"
  },
  "language_info": {
   "codemirror_mode": {
    "name": "ipython",
    "version": 3
   },
   "file_extension": ".py",
   "mimetype": "text/x-python",
   "name": "python",
   "nbconvert_exporter": "python",
   "pygments_lexer": "ipython3",
   "version": "3.9.6"
  }
 },
 "nbformat": 4,
 "nbformat_minor": 4
}
