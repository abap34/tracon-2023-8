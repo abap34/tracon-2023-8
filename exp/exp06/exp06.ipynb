{
 "cells": [
  {
   "cell_type": "code",
   "execution_count": 14,
   "id": "2ed471fd-32dc-4795-9be0-e8d021cc9b8d",
   "metadata": {},
   "outputs": [],
   "source": [
    "import sys\n",
    "sys.path.append('../../src')\n",
    "\n",
    "import pandas as pd\n",
    "\n",
    "from run import run\n",
    "from utils import save_all_columns"
   ]
  },
  {
   "cell_type": "code",
   "execution_count": 33,
   "id": "cdb87ab9-2262-4744-aed2-fda5453c1a2d",
   "metadata": {},
   "outputs": [
    {
     "name": "stdout",
     "output_type": "stream",
     "text": [
      "[2023-08-27 07:09:59.219406] train columns -> test columns\n",
      "[2023-08-27 07:09:59.219528] anime_id -> test_seen_anime_id\n",
      "[2023-08-27 07:09:59.219535] user -> test_seen_user\n",
      "[2023-08-27 07:09:59.219540] user_count_encoding -> test_seen_user_count_encoding\n",
      "[2023-08-27 07:09:59.219545] text_len_max -> test_seen_text_len_max\n",
      "[2023-08-27 07:09:59.219550] text_len_mean -> test_seen_text_len_mean\n",
      "[2023-08-27 07:09:59.219555] text_len_min -> test_seen_text_len_min\n",
      "[2023-08-27 07:09:59.219560] text_len_std -> test_seen_text_len_std\n",
      "[2023-08-27 07:09:59.219564] episodes -> test_seen_episodes\n",
      "[2023-08-27 07:09:59.219569] members -> test_seen_members\n",
      "[2023-08-27 07:09:59.219574] popularity -> test_seen_popularity\n",
      "[2023-08-27 07:09:59.219578] ranked -> test_seen_ranked\n",
      "[2023-08-27 07:09:59.219583] start_month -> test_seen_start_month\n",
      "[2023-08-27 07:09:59.219587] start_day -> test_seen_start_day\n",
      "[2023-08-27 07:09:59.219596] start_year -> test_seen_start_year\n",
      "[2023-08-27 07:09:59.219601] end_month -> test_seen_end_month\n",
      "[2023-08-27 07:09:59.219605] end_day -> test_seen_end_day\n",
      "[2023-08-27 07:09:59.219610] end_year -> test_seen_end_year\n",
      "[2023-08-27 07:09:59.219615] len_year -> test_seen_len_year\n",
      "[2023-08-27 07:09:59.219619] len_month -> test_seen_len_month\n",
      "[2023-08-27 07:09:59.219624] len_day -> test_seen_len_day\n",
      "[2023-08-27 07:09:59.219629] episode_per_month -> test_seen_episode_per_month\n",
      "[2023-08-27 07:09:59.219633] episode_per_day -> test_seen_episode_per_day\n",
      "[2023-08-27 07:09:59.219638] Action -> test_seen_Action\n",
      "[2023-08-27 07:09:59.219643] Adventure -> test_seen_Adventure\n",
      "[2023-08-27 07:09:59.219648] Cars -> test_seen_Cars\n",
      "[2023-08-27 07:09:59.219652] Comedy -> test_seen_Comedy\n",
      "[2023-08-27 07:09:59.219657] Dementia -> test_seen_Dementia\n",
      "[2023-08-27 07:09:59.219662] Demons -> test_seen_Demons\n",
      "[2023-08-27 07:09:59.219666] Drama -> test_seen_Drama\n",
      "[2023-08-27 07:09:59.219671] Ecchi -> test_seen_Ecchi\n",
      "[2023-08-27 07:09:59.219675] Fantasy -> test_seen_Fantasy\n",
      "[2023-08-27 07:09:59.219680] Game -> test_seen_Game\n",
      "[2023-08-27 07:09:59.219685] Harem -> test_seen_Harem\n",
      "[2023-08-27 07:09:59.219689] Hentai -> test_seen_Hentai\n",
      "[2023-08-27 07:09:59.219694] Historical -> test_seen_Historical\n",
      "[2023-08-27 07:09:59.219698] Horror -> test_seen_Horror\n",
      "[2023-08-27 07:09:59.219702] Josei -> test_seen_Josei\n",
      "[2023-08-27 07:09:59.219707] Kids -> test_seen_Kids\n",
      "[2023-08-27 07:09:59.219712] Magic -> test_seen_Magic\n",
      "[2023-08-27 07:09:59.219716] Martial Arts -> test_seen_Martial Arts\n",
      "[2023-08-27 07:09:59.219721] Mecha -> test_seen_Mecha\n",
      "[2023-08-27 07:09:59.219725] Military -> test_seen_Military\n",
      "[2023-08-27 07:09:59.219730] Music -> test_seen_Music\n",
      "[2023-08-27 07:09:59.219735] Mystery -> test_seen_Mystery\n",
      "[2023-08-27 07:09:59.219740] None -> test_seen_None\n",
      "[2023-08-27 07:09:59.219744] Parody -> test_seen_Parody\n",
      "[2023-08-27 07:09:59.219749] Police -> test_seen_Police\n",
      "[2023-08-27 07:09:59.219753] Psychological -> test_seen_Psychological\n",
      "[2023-08-27 07:09:59.219758] Romance -> test_seen_Romance\n",
      "[2023-08-27 07:09:59.219762] Samurai -> test_seen_Samurai\n",
      "[2023-08-27 07:09:59.219767] School -> test_seen_School\n",
      "[2023-08-27 07:09:59.219771] Sci-Fi -> test_seen_Sci-Fi\n",
      "[2023-08-27 07:09:59.219776] Seinen -> test_seen_Seinen\n",
      "[2023-08-27 07:09:59.219785] Shoujo -> test_seen_Shoujo\n",
      "[2023-08-27 07:09:59.219790] Shoujo Ai -> test_seen_Shoujo Ai\n",
      "[2023-08-27 07:09:59.219794] Shounen -> test_seen_Shounen\n",
      "[2023-08-27 07:09:59.219803] Shounen Ai -> test_seen_Shounen Ai\n",
      "[2023-08-27 07:09:59.219808] Slice of Life -> test_seen_Slice of Life\n",
      "[2023-08-27 07:09:59.219812] Space -> test_seen_Space\n",
      "[2023-08-27 07:09:59.219817] Sports -> test_seen_Sports\n",
      "[2023-08-27 07:09:59.219822] Super Power -> test_seen_Super Power\n",
      "[2023-08-27 07:09:59.219826] Supernatural -> test_seen_Supernatural\n",
      "[2023-08-27 07:09:59.219831] Thriller -> test_seen_Thriller\n",
      "[2023-08-27 07:09:59.219835] Vampire -> test_seen_Vampire\n",
      "[2023-08-27 07:09:59.219840] Yaoi -> test_seen_Yaoi\n",
      "[2023-08-27 07:09:59.219844] Yuri -> test_seen_Yuri\n",
      "[2023-08-27 07:09:59.219848] birth_year -> test_seen_birth_year\n",
      "[2023-08-27 07:09:59.219853] gender -> test_seen_gender\n",
      "[2023-08-27 07:09:59.219857] age_of_start -> test_seen_age_of_start\n",
      "[2023-08-27 07:09:59.219862] emb1 -> test_seen_emb1\n",
      "[2023-08-27 07:09:59.219866] emb18 -> test_seen_emb18\n",
      "[2023-08-27 07:09:59.219871] emb2 -> test_seen_emb2\n",
      "[2023-08-27 07:09:59.219875] emb3 -> test_seen_emb3\n",
      "[2023-08-27 07:09:59.219880] emb4 -> test_seen_emb4\n",
      "[2023-08-27 07:09:59.219884] emb5 -> test_seen_emb5\n",
      "[2023-08-27 07:09:59.219888] emb6 -> test_seen_emb6\n",
      "[2023-08-27 07:09:59.219893] emb7 -> test_seen_emb7\n"
     ]
    },
    {
     "name": "stderr",
     "output_type": "stream",
     "text": [
      "load train columns: 100%|██████████████████████████████████████████████████████████████████████████████████████████████████████████████████████████████████████████| 77/77 [00:00<00:00, 478.71it/s, load emb7]\n",
      "load test columns: 100%|█████████████████████████████████████████████████████████████████████████████████████████████████████████████████████████████████| 77/77 [00:00<00:00, 846.99it/s, load test_seen_emb7]\n",
      "/Users/yuchi/Library/Python/3.9/lib/python/site-packages/sklearn/model_selection/_split.py:700: UserWarning: The least populated class in y has only 1 members, which is less than n_splits=4.\n",
      "  warnings.warn(\n"
     ]
    },
    {
     "name": "stdout",
     "output_type": "stream",
     "text": [
      "[2023-08-27 07:09:59.479199] start training\n"
     ]
    },
    {
     "data": {
      "text/html": [
       "Tracking run with wandb version 0.15.8"
      ],
      "text/plain": [
       "<IPython.core.display.HTML object>"
      ]
     },
     "metadata": {},
     "output_type": "display_data"
    },
    {
     "data": {
      "text/html": [
       "Run data is saved locally in <code>/Users/yuchi/Desktop/tracon-2023-8/exp/exp06/wandb/run-20230827_070959-podatxqt</code>"
      ],
      "text/plain": [
       "<IPython.core.display.HTML object>"
      ]
     },
     "metadata": {},
     "output_type": "display_data"
    },
    {
     "data": {
      "text/html": [
       "Syncing run <strong><a href='https://wandb.ai/abap/tracon-2023-8/runs/podatxqt' target=\"_blank\">trim-terrain-150</a></strong> to <a href='https://wandb.ai/abap/tracon-2023-8' target=\"_blank\">Weights & Biases</a> (<a href='https://wandb.me/run' target=\"_blank\">docs</a>)<br/>"
      ],
      "text/plain": [
       "<IPython.core.display.HTML object>"
      ]
     },
     "metadata": {},
     "output_type": "display_data"
    },
    {
     "data": {
      "text/html": [
       " View project at <a href='https://wandb.ai/abap/tracon-2023-8' target=\"_blank\">https://wandb.ai/abap/tracon-2023-8</a>"
      ],
      "text/plain": [
       "<IPython.core.display.HTML object>"
      ]
     },
     "metadata": {},
     "output_type": "display_data"
    },
    {
     "data": {
      "text/html": [
       " View run at <a href='https://wandb.ai/abap/tracon-2023-8/runs/podatxqt' target=\"_blank\">https://wandb.ai/abap/tracon-2023-8/runs/podatxqt</a>"
      ],
      "text/plain": [
       "<IPython.core.display.HTML object>"
      ]
     },
     "metadata": {},
     "output_type": "display_data"
    },
    {
     "name": "stdout",
     "output_type": "stream",
     "text": [
      "[2023-08-27 07:10:00.478965] start fold: 0\n"
     ]
    },
    {
     "data": {
      "text/html": [
       "Finishing last run (ID:podatxqt) before initializing another..."
      ],
      "text/plain": [
       "<IPython.core.display.HTML object>"
      ]
     },
     "metadata": {},
     "output_type": "display_data"
    },
    {
     "data": {
      "text/html": [
       "Waiting for W&B process to finish... <strong style=\"color:green\">(success).</strong>"
      ],
      "text/plain": [
       "<IPython.core.display.HTML object>"
      ]
     },
     "metadata": {},
     "output_type": "display_data"
    },
    {
     "data": {
      "text/html": [
       "<style>\n",
       "    table.wandb td:nth-child(1) { padding: 0 10px; text-align: left ; width: auto;} td:nth-child(2) {text-align: left ; width: 100%}\n",
       "    .wandb-row { display: flex; flex-direction: row; flex-wrap: wrap; justify-content: flex-start; width: 100% }\n",
       "    .wandb-col { display: flex; flex-direction: column; flex-basis: 100%; flex: 1; padding: 10px; }\n",
       "    </style>\n",
       "<div class=\"wandb-row\"><div class=\"wandb-col\"><h3>Run history:</h3><br/><table class=\"wandb\"><tr><td>train/0</td><td>█▇▇▇▆▆▆▆▆▅▅▅▅▅▅▄▄▄▄▄▄▃▃▃▃▃▃▃▂▂▂▂▂▂▂▁▁▁▁▁</td></tr><tr><td>val/0</td><td>█▄▃▃▃▂▂▂▂▁▁▁▁▁▁▁▁▁▁▁▁▁▁▁▁▁▁▁▁▁▁▁▁▁▁▁▁▁▁▁</td></tr></table><br/></div><div class=\"wandb-col\"><h3>Run summary:</h3><br/><table class=\"wandb\"><tr><td>train/0</td><td>3.79069</td></tr><tr><td>val/0</td><td>4.26482</td></tr></table><br/></div></div>"
      ],
      "text/plain": [
       "<IPython.core.display.HTML object>"
      ]
     },
     "metadata": {},
     "output_type": "display_data"
    },
    {
     "data": {
      "text/html": [
       " View run <strong style=\"color:#cdcd00\">trim-terrain-150</strong> at: <a href='https://wandb.ai/abap/tracon-2023-8/runs/podatxqt' target=\"_blank\">https://wandb.ai/abap/tracon-2023-8/runs/podatxqt</a><br/> View job at <a href='https://wandb.ai/abap/tracon-2023-8/jobs/QXJ0aWZhY3RDb2xsZWN0aW9uOjkyOTkyMzcz/version_details/v44' target=\"_blank\">https://wandb.ai/abap/tracon-2023-8/jobs/QXJ0aWZhY3RDb2xsZWN0aW9uOjkyOTkyMzcz/version_details/v44</a><br/>Synced 5 W&B file(s), 1 media file(s), 2 artifact file(s) and 0 other file(s)"
      ],
      "text/plain": [
       "<IPython.core.display.HTML object>"
      ]
     },
     "metadata": {},
     "output_type": "display_data"
    },
    {
     "data": {
      "text/html": [
       "Find logs at: <code>./wandb/run-20230827_070959-podatxqt/logs</code>"
      ],
      "text/plain": [
       "<IPython.core.display.HTML object>"
      ]
     },
     "metadata": {},
     "output_type": "display_data"
    },
    {
     "data": {
      "text/html": [
       "Successfully finished last run (ID:podatxqt). Initializing new run:<br/>"
      ],
      "text/plain": [
       "<IPython.core.display.HTML object>"
      ]
     },
     "metadata": {},
     "output_type": "display_data"
    },
    {
     "data": {
      "application/vnd.jupyter.widget-view+json": {
       "model_id": "5a31f006714b41c6a3e59d52932f7936",
       "version_major": 2,
       "version_minor": 0
      },
      "text/plain": [
       "VBox(children=(Label(value='Waiting for wandb.init()...\\r'), FloatProgress(value=0.016752274999998918, max=1.0…"
      ]
     },
     "metadata": {},
     "output_type": "display_data"
    },
    {
     "data": {
      "text/html": [
       "Tracking run with wandb version 0.15.8"
      ],
      "text/plain": [
       "<IPython.core.display.HTML object>"
      ]
     },
     "metadata": {},
     "output_type": "display_data"
    },
    {
     "data": {
      "text/html": [
       "Run data is saved locally in <code>/Users/yuchi/Desktop/tracon-2023-8/exp/exp06/wandb/run-20230827_071042-e0ue1la7</code>"
      ],
      "text/plain": [
       "<IPython.core.display.HTML object>"
      ]
     },
     "metadata": {},
     "output_type": "display_data"
    },
    {
     "data": {
      "text/html": [
       "Syncing run <strong><a href='https://wandb.ai/abap/tracon-2023-8/runs/e0ue1la7' target=\"_blank\">lyric-cloud-151</a></strong> to <a href='https://wandb.ai/abap/tracon-2023-8' target=\"_blank\">Weights & Biases</a> (<a href='https://wandb.me/run' target=\"_blank\">docs</a>)<br/>"
      ],
      "text/plain": [
       "<IPython.core.display.HTML object>"
      ]
     },
     "metadata": {},
     "output_type": "display_data"
    },
    {
     "data": {
      "text/html": [
       " View project at <a href='https://wandb.ai/abap/tracon-2023-8' target=\"_blank\">https://wandb.ai/abap/tracon-2023-8</a>"
      ],
      "text/plain": [
       "<IPython.core.display.HTML object>"
      ]
     },
     "metadata": {},
     "output_type": "display_data"
    },
    {
     "data": {
      "text/html": [
       " View run at <a href='https://wandb.ai/abap/tracon-2023-8/runs/e0ue1la7' target=\"_blank\">https://wandb.ai/abap/tracon-2023-8/runs/e0ue1la7</a>"
      ],
      "text/plain": [
       "<IPython.core.display.HTML object>"
      ]
     },
     "metadata": {},
     "output_type": "display_data"
    },
    {
     "name": "stdout",
     "output_type": "stream",
     "text": [
      "[2023-08-27 07:10:52.578970] start fold: 1\n"
     ]
    },
    {
     "data": {
      "text/html": [
       "Finishing last run (ID:e0ue1la7) before initializing another..."
      ],
      "text/plain": [
       "<IPython.core.display.HTML object>"
      ]
     },
     "metadata": {},
     "output_type": "display_data"
    },
    {
     "data": {
      "text/html": [
       "Waiting for W&B process to finish... <strong style=\"color:green\">(success).</strong>"
      ],
      "text/plain": [
       "<IPython.core.display.HTML object>"
      ]
     },
     "metadata": {},
     "output_type": "display_data"
    },
    {
     "data": {
      "text/html": [
       "<style>\n",
       "    table.wandb td:nth-child(1) { padding: 0 10px; text-align: left ; width: auto;} td:nth-child(2) {text-align: left ; width: 100%}\n",
       "    .wandb-row { display: flex; flex-direction: row; flex-wrap: wrap; justify-content: flex-start; width: 100% }\n",
       "    .wandb-col { display: flex; flex-direction: column; flex-basis: 100%; flex: 1; padding: 10px; }\n",
       "    </style>\n",
       "<div class=\"wandb-row\"><div class=\"wandb-col\"><h3>Run history:</h3><br/><table class=\"wandb\"><tr><td>train/1</td><td>█▇▇▇▆▆▆▆▆▅▅▅▅▅▄▄▄▄▄▄▃▃▃▃▃▃▃▃▂▂▂▂▂▂▂▁▁▁▁▁</td></tr><tr><td>val/1</td><td>█▄▃▃▂▂▂▂▂▁▁▁▁▁▁▁▁▁▁▁▁▁▁▁▁▁▁▁▁▁▁▁▁▁▁▁▁▁▁▁</td></tr></table><br/></div><div class=\"wandb-col\"><h3>Run summary:</h3><br/><table class=\"wandb\"><tr><td>train/1</td><td>3.72698</td></tr><tr><td>val/1</td><td>4.25512</td></tr></table><br/></div></div>"
      ],
      "text/plain": [
       "<IPython.core.display.HTML object>"
      ]
     },
     "metadata": {},
     "output_type": "display_data"
    },
    {
     "data": {
      "text/html": [
       " View run <strong style=\"color:#cdcd00\">lyric-cloud-151</strong> at: <a href='https://wandb.ai/abap/tracon-2023-8/runs/e0ue1la7' target=\"_blank\">https://wandb.ai/abap/tracon-2023-8/runs/e0ue1la7</a><br/> View job at <a href='https://wandb.ai/abap/tracon-2023-8/jobs/QXJ0aWZhY3RDb2xsZWN0aW9uOjkyOTkyMzcz/version_details/v45' target=\"_blank\">https://wandb.ai/abap/tracon-2023-8/jobs/QXJ0aWZhY3RDb2xsZWN0aW9uOjkyOTkyMzcz/version_details/v45</a><br/>Synced 5 W&B file(s), 1 media file(s), 2 artifact file(s) and 0 other file(s)"
      ],
      "text/plain": [
       "<IPython.core.display.HTML object>"
      ]
     },
     "metadata": {},
     "output_type": "display_data"
    },
    {
     "data": {
      "text/html": [
       "Find logs at: <code>./wandb/run-20230827_071042-e0ue1la7/logs</code>"
      ],
      "text/plain": [
       "<IPython.core.display.HTML object>"
      ]
     },
     "metadata": {},
     "output_type": "display_data"
    },
    {
     "data": {
      "text/html": [
       "Successfully finished last run (ID:e0ue1la7). Initializing new run:<br/>"
      ],
      "text/plain": [
       "<IPython.core.display.HTML object>"
      ]
     },
     "metadata": {},
     "output_type": "display_data"
    },
    {
     "data": {
      "application/vnd.jupyter.widget-view+json": {
       "model_id": "7a69d9efd63c406c9257e70f5c14ebc7",
       "version_major": 2,
       "version_minor": 0
      },
      "text/plain": [
       "VBox(children=(Label(value='Waiting for wandb.init()...\\r'), FloatProgress(value=0.01674396320001203, max=1.0)…"
      ]
     },
     "metadata": {},
     "output_type": "display_data"
    },
    {
     "data": {
      "text/html": [
       "Tracking run with wandb version 0.15.8"
      ],
      "text/plain": [
       "<IPython.core.display.HTML object>"
      ]
     },
     "metadata": {},
     "output_type": "display_data"
    },
    {
     "data": {
      "text/html": [
       "Run data is saved locally in <code>/Users/yuchi/Desktop/tracon-2023-8/exp/exp06/wandb/run-20230827_071142-mkcxcqzm</code>"
      ],
      "text/plain": [
       "<IPython.core.display.HTML object>"
      ]
     },
     "metadata": {},
     "output_type": "display_data"
    },
    {
     "data": {
      "text/html": [
       "Syncing run <strong><a href='https://wandb.ai/abap/tracon-2023-8/runs/mkcxcqzm' target=\"_blank\">easy-leaf-152</a></strong> to <a href='https://wandb.ai/abap/tracon-2023-8' target=\"_blank\">Weights & Biases</a> (<a href='https://wandb.me/run' target=\"_blank\">docs</a>)<br/>"
      ],
      "text/plain": [
       "<IPython.core.display.HTML object>"
      ]
     },
     "metadata": {},
     "output_type": "display_data"
    },
    {
     "data": {
      "text/html": [
       " View project at <a href='https://wandb.ai/abap/tracon-2023-8' target=\"_blank\">https://wandb.ai/abap/tracon-2023-8</a>"
      ],
      "text/plain": [
       "<IPython.core.display.HTML object>"
      ]
     },
     "metadata": {},
     "output_type": "display_data"
    },
    {
     "data": {
      "text/html": [
       " View run at <a href='https://wandb.ai/abap/tracon-2023-8/runs/mkcxcqzm' target=\"_blank\">https://wandb.ai/abap/tracon-2023-8/runs/mkcxcqzm</a>"
      ],
      "text/plain": [
       "<IPython.core.display.HTML object>"
      ]
     },
     "metadata": {},
     "output_type": "display_data"
    },
    {
     "name": "stdout",
     "output_type": "stream",
     "text": [
      "[2023-08-27 07:11:52.635488] start fold: 2\n"
     ]
    },
    {
     "data": {
      "text/html": [
       "Finishing last run (ID:mkcxcqzm) before initializing another..."
      ],
      "text/plain": [
       "<IPython.core.display.HTML object>"
      ]
     },
     "metadata": {},
     "output_type": "display_data"
    },
    {
     "data": {
      "text/html": [
       "Waiting for W&B process to finish... <strong style=\"color:green\">(success).</strong>"
      ],
      "text/plain": [
       "<IPython.core.display.HTML object>"
      ]
     },
     "metadata": {},
     "output_type": "display_data"
    },
    {
     "data": {
      "application/vnd.jupyter.widget-view+json": {
       "model_id": "d66aa18bffdc48079adb680f03e29d0a",
       "version_major": 2,
       "version_minor": 0
      },
      "text/plain": [
       "VBox(children=(Label(value='0.098 MB of 0.098 MB uploaded (0.000 MB deduped)\\r'), FloatProgress(value=1.0, max…"
      ]
     },
     "metadata": {},
     "output_type": "display_data"
    },
    {
     "data": {
      "text/html": [
       "<style>\n",
       "    table.wandb td:nth-child(1) { padding: 0 10px; text-align: left ; width: auto;} td:nth-child(2) {text-align: left ; width: 100%}\n",
       "    .wandb-row { display: flex; flex-direction: row; flex-wrap: wrap; justify-content: flex-start; width: 100% }\n",
       "    .wandb-col { display: flex; flex-direction: column; flex-basis: 100%; flex: 1; padding: 10px; }\n",
       "    </style>\n",
       "<div class=\"wandb-row\"><div class=\"wandb-col\"><h3>Run history:</h3><br/><table class=\"wandb\"><tr><td>train/2</td><td>█▇▇▇▆▆▆▆▆▅▅▅▅▅▄▄▄▄▄▄▄▃▃▃▃▃▃▃▂▂▂▂▂▂▂▂▁▁▁▁</td></tr><tr><td>val/2</td><td>█▄▃▃▂▂▂▂▂▁▁▁▁▁▁▁▁▁▁▁▁▁▁▁▁▁▁▁▁▁▁▁▁▁▁▁▁▁▁▁</td></tr></table><br/></div><div class=\"wandb-col\"><h3>Run summary:</h3><br/><table class=\"wandb\"><tr><td>train/2</td><td>3.7617</td></tr><tr><td>val/2</td><td>4.23059</td></tr></table><br/></div></div>"
      ],
      "text/plain": [
       "<IPython.core.display.HTML object>"
      ]
     },
     "metadata": {},
     "output_type": "display_data"
    },
    {
     "data": {
      "text/html": [
       " View run <strong style=\"color:#cdcd00\">easy-leaf-152</strong> at: <a href='https://wandb.ai/abap/tracon-2023-8/runs/mkcxcqzm' target=\"_blank\">https://wandb.ai/abap/tracon-2023-8/runs/mkcxcqzm</a><br/> View job at <a href='https://wandb.ai/abap/tracon-2023-8/jobs/QXJ0aWZhY3RDb2xsZWN0aW9uOjkyOTkyMzcz/version_details/v46' target=\"_blank\">https://wandb.ai/abap/tracon-2023-8/jobs/QXJ0aWZhY3RDb2xsZWN0aW9uOjkyOTkyMzcz/version_details/v46</a><br/>Synced 5 W&B file(s), 1 media file(s), 2 artifact file(s) and 0 other file(s)"
      ],
      "text/plain": [
       "<IPython.core.display.HTML object>"
      ]
     },
     "metadata": {},
     "output_type": "display_data"
    },
    {
     "data": {
      "text/html": [
       "Find logs at: <code>./wandb/run-20230827_071142-mkcxcqzm/logs</code>"
      ],
      "text/plain": [
       "<IPython.core.display.HTML object>"
      ]
     },
     "metadata": {},
     "output_type": "display_data"
    },
    {
     "data": {
      "text/html": [
       "Successfully finished last run (ID:mkcxcqzm). Initializing new run:<br/>"
      ],
      "text/plain": [
       "<IPython.core.display.HTML object>"
      ]
     },
     "metadata": {},
     "output_type": "display_data"
    },
    {
     "data": {
      "application/vnd.jupyter.widget-view+json": {
       "model_id": "f69a9d7bf7a347c3bcde52c465d6eea1",
       "version_major": 2,
       "version_minor": 0
      },
      "text/plain": [
       "VBox(children=(Label(value='Waiting for wandb.init()...\\r'), FloatProgress(value=0.01675131666670495, max=1.0)…"
      ]
     },
     "metadata": {},
     "output_type": "display_data"
    },
    {
     "data": {
      "text/html": [
       "Tracking run with wandb version 0.15.8"
      ],
      "text/plain": [
       "<IPython.core.display.HTML object>"
      ]
     },
     "metadata": {},
     "output_type": "display_data"
    },
    {
     "data": {
      "text/html": [
       "Run data is saved locally in <code>/Users/yuchi/Desktop/tracon-2023-8/exp/exp06/wandb/run-20230827_071235-5lpty06l</code>"
      ],
      "text/plain": [
       "<IPython.core.display.HTML object>"
      ]
     },
     "metadata": {},
     "output_type": "display_data"
    },
    {
     "data": {
      "text/html": [
       "Syncing run <strong><a href='https://wandb.ai/abap/tracon-2023-8/runs/5lpty06l' target=\"_blank\">happy-snowball-153</a></strong> to <a href='https://wandb.ai/abap/tracon-2023-8' target=\"_blank\">Weights & Biases</a> (<a href='https://wandb.me/run' target=\"_blank\">docs</a>)<br/>"
      ],
      "text/plain": [
       "<IPython.core.display.HTML object>"
      ]
     },
     "metadata": {},
     "output_type": "display_data"
    },
    {
     "data": {
      "text/html": [
       " View project at <a href='https://wandb.ai/abap/tracon-2023-8' target=\"_blank\">https://wandb.ai/abap/tracon-2023-8</a>"
      ],
      "text/plain": [
       "<IPython.core.display.HTML object>"
      ]
     },
     "metadata": {},
     "output_type": "display_data"
    },
    {
     "data": {
      "text/html": [
       " View run at <a href='https://wandb.ai/abap/tracon-2023-8/runs/5lpty06l' target=\"_blank\">https://wandb.ai/abap/tracon-2023-8/runs/5lpty06l</a>"
      ],
      "text/plain": [
       "<IPython.core.display.HTML object>"
      ]
     },
     "metadata": {},
     "output_type": "display_data"
    },
    {
     "name": "stdout",
     "output_type": "stream",
     "text": [
      "[2023-08-27 07:12:46.121510] start fold: 3\n",
      "[2023-08-27 07:13:46.845701] Finish Train. val_loss: 4.241605732564424\n",
      "[2023-08-27 07:13:46.977449] save submit file: /Users/yuchi/Desktop/tracon-2023-8/exp/exp06/seen.csv\n"
     ]
    },
    {
     "data": {
      "text/html": [
       "Waiting for W&B process to finish... <strong style=\"color:green\">(success).</strong>"
      ],
      "text/plain": [
       "<IPython.core.display.HTML object>"
      ]
     },
     "metadata": {},
     "output_type": "display_data"
    },
    {
     "data": {
      "application/vnd.jupyter.widget-view+json": {
       "model_id": "857e130509ed41f28230cff6037eb74a",
       "version_major": 2,
       "version_minor": 0
      },
      "text/plain": [
       "VBox(children=(Label(value='0.098 MB of 0.098 MB uploaded (0.000 MB deduped)\\r'), FloatProgress(value=1.0, max…"
      ]
     },
     "metadata": {},
     "output_type": "display_data"
    },
    {
     "data": {
      "text/html": [
       "<style>\n",
       "    table.wandb td:nth-child(1) { padding: 0 10px; text-align: left ; width: auto;} td:nth-child(2) {text-align: left ; width: 100%}\n",
       "    .wandb-row { display: flex; flex-direction: row; flex-wrap: wrap; justify-content: flex-start; width: 100% }\n",
       "    .wandb-col { display: flex; flex-direction: column; flex-basis: 100%; flex: 1; padding: 10px; }\n",
       "    </style>\n",
       "<div class=\"wandb-row\"><div class=\"wandb-col\"><h3>Run history:</h3><br/><table class=\"wandb\"><tr><td>train/3</td><td>█▇▇▇▆▆▆▆▆▅▅▅▅▅▄▄▄▄▄▄▄▃▃▃▃▃▃▃▂▂▂▂▂▂▂▁▁▁▁▁</td></tr><tr><td>val/3</td><td>█▃▃▂▂▂▁▁▁▁▁▁▁▁▁▁▁▁▁▁▁▁▁▁▁▁▁▁▁▁▁▁▁▁▁▁▁▁▁▁</td></tr></table><br/></div><div class=\"wandb-col\"><h3>Run summary:</h3><br/><table class=\"wandb\"><tr><td>train/3</td><td>3.54869</td></tr><tr><td>val/3</td><td>4.24688</td></tr></table><br/></div></div>"
      ],
      "text/plain": [
       "<IPython.core.display.HTML object>"
      ]
     },
     "metadata": {},
     "output_type": "display_data"
    },
    {
     "data": {
      "text/html": [
       " View run <strong style=\"color:#cdcd00\">happy-snowball-153</strong> at: <a href='https://wandb.ai/abap/tracon-2023-8/runs/5lpty06l' target=\"_blank\">https://wandb.ai/abap/tracon-2023-8/runs/5lpty06l</a><br/> View job at <a href='https://wandb.ai/abap/tracon-2023-8/jobs/QXJ0aWZhY3RDb2xsZWN0aW9uOjkyOTkyMzcz/version_details/v47' target=\"_blank\">https://wandb.ai/abap/tracon-2023-8/jobs/QXJ0aWZhY3RDb2xsZWN0aW9uOjkyOTkyMzcz/version_details/v47</a><br/>Synced 5 W&B file(s), 1 media file(s), 2 artifact file(s) and 0 other file(s)"
      ],
      "text/plain": [
       "<IPython.core.display.HTML object>"
      ]
     },
     "metadata": {},
     "output_type": "display_data"
    },
    {
     "data": {
      "text/html": [
       "Find logs at: <code>./wandb/run-20230827_071235-5lpty06l/logs</code>"
      ],
      "text/plain": [
       "<IPython.core.display.HTML object>"
      ]
     },
     "metadata": {},
     "output_type": "display_data"
    }
   ],
   "source": [
    "run(\n",
    "    in_columns=[\"anime_id\", \"user\", \"user_count_encoding\", \"text_len_*\", 'episodes', 'members',\n",
    "       'popularity', 'ranked', 'start_month', 'start_day', 'start_year',\n",
    "       'end_month', 'end_day', 'end_year', 'len_year', 'len_month', 'len_day',\n",
    "       'episode_per_month', 'episode_per_day',  'Action',\n",
    "       'Adventure', 'Cars', 'Comedy', 'Dementia', 'Demons', 'Drama', 'Ecchi',\n",
    "       'Fantasy', 'Game', 'Harem', 'Hentai', 'Historical', 'Horror', 'Josei',\n",
    "       'Kids', 'Magic', 'Martial Arts', 'Mecha', 'Military', 'Music',\n",
    "       'Mystery', 'None', 'Parody', 'Police', 'Psychological', 'Romance',\n",
    "       'Samurai', 'School', 'Sci-Fi', 'Seinen', 'Shoujo', 'Shoujo Ai',\n",
    "       'Shounen', 'Shounen Ai', 'Slice of Life', 'Space', 'Sports',\n",
    "       'Super Power', 'Supernatural', 'Thriller', 'Vampire', 'Yaoi', 'Yuri',\n",
    "        'birth_year', 'gender', 'age_of_start', \"emb*\"],\n",
    "    target_column=\"score\",\n",
    "    test_prefix=\"test_seen\",\n",
    "    test_id=\"test_seen_ID\",\n",
    "    run_config={\n",
    "        \"name\":\"cb-default-emb\",\n",
    "        \"fold_rule\":(lambda fold : \"seen\" + str(fold)),\n",
    "        \"model\":\"catboost\",\n",
    "        \"submit\": False,\n",
    "        \"task\": \"reg\",\n",
    "        \"submit_path\": \"seen.csv\",\n",
    "    },\n",
    "    model_params={\n",
    "        \"name\": \"seen-model-reg-v1\",\n",
    "        \"iterations\": 10000,\n",
    "        \"learning_rate\": 0.05,\n",
    "        \"random_seed\":34,\n",
    "        \"cat_features\": [\"anime_id\", \"user\", \"gender\"],\n",
    "    },\n",
    "    train_params={\n",
    "        \"early_stopping_rounds\": 1000,\n",
    "        \"verbose\": False,\n",
    "    }\n",
    ")"
   ]
  },
  {
   "cell_type": "code",
   "execution_count": 34,
   "id": "0b1d2cdc-a93d-4188-ba6e-31cf77ab1ef6",
   "metadata": {},
   "outputs": [
    {
     "name": "stdout",
     "output_type": "stream",
     "text": [
      "[2023-08-27 07:13:54.900779] train columns -> test columns\n",
      "[2023-08-27 07:13:54.900897] anime_id -> test_unseen_anime_id\n",
      "[2023-08-27 07:13:54.900911] episodes -> test_unseen_episodes\n",
      "[2023-08-27 07:13:54.900919] members -> test_unseen_members\n",
      "[2023-08-27 07:13:54.900928] popularity -> test_unseen_popularity\n",
      "[2023-08-27 07:13:54.900936] ranked -> test_unseen_ranked\n",
      "[2023-08-27 07:13:54.900943] start_month -> test_unseen_start_month\n",
      "[2023-08-27 07:13:54.900951] start_day -> test_unseen_start_day\n",
      "[2023-08-27 07:13:54.900958] start_year -> test_unseen_start_year\n",
      "[2023-08-27 07:13:54.900966] end_month -> test_unseen_end_month\n",
      "[2023-08-27 07:13:54.900974] end_day -> test_unseen_end_day\n",
      "[2023-08-27 07:13:54.900981] end_year -> test_unseen_end_year\n",
      "[2023-08-27 07:13:54.900988] len_year -> test_unseen_len_year\n",
      "[2023-08-27 07:13:54.900996] len_month -> test_unseen_len_month\n",
      "[2023-08-27 07:13:54.901003] len_day -> test_unseen_len_day\n",
      "[2023-08-27 07:13:54.901010] episode_per_month -> test_unseen_episode_per_month\n",
      "[2023-08-27 07:13:54.901018] episode_per_day -> test_unseen_episode_per_day\n",
      "[2023-08-27 07:13:54.901026] Action -> test_unseen_Action\n",
      "[2023-08-27 07:13:54.901033] Adventure -> test_unseen_Adventure\n",
      "[2023-08-27 07:13:54.901041] Cars -> test_unseen_Cars\n",
      "[2023-08-27 07:13:54.901051] Comedy -> test_unseen_Comedy\n",
      "[2023-08-27 07:13:54.901058] Dementia -> test_unseen_Dementia\n",
      "[2023-08-27 07:13:54.901066] Demons -> test_unseen_Demons\n",
      "[2023-08-27 07:13:54.901073] Drama -> test_unseen_Drama\n",
      "[2023-08-27 07:13:54.901082] Ecchi -> test_unseen_Ecchi\n",
      "[2023-08-27 07:13:54.901089] Fantasy -> test_unseen_Fantasy\n",
      "[2023-08-27 07:13:54.901097] Game -> test_unseen_Game\n",
      "[2023-08-27 07:13:54.901105] Harem -> test_unseen_Harem\n",
      "[2023-08-27 07:13:54.901114] Hentai -> test_unseen_Hentai\n",
      "[2023-08-27 07:13:54.901121] Historical -> test_unseen_Historical\n",
      "[2023-08-27 07:13:54.901129] Horror -> test_unseen_Horror\n",
      "[2023-08-27 07:13:54.901136] Josei -> test_unseen_Josei\n",
      "[2023-08-27 07:13:54.901143] Kids -> test_unseen_Kids\n",
      "[2023-08-27 07:13:54.901152] Magic -> test_unseen_Magic\n",
      "[2023-08-27 07:13:54.901160] Martial Arts -> test_unseen_Martial Arts\n",
      "[2023-08-27 07:13:54.901167] Mecha -> test_unseen_Mecha\n",
      "[2023-08-27 07:13:54.901174] Military -> test_unseen_Military\n",
      "[2023-08-27 07:13:54.901182] Music -> test_unseen_Music\n",
      "[2023-08-27 07:13:54.901189] Mystery -> test_unseen_Mystery\n",
      "[2023-08-27 07:13:54.901197] None -> test_unseen_None\n",
      "[2023-08-27 07:13:54.901204] Parody -> test_unseen_Parody\n",
      "[2023-08-27 07:13:54.901212] Police -> test_unseen_Police\n",
      "[2023-08-27 07:13:54.901220] Psychological -> test_unseen_Psychological\n",
      "[2023-08-27 07:13:54.901228] Romance -> test_unseen_Romance\n",
      "[2023-08-27 07:13:54.901236] Samurai -> test_unseen_Samurai\n",
      "[2023-08-27 07:13:54.901243] School -> test_unseen_School\n",
      "[2023-08-27 07:13:54.901251] Sci-Fi -> test_unseen_Sci-Fi\n",
      "[2023-08-27 07:13:54.901259] Seinen -> test_unseen_Seinen\n",
      "[2023-08-27 07:13:54.901267] Shoujo -> test_unseen_Shoujo\n",
      "[2023-08-27 07:13:54.901275] Shoujo Ai -> test_unseen_Shoujo Ai\n",
      "[2023-08-27 07:13:54.901282] Shounen -> test_unseen_Shounen\n",
      "[2023-08-27 07:13:54.901290] Shounen Ai -> test_unseen_Shounen Ai\n",
      "[2023-08-27 07:13:54.901298] Slice of Life -> test_unseen_Slice of Life\n",
      "[2023-08-27 07:13:54.901306] Space -> test_unseen_Space\n",
      "[2023-08-27 07:13:54.901313] Sports -> test_unseen_Sports\n",
      "[2023-08-27 07:13:54.901321] Super Power -> test_unseen_Super Power\n",
      "[2023-08-27 07:13:54.901328] Supernatural -> test_unseen_Supernatural\n",
      "[2023-08-27 07:13:54.901336] Thriller -> test_unseen_Thriller\n",
      "[2023-08-27 07:13:54.901343] Vampire -> test_unseen_Vampire\n",
      "[2023-08-27 07:13:54.901351] Yaoi -> test_unseen_Yaoi\n",
      "[2023-08-27 07:13:54.901358] Yuri -> test_unseen_Yuri\n",
      "[2023-08-27 07:13:54.901365] birth_year -> test_unseen_birth_year\n",
      "[2023-08-27 07:13:54.901372] gender -> test_unseen_gender\n",
      "[2023-08-27 07:13:54.901380] age_of_start -> test_unseen_age_of_start\n",
      "[2023-08-27 07:13:54.901387] emb1 -> test_unseen_emb1\n",
      "[2023-08-27 07:13:54.901394] emb18 -> test_unseen_emb18\n",
      "[2023-08-27 07:13:54.901402] emb2 -> test_unseen_emb2\n",
      "[2023-08-27 07:13:54.901410] emb3 -> test_unseen_emb3\n",
      "[2023-08-27 07:13:54.901417] emb4 -> test_unseen_emb4\n",
      "[2023-08-27 07:13:54.901425] emb5 -> test_unseen_emb5\n",
      "[2023-08-27 07:13:54.901432] emb6 -> test_unseen_emb6\n",
      "[2023-08-27 07:13:54.901439] emb7 -> test_unseen_emb7\n"
     ]
    },
    {
     "name": "stderr",
     "output_type": "stream",
     "text": [
      "load train columns: 100%|██████████████████████████████████████████████████████████████████████████████████████████████████████████████████████████████████████████| 71/71 [00:00<00:00, 522.95it/s, load emb7]\n",
      "load test columns: 100%|███████████████████████████████████████████████████████████████████████████████████████████████████████████████████████████████| 71/71 [00:00<00:00, 993.03it/s, load test_unseen_emb7]\n",
      "/Users/yuchi/Library/Python/3.9/lib/python/site-packages/sklearn/model_selection/_split.py:909: UserWarning: The least populated class in y has only 1 members, which is less than n_splits=4.\n",
      "  warnings.warn(\n"
     ]
    },
    {
     "name": "stdout",
     "output_type": "stream",
     "text": [
      "[2023-08-27 07:13:55.113178] start training\n"
     ]
    },
    {
     "data": {
      "text/html": [
       "Tracking run with wandb version 0.15.8"
      ],
      "text/plain": [
       "<IPython.core.display.HTML object>"
      ]
     },
     "metadata": {},
     "output_type": "display_data"
    },
    {
     "data": {
      "text/html": [
       "Run data is saved locally in <code>/Users/yuchi/Desktop/tracon-2023-8/exp/exp06/wandb/run-20230827_071358-vecd7hie</code>"
      ],
      "text/plain": [
       "<IPython.core.display.HTML object>"
      ]
     },
     "metadata": {},
     "output_type": "display_data"
    },
    {
     "data": {
      "text/html": [
       "Syncing run <strong><a href='https://wandb.ai/abap/tracon-2023-8/runs/vecd7hie' target=\"_blank\">quiet-night-154</a></strong> to <a href='https://wandb.ai/abap/tracon-2023-8' target=\"_blank\">Weights & Biases</a> (<a href='https://wandb.me/run' target=\"_blank\">docs</a>)<br/>"
      ],
      "text/plain": [
       "<IPython.core.display.HTML object>"
      ]
     },
     "metadata": {},
     "output_type": "display_data"
    },
    {
     "data": {
      "text/html": [
       " View project at <a href='https://wandb.ai/abap/tracon-2023-8' target=\"_blank\">https://wandb.ai/abap/tracon-2023-8</a>"
      ],
      "text/plain": [
       "<IPython.core.display.HTML object>"
      ]
     },
     "metadata": {},
     "output_type": "display_data"
    },
    {
     "data": {
      "text/html": [
       " View run at <a href='https://wandb.ai/abap/tracon-2023-8/runs/vecd7hie' target=\"_blank\">https://wandb.ai/abap/tracon-2023-8/runs/vecd7hie</a>"
      ],
      "text/plain": [
       "<IPython.core.display.HTML object>"
      ]
     },
     "metadata": {},
     "output_type": "display_data"
    },
    {
     "name": "stdout",
     "output_type": "stream",
     "text": [
      "[2023-08-27 07:13:59.638927] start fold: 0\n"
     ]
    },
    {
     "data": {
      "text/html": [
       "Finishing last run (ID:vecd7hie) before initializing another..."
      ],
      "text/plain": [
       "<IPython.core.display.HTML object>"
      ]
     },
     "metadata": {},
     "output_type": "display_data"
    },
    {
     "data": {
      "text/html": [
       "Waiting for W&B process to finish... <strong style=\"color:green\">(success).</strong>"
      ],
      "text/plain": [
       "<IPython.core.display.HTML object>"
      ]
     },
     "metadata": {},
     "output_type": "display_data"
    },
    {
     "data": {
      "text/html": [
       "<style>\n",
       "    table.wandb td:nth-child(1) { padding: 0 10px; text-align: left ; width: auto;} td:nth-child(2) {text-align: left ; width: 100%}\n",
       "    .wandb-row { display: flex; flex-direction: row; flex-wrap: wrap; justify-content: flex-start; width: 100% }\n",
       "    .wandb-col { display: flex; flex-direction: column; flex-basis: 100%; flex: 1; padding: 10px; }\n",
       "    </style>\n",
       "<div class=\"wandb-row\"><div class=\"wandb-col\"><h3>Run history:</h3><br/><table class=\"wandb\"><tr><td>train/0</td><td>█▄▃▃▃▂▂▂▂▂▂▂▂▂▂▂▂▂▂▂▂▂▂▂▂▂▁▁▁▁▁▁▁▁▁▁▁▁▁▁</td></tr><tr><td>val/0</td><td>█▄▂▂▁▁▁▁▁▁▁▁▁▁▁▁▁▁▁▁▁▁▁▁▁▁▁▁▁▁▁▁▁▁▁▁▁▁▁▁</td></tr></table><br/></div><div class=\"wandb-col\"><h3>Run summary:</h3><br/><table class=\"wandb\"><tr><td>train/0</td><td>4.42251</td></tr><tr><td>val/0</td><td>4.55264</td></tr></table><br/></div></div>"
      ],
      "text/plain": [
       "<IPython.core.display.HTML object>"
      ]
     },
     "metadata": {},
     "output_type": "display_data"
    },
    {
     "data": {
      "text/html": [
       " View run <strong style=\"color:#cdcd00\">quiet-night-154</strong> at: <a href='https://wandb.ai/abap/tracon-2023-8/runs/vecd7hie' target=\"_blank\">https://wandb.ai/abap/tracon-2023-8/runs/vecd7hie</a><br/> View job at <a href='https://wandb.ai/abap/tracon-2023-8/jobs/QXJ0aWZhY3RDb2xsZWN0aW9uOjkyOTkyMzcz/version_details/v48' target=\"_blank\">https://wandb.ai/abap/tracon-2023-8/jobs/QXJ0aWZhY3RDb2xsZWN0aW9uOjkyOTkyMzcz/version_details/v48</a><br/>Synced 5 W&B file(s), 1 media file(s), 2 artifact file(s) and 0 other file(s)"
      ],
      "text/plain": [
       "<IPython.core.display.HTML object>"
      ]
     },
     "metadata": {},
     "output_type": "display_data"
    },
    {
     "data": {
      "text/html": [
       "Find logs at: <code>./wandb/run-20230827_071358-vecd7hie/logs</code>"
      ],
      "text/plain": [
       "<IPython.core.display.HTML object>"
      ]
     },
     "metadata": {},
     "output_type": "display_data"
    },
    {
     "data": {
      "text/html": [
       "Successfully finished last run (ID:vecd7hie). Initializing new run:<br/>"
      ],
      "text/plain": [
       "<IPython.core.display.HTML object>"
      ]
     },
     "metadata": {},
     "output_type": "display_data"
    },
    {
     "data": {
      "application/vnd.jupyter.widget-view+json": {
       "model_id": "c66a714310494066883c00f7fe4209fc",
       "version_major": 2,
       "version_minor": 0
      },
      "text/plain": [
       "VBox(children=(Label(value='Waiting for wandb.init()...\\r'), FloatProgress(value=0.016751827766650726, max=1.0…"
      ]
     },
     "metadata": {},
     "output_type": "display_data"
    },
    {
     "data": {
      "text/html": [
       "Tracking run with wandb version 0.15.8"
      ],
      "text/plain": [
       "<IPython.core.display.HTML object>"
      ]
     },
     "metadata": {},
     "output_type": "display_data"
    },
    {
     "data": {
      "text/html": [
       "Run data is saved locally in <code>/Users/yuchi/Desktop/tracon-2023-8/exp/exp06/wandb/run-20230827_071405-l9f1h4jo</code>"
      ],
      "text/plain": [
       "<IPython.core.display.HTML object>"
      ]
     },
     "metadata": {},
     "output_type": "display_data"
    },
    {
     "data": {
      "text/html": [
       "Syncing run <strong><a href='https://wandb.ai/abap/tracon-2023-8/runs/l9f1h4jo' target=\"_blank\">laced-thunder-155</a></strong> to <a href='https://wandb.ai/abap/tracon-2023-8' target=\"_blank\">Weights & Biases</a> (<a href='https://wandb.me/run' target=\"_blank\">docs</a>)<br/>"
      ],
      "text/plain": [
       "<IPython.core.display.HTML object>"
      ]
     },
     "metadata": {},
     "output_type": "display_data"
    },
    {
     "data": {
      "text/html": [
       " View project at <a href='https://wandb.ai/abap/tracon-2023-8' target=\"_blank\">https://wandb.ai/abap/tracon-2023-8</a>"
      ],
      "text/plain": [
       "<IPython.core.display.HTML object>"
      ]
     },
     "metadata": {},
     "output_type": "display_data"
    },
    {
     "data": {
      "text/html": [
       " View run at <a href='https://wandb.ai/abap/tracon-2023-8/runs/l9f1h4jo' target=\"_blank\">https://wandb.ai/abap/tracon-2023-8/runs/l9f1h4jo</a>"
      ],
      "text/plain": [
       "<IPython.core.display.HTML object>"
      ]
     },
     "metadata": {},
     "output_type": "display_data"
    },
    {
     "name": "stdout",
     "output_type": "stream",
     "text": [
      "[2023-08-27 07:14:15.486186] start fold: 1\n"
     ]
    },
    {
     "data": {
      "text/html": [
       "Finishing last run (ID:l9f1h4jo) before initializing another..."
      ],
      "text/plain": [
       "<IPython.core.display.HTML object>"
      ]
     },
     "metadata": {},
     "output_type": "display_data"
    },
    {
     "data": {
      "text/html": [
       "Waiting for W&B process to finish... <strong style=\"color:green\">(success).</strong>"
      ],
      "text/plain": [
       "<IPython.core.display.HTML object>"
      ]
     },
     "metadata": {},
     "output_type": "display_data"
    },
    {
     "data": {
      "text/html": [
       "<style>\n",
       "    table.wandb td:nth-child(1) { padding: 0 10px; text-align: left ; width: auto;} td:nth-child(2) {text-align: left ; width: 100%}\n",
       "    .wandb-row { display: flex; flex-direction: row; flex-wrap: wrap; justify-content: flex-start; width: 100% }\n",
       "    .wandb-col { display: flex; flex-direction: column; flex-basis: 100%; flex: 1; padding: 10px; }\n",
       "    </style>\n",
       "<div class=\"wandb-row\"><div class=\"wandb-col\"><h3>Run history:</h3><br/><table class=\"wandb\"><tr><td>train/1</td><td>█▄▃▃▃▂▂▂▂▂▂▂▂▂▂▂▂▂▂▂▂▂▂▂▂▁▁▁▁▁▁▁▁▁▁▁▁▁▁▁</td></tr><tr><td>val/1</td><td>█▄▂▂▁▁▁▁▁▁▁▁▁▁▁▁▁▁▁▁▁▁▁▁▁▁▁▁▁▁▁▁▁▁▁▁▁▁▁▁</td></tr></table><br/></div><div class=\"wandb-col\"><h3>Run summary:</h3><br/><table class=\"wandb\"><tr><td>train/1</td><td>4.48361</td></tr><tr><td>val/1</td><td>4.37208</td></tr></table><br/></div></div>"
      ],
      "text/plain": [
       "<IPython.core.display.HTML object>"
      ]
     },
     "metadata": {},
     "output_type": "display_data"
    },
    {
     "data": {
      "text/html": [
       " View run <strong style=\"color:#cdcd00\">laced-thunder-155</strong> at: <a href='https://wandb.ai/abap/tracon-2023-8/runs/l9f1h4jo' target=\"_blank\">https://wandb.ai/abap/tracon-2023-8/runs/l9f1h4jo</a><br/> View job at <a href='https://wandb.ai/abap/tracon-2023-8/jobs/QXJ0aWZhY3RDb2xsZWN0aW9uOjkyOTkyMzcz/version_details/v49' target=\"_blank\">https://wandb.ai/abap/tracon-2023-8/jobs/QXJ0aWZhY3RDb2xsZWN0aW9uOjkyOTkyMzcz/version_details/v49</a><br/>Synced 5 W&B file(s), 1 media file(s), 2 artifact file(s) and 0 other file(s)"
      ],
      "text/plain": [
       "<IPython.core.display.HTML object>"
      ]
     },
     "metadata": {},
     "output_type": "display_data"
    },
    {
     "data": {
      "text/html": [
       "Find logs at: <code>./wandb/run-20230827_071405-l9f1h4jo/logs</code>"
      ],
      "text/plain": [
       "<IPython.core.display.HTML object>"
      ]
     },
     "metadata": {},
     "output_type": "display_data"
    },
    {
     "data": {
      "text/html": [
       "Successfully finished last run (ID:l9f1h4jo). Initializing new run:<br/>"
      ],
      "text/plain": [
       "<IPython.core.display.HTML object>"
      ]
     },
     "metadata": {},
     "output_type": "display_data"
    },
    {
     "data": {
      "application/vnd.jupyter.widget-view+json": {
       "model_id": "47061f78bf12413f9097a55e700e5767",
       "version_major": 2,
       "version_minor": 0
      },
      "text/plain": [
       "VBox(children=(Label(value='Waiting for wandb.init()...\\r'), FloatProgress(value=0.016751770133366033, max=1.0…"
      ]
     },
     "metadata": {},
     "output_type": "display_data"
    },
    {
     "data": {
      "text/html": [
       "Tracking run with wandb version 0.15.8"
      ],
      "text/plain": [
       "<IPython.core.display.HTML object>"
      ]
     },
     "metadata": {},
     "output_type": "display_data"
    },
    {
     "data": {
      "text/html": [
       "Run data is saved locally in <code>/Users/yuchi/Desktop/tracon-2023-8/exp/exp06/wandb/run-20230827_071421-s55cb8rc</code>"
      ],
      "text/plain": [
       "<IPython.core.display.HTML object>"
      ]
     },
     "metadata": {},
     "output_type": "display_data"
    },
    {
     "data": {
      "text/html": [
       "Syncing run <strong><a href='https://wandb.ai/abap/tracon-2023-8/runs/s55cb8rc' target=\"_blank\">dry-haze-156</a></strong> to <a href='https://wandb.ai/abap/tracon-2023-8' target=\"_blank\">Weights & Biases</a> (<a href='https://wandb.me/run' target=\"_blank\">docs</a>)<br/>"
      ],
      "text/plain": [
       "<IPython.core.display.HTML object>"
      ]
     },
     "metadata": {},
     "output_type": "display_data"
    },
    {
     "data": {
      "text/html": [
       " View project at <a href='https://wandb.ai/abap/tracon-2023-8' target=\"_blank\">https://wandb.ai/abap/tracon-2023-8</a>"
      ],
      "text/plain": [
       "<IPython.core.display.HTML object>"
      ]
     },
     "metadata": {},
     "output_type": "display_data"
    },
    {
     "data": {
      "text/html": [
       " View run at <a href='https://wandb.ai/abap/tracon-2023-8/runs/s55cb8rc' target=\"_blank\">https://wandb.ai/abap/tracon-2023-8/runs/s55cb8rc</a>"
      ],
      "text/plain": [
       "<IPython.core.display.HTML object>"
      ]
     },
     "metadata": {},
     "output_type": "display_data"
    },
    {
     "name": "stdout",
     "output_type": "stream",
     "text": [
      "[2023-08-27 07:14:31.824716] start fold: 2\n"
     ]
    },
    {
     "data": {
      "text/html": [
       "Finishing last run (ID:s55cb8rc) before initializing another..."
      ],
      "text/plain": [
       "<IPython.core.display.HTML object>"
      ]
     },
     "metadata": {},
     "output_type": "display_data"
    },
    {
     "data": {
      "text/html": [
       "Waiting for W&B process to finish... <strong style=\"color:green\">(success).</strong>"
      ],
      "text/plain": [
       "<IPython.core.display.HTML object>"
      ]
     },
     "metadata": {},
     "output_type": "display_data"
    },
    {
     "data": {
      "text/html": [
       "<style>\n",
       "    table.wandb td:nth-child(1) { padding: 0 10px; text-align: left ; width: auto;} td:nth-child(2) {text-align: left ; width: 100%}\n",
       "    .wandb-row { display: flex; flex-direction: row; flex-wrap: wrap; justify-content: flex-start; width: 100% }\n",
       "    .wandb-col { display: flex; flex-direction: column; flex-basis: 100%; flex: 1; padding: 10px; }\n",
       "    </style>\n",
       "<div class=\"wandb-row\"><div class=\"wandb-col\"><h3>Run history:</h3><br/><table class=\"wandb\"><tr><td>train/2</td><td>█▅▃▃▂▂▂▂▂▂▂▂▂▂▂▂▂▂▂▂▂▂▂▂▁▁▁▁▁▁▁▁▁▁▁▁▁▁▁▁</td></tr><tr><td>val/2</td><td>█▅▃▂▁▁▁▁▁▁▁▁▁▁▁▁▁▁▁▁▁▁▁▁▁▁▁▁▁▁▁▁▁▁▁▁▁▁▁▁</td></tr></table><br/></div><div class=\"wandb-col\"><h3>Run summary:</h3><br/><table class=\"wandb\"><tr><td>train/2</td><td>4.49318</td></tr><tr><td>val/2</td><td>4.36689</td></tr></table><br/></div></div>"
      ],
      "text/plain": [
       "<IPython.core.display.HTML object>"
      ]
     },
     "metadata": {},
     "output_type": "display_data"
    },
    {
     "data": {
      "text/html": [
       " View run <strong style=\"color:#cdcd00\">dry-haze-156</strong> at: <a href='https://wandb.ai/abap/tracon-2023-8/runs/s55cb8rc' target=\"_blank\">https://wandb.ai/abap/tracon-2023-8/runs/s55cb8rc</a><br/> View job at <a href='https://wandb.ai/abap/tracon-2023-8/jobs/QXJ0aWZhY3RDb2xsZWN0aW9uOjkyOTkyMzcz/version_details/v50' target=\"_blank\">https://wandb.ai/abap/tracon-2023-8/jobs/QXJ0aWZhY3RDb2xsZWN0aW9uOjkyOTkyMzcz/version_details/v50</a><br/>Synced 5 W&B file(s), 1 media file(s), 2 artifact file(s) and 0 other file(s)"
      ],
      "text/plain": [
       "<IPython.core.display.HTML object>"
      ]
     },
     "metadata": {},
     "output_type": "display_data"
    },
    {
     "data": {
      "text/html": [
       "Find logs at: <code>./wandb/run-20230827_071421-s55cb8rc/logs</code>"
      ],
      "text/plain": [
       "<IPython.core.display.HTML object>"
      ]
     },
     "metadata": {},
     "output_type": "display_data"
    },
    {
     "data": {
      "text/html": [
       "Successfully finished last run (ID:s55cb8rc). Initializing new run:<br/>"
      ],
      "text/plain": [
       "<IPython.core.display.HTML object>"
      ]
     },
     "metadata": {},
     "output_type": "display_data"
    },
    {
     "data": {
      "application/vnd.jupyter.widget-view+json": {
       "model_id": "711cd17971664b45a30e18cb69328301",
       "version_major": 2,
       "version_minor": 0
      },
      "text/plain": [
       "VBox(children=(Label(value='Waiting for wandb.init()...\\r'), FloatProgress(value=0.01675121806668661, max=1.0)…"
      ]
     },
     "metadata": {},
     "output_type": "display_data"
    },
    {
     "data": {
      "text/html": [
       "Tracking run with wandb version 0.15.8"
      ],
      "text/plain": [
       "<IPython.core.display.HTML object>"
      ]
     },
     "metadata": {},
     "output_type": "display_data"
    },
    {
     "data": {
      "text/html": [
       "Run data is saved locally in <code>/Users/yuchi/Desktop/tracon-2023-8/exp/exp06/wandb/run-20230827_071437-b6zmrr46</code>"
      ],
      "text/plain": [
       "<IPython.core.display.HTML object>"
      ]
     },
     "metadata": {},
     "output_type": "display_data"
    },
    {
     "data": {
      "text/html": [
       "Syncing run <strong><a href='https://wandb.ai/abap/tracon-2023-8/runs/b6zmrr46' target=\"_blank\">vivid-voice-157</a></strong> to <a href='https://wandb.ai/abap/tracon-2023-8' target=\"_blank\">Weights & Biases</a> (<a href='https://wandb.me/run' target=\"_blank\">docs</a>)<br/>"
      ],
      "text/plain": [
       "<IPython.core.display.HTML object>"
      ]
     },
     "metadata": {},
     "output_type": "display_data"
    },
    {
     "data": {
      "text/html": [
       " View project at <a href='https://wandb.ai/abap/tracon-2023-8' target=\"_blank\">https://wandb.ai/abap/tracon-2023-8</a>"
      ],
      "text/plain": [
       "<IPython.core.display.HTML object>"
      ]
     },
     "metadata": {},
     "output_type": "display_data"
    },
    {
     "data": {
      "text/html": [
       " View run at <a href='https://wandb.ai/abap/tracon-2023-8/runs/b6zmrr46' target=\"_blank\">https://wandb.ai/abap/tracon-2023-8/runs/b6zmrr46</a>"
      ],
      "text/plain": [
       "<IPython.core.display.HTML object>"
      ]
     },
     "metadata": {},
     "output_type": "display_data"
    },
    {
     "name": "stdout",
     "output_type": "stream",
     "text": [
      "[2023-08-27 07:14:45.647103] start fold: 3\n",
      "[2023-08-27 07:14:50.989598] Finish Train. val_loss: 4.43585253447674\n",
      "[2023-08-27 07:14:51.002574] save submit file: /Users/yuchi/Desktop/tracon-2023-8/exp/exp06/unseen.csv\n"
     ]
    },
    {
     "data": {
      "text/html": [
       "Waiting for W&B process to finish... <strong style=\"color:green\">(success).</strong>"
      ],
      "text/plain": [
       "<IPython.core.display.HTML object>"
      ]
     },
     "metadata": {},
     "output_type": "display_data"
    },
    {
     "data": {
      "text/html": [
       "<style>\n",
       "    table.wandb td:nth-child(1) { padding: 0 10px; text-align: left ; width: auto;} td:nth-child(2) {text-align: left ; width: 100%}\n",
       "    .wandb-row { display: flex; flex-direction: row; flex-wrap: wrap; justify-content: flex-start; width: 100% }\n",
       "    .wandb-col { display: flex; flex-direction: column; flex-basis: 100%; flex: 1; padding: 10px; }\n",
       "    </style>\n",
       "<div class=\"wandb-row\"><div class=\"wandb-col\"><h3>Run history:</h3><br/><table class=\"wandb\"><tr><td>train/3</td><td>█▅▃▃▃▂▂▂▂▂▂▂▂▂▂▂▂▂▂▂▂▂▂▂▂▁▁▁▁▁▁▁▁▁▁▁▁▁▁▁</td></tr><tr><td>val/3</td><td>█▅▃▂▂▁▁▁▁▁▁▁▁▁▁▁▁▁▁▁▁▁▁▁▁▁▁▁▁▁▁▁▁▁▁▁▁▁▁▁</td></tr></table><br/></div><div class=\"wandb-col\"><h3>Run summary:</h3><br/><table class=\"wandb\"><tr><td>train/3</td><td>4.47585</td></tr><tr><td>val/3</td><td>4.45044</td></tr></table><br/></div></div>"
      ],
      "text/plain": [
       "<IPython.core.display.HTML object>"
      ]
     },
     "metadata": {},
     "output_type": "display_data"
    },
    {
     "data": {
      "text/html": [
       " View run <strong style=\"color:#cdcd00\">vivid-voice-157</strong> at: <a href='https://wandb.ai/abap/tracon-2023-8/runs/b6zmrr46' target=\"_blank\">https://wandb.ai/abap/tracon-2023-8/runs/b6zmrr46</a><br/> View job at <a href='https://wandb.ai/abap/tracon-2023-8/jobs/QXJ0aWZhY3RDb2xsZWN0aW9uOjkyOTkyMzcz/version_details/v51' target=\"_blank\">https://wandb.ai/abap/tracon-2023-8/jobs/QXJ0aWZhY3RDb2xsZWN0aW9uOjkyOTkyMzcz/version_details/v51</a><br/>Synced 5 W&B file(s), 1 media file(s), 2 artifact file(s) and 0 other file(s)"
      ],
      "text/plain": [
       "<IPython.core.display.HTML object>"
      ]
     },
     "metadata": {},
     "output_type": "display_data"
    },
    {
     "data": {
      "text/html": [
       "Find logs at: <code>./wandb/run-20230827_071437-b6zmrr46/logs</code>"
      ],
      "text/plain": [
       "<IPython.core.display.HTML object>"
      ]
     },
     "metadata": {},
     "output_type": "display_data"
    }
   ],
   "source": [
    "run(\n",
    "    in_columns=[\"anime_id\", 'episodes', 'members',\n",
    "       'popularity', 'ranked', 'start_month', 'start_day', 'start_year',\n",
    "       'end_month', 'end_day', 'end_year', 'len_year', 'len_month', 'len_day',\n",
    "       'episode_per_month', 'episode_per_day',  'Action',\n",
    "       'Adventure', 'Cars', 'Comedy', 'Dementia', 'Demons', 'Drama', 'Ecchi',\n",
    "       'Fantasy', 'Game', 'Harem', 'Hentai', 'Historical', 'Horror', 'Josei',\n",
    "       'Kids', 'Magic', 'Martial Arts', 'Mecha', 'Military', 'Music',\n",
    "       'Mystery', 'None', 'Parody', 'Police', 'Psychological', 'Romance',\n",
    "       'Samurai', 'School', 'Sci-Fi', 'Seinen', 'Shoujo', 'Shoujo Ai',\n",
    "       'Shounen', 'Shounen Ai', 'Slice of Life', 'Space', 'Sports',\n",
    "       'Super Power', 'Supernatural', 'Thriller', 'Vampire', 'Yaoi', 'Yuri', \n",
    "        'birth_year', 'gender', 'age_of_start', \"emb*\"],\n",
    "    target_column=\"score\",\n",
    "    test_prefix=\"test_unseen\",\n",
    "    test_id=\"test_unseen_ID\",\n",
    "    run_config={\n",
    "        \"name\":\"cb-default-emb\",\n",
    "        \"prefix\":\"unseen\",\n",
    "        \"model\":\"catboost\",\n",
    "        \"fold_rule\":(lambda fold : \"unseen\" + str(fold)),\n",
    "        \"submit\": False,\n",
    "        \"task\": \"reg\",\n",
    "        \"submit_path\": \"unseen.csv\",\n",
    "        \"groupkfold\": \"user_id\"\n",
    "    },\n",
    "    model_params={\n",
    "        \"name\": \"seen-model-reg-v1\",\n",
    "        \"iterations\": 10000,\n",
    "        \"learning_rate\": 0.05,\n",
    "        \"random_seed\":34,\n",
    "        \"cat_features\": [\"anime_id\", \"gender\"],\n",
    "    },\n",
    "    train_params={\n",
    "        \"early_stopping_rounds\": 100,\n",
    "        \"verbose\": False,\n",
    "    }\n",
    ")"
   ]
  },
  {
   "cell_type": "code",
   "execution_count": 35,
   "id": "3e3cb3dd-cfd4-4eee-8ba1-b8b510c48e40",
   "metadata": {},
   "outputs": [],
   "source": [
    "sample_submission = pd.read_csv('../../data/sample_submission.csv')"
   ]
  },
  {
   "cell_type": "code",
   "execution_count": 36,
   "id": "4d983054-5b29-447d-aad2-e01947468b97",
   "metadata": {},
   "outputs": [],
   "source": [
    "seen_pred = pd.read_csv('seen.csv')\n",
    "unseen_pred = pd.read_csv('unseen.csv')"
   ]
  },
  {
   "cell_type": "code",
   "execution_count": 37,
   "id": "87b134da-8f38-4443-9547-060df6563cc9",
   "metadata": {},
   "outputs": [],
   "source": [
    "sample_seen = pd.merge(\n",
    "    sample_submission, seen_pred, on=\"ID\",  how='left'\n",
    ")[[\"ID\", \"score_y\"]].rename(columns={\"score_y\": \"score\"})\n",
    "\n",
    "final_pred = pd.merge(\n",
    "    sample_seen, unseen_pred, on=\"ID\",  how='left'\n",
    ")\n",
    "\n",
    "final_pred[\"score\"] = final_pred[\"score_x\"].fillna(final_pred[\"score_y\"])"
   ]
  },
  {
   "cell_type": "code",
   "execution_count": 38,
   "id": "fdc51aac-1f78-472b-be59-e43aca34e238",
   "metadata": {},
   "outputs": [],
   "source": [
    "label = pd.read_csv('../../data/solution.csv')"
   ]
  },
  {
   "cell_type": "code",
   "execution_count": 39,
   "id": "91f7467d-f366-4375-8eae-f57f50abbe53",
   "metadata": {},
   "outputs": [],
   "source": [
    "label['seen'] = label['ID'].isin(seen_pred['ID'].values)"
   ]
  },
  {
   "cell_type": "code",
   "execution_count": 40,
   "id": "262c006c-56c9-4ccd-98fa-2c411390bde3",
   "metadata": {},
   "outputs": [],
   "source": [
    "from sklearn.metrics import mean_squared_error"
   ]
  },
  {
   "cell_type": "code",
   "execution_count": 41,
   "id": "15bceccc-b3ff-476d-aa57-0f76b2b2ad4b",
   "metadata": {},
   "outputs": [
    {
     "data": {
      "text/plain": [
       "3.7622148268276847"
      ]
     },
     "execution_count": 41,
     "metadata": {},
     "output_type": "execute_result"
    }
   ],
   "source": [
    "mean_squared_error(label[label['seen']]['score'], seen_pred['score'])"
   ]
  },
  {
   "cell_type": "code",
   "execution_count": 42,
   "id": "251dcd82-b036-40d6-8cd2-08120f19896d",
   "metadata": {},
   "outputs": [
    {
     "data": {
      "text/plain": [
       "4.880352683566164"
      ]
     },
     "execution_count": 42,
     "metadata": {},
     "output_type": "execute_result"
    }
   ],
   "source": [
    "mean_squared_error(label[~label['seen']]['score'], unseen_pred['score'])"
   ]
  },
  {
   "cell_type": "code",
   "execution_count": 43,
   "id": "d12a5521-7004-48c5-b0de-2cbb1bc589d3",
   "metadata": {},
   "outputs": [
    {
     "data": {
      "text/plain": [
       "3.897306492395492"
      ]
     },
     "execution_count": 43,
     "metadata": {},
     "output_type": "execute_result"
    }
   ],
   "source": [
    "mean_squared_error(label['score'], final_pred['score'])"
   ]
  },
  {
   "cell_type": "code",
   "execution_count": 12,
   "id": "1e6d0e4f-2fe7-4021-91f5-cea22dcd4701",
   "metadata": {},
   "outputs": [],
   "source": [
    "final_pred[['ID', 'score']].to_csv('result.csv', index=False)"
   ]
  },
  {
   "cell_type": "code",
   "execution_count": 13,
   "id": "86706101-d442-40aa-9352-6287837e11ce",
   "metadata": {},
   "outputs": [
    {
     "name": "stdout",
     "output_type": "stream",
     "text": [
      "alias: -m: unknown option\n",
      "100%|█████████████████████████████████████████| 842k/842k [00:02<00:00, 323kB/s]\n",
      "Successfully submitted to traPコンペ 2023 夏"
     ]
    }
   ],
   "source": [
    "# !kaggle competitions submit -c trap-competetion-2023-summer -f result.csv -m \"\""
   ]
  }
 ],
 "metadata": {
  "kernelspec": {
   "display_name": "Python 3 (ipykernel)",
   "language": "python",
   "name": "python3"
  },
  "language_info": {
   "codemirror_mode": {
    "name": "ipython",
    "version": 3
   },
   "file_extension": ".py",
   "mimetype": "text/x-python",
   "name": "python",
   "nbconvert_exporter": "python",
   "pygments_lexer": "ipython3",
   "version": "3.9.6"
  }
 },
 "nbformat": 4,
 "nbformat_minor": 5
}
