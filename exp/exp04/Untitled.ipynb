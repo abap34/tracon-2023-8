{
 "cells": [
  {
   "cell_type": "code",
   "execution_count": 6,
   "id": "421fb2fd-d518-4ec7-bf40-36ce057f8512",
   "metadata": {},
   "outputs": [],
   "source": [
    "import pandas as pd\n",
    "sample_sub = pd.read_csv('../../data/sample_submission.csv')"
   ]
  },
  {
   "cell_type": "code",
   "execution_count": 16,
   "id": "2ca73879-a2d6-4395-af55-32e737c300a0",
   "metadata": {},
   "outputs": [],
   "source": [
    "sample_sub['score'] = \\\n",
    "(2 * pd.read_csv('../../tmp/result (1).csv')['score'] + pd.read_csv('../../tmp/result (2).csv')['score']) / 3"
   ]
  },
  {
   "cell_type": "code",
   "execution_count": 13,
   "id": "bd4466aa-1441-4dc9-9cd7-e52d52165be6",
   "metadata": {},
   "outputs": [],
   "source": [
    "label = pd.read_csv('../../data/solution.csv')"
   ]
  },
  {
   "cell_type": "code",
   "execution_count": 14,
   "id": "e07fe9b1-0885-4be5-93ce-d456c285c6a5",
   "metadata": {},
   "outputs": [],
   "source": [
    "from sklearn.metrics import mean_squared_error"
   ]
  },
  {
   "cell_type": "code",
   "execution_count": 15,
   "id": "bafd98c9-ffe5-49e0-b444-f07d7a2ab44a",
   "metadata": {},
   "outputs": [
    {
     "data": {
      "text/plain": [
       "3.4455517137259335"
      ]
     },
     "execution_count": 15,
     "metadata": {},
     "output_type": "execute_result"
    }
   ],
   "source": [
    "mean_squared_error(label['score'], sample_sub['score'])"
   ]
  },
  {
   "cell_type": "code",
   "execution_count": null,
   "id": "a40f5e03-feac-4620-8640-af0f0f6a5fb6",
   "metadata": {},
   "outputs": [],
   "source": []
  }
 ],
 "metadata": {
  "kernelspec": {
   "display_name": "Python 3 (ipykernel)",
   "language": "python",
   "name": "python3"
  },
  "language_info": {
   "codemirror_mode": {
    "name": "ipython",
    "version": 3
   },
   "file_extension": ".py",
   "mimetype": "text/x-python",
   "name": "python",
   "nbconvert_exporter": "python",
   "pygments_lexer": "ipython3",
   "version": "3.9.6"
  }
 },
 "nbformat": 4,
 "nbformat_minor": 5
}
