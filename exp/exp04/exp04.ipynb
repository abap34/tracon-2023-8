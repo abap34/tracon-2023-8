{
 "cells": [
  {
   "cell_type": "code",
   "execution_count": 1,
   "id": "2ed471fd-32dc-4795-9be0-e8d021cc9b8d",
   "metadata": {},
   "outputs": [
    {
     "name": "stdout",
     "output_type": "stream",
     "text": [
      "register model: lightgbm\n",
      "register model: catboost\n",
      "register model: catboost_class\n"
     ]
    }
   ],
   "source": [
    "import sys\n",
    "sys.path.append('../../src')\n",
    "\n",
    "import pandas as pd\n",
    "\n",
    "from run import run\n",
    "from utils import save_all_columns"
   ]
  },
  {
   "cell_type": "code",
   "execution_count": 2,
   "id": "cdb87ab9-2262-4744-aed2-fda5453c1a2d",
   "metadata": {},
   "outputs": [
    {
     "name": "stdout",
     "output_type": "stream",
     "text": [
      "[2023-08-26 21:37:39.945031] Check corresponding columns\n",
      "[2023-08-26 21:37:39.945117] anime_id -> test_seen_anime_id\n",
      "[2023-08-26 21:37:39.945123] user -> test_seen_user\n",
      "[2023-08-26 21:37:39.945127] user_count_encoding -> test_seen_user_target_encoding\n",
      "[2023-08-26 21:37:39.945131] text_len_max -> test_seen_text_len_max\n",
      "[2023-08-26 21:37:39.945136] text_len_mean -> test_seen_text_len_mean\n",
      "[2023-08-26 21:37:39.945139] text_len_min -> test_seen_text_len_min\n",
      "[2023-08-26 21:37:39.945143] text_len_std -> test_seen_text_len_std\n"
     ]
    },
    {
     "name": "stderr",
     "output_type": "stream",
     "text": [
      "\u001b[34m\u001b[1mwandb\u001b[0m: Currently logged in as: \u001b[33mabap\u001b[0m. Use \u001b[1m`wandb login --relogin`\u001b[0m to force relogin\n"
     ]
    },
    {
     "data": {
      "text/html": [
       "Tracking run with wandb version 0.15.8"
      ],
      "text/plain": [
       "<IPython.core.display.HTML object>"
      ]
     },
     "metadata": {},
     "output_type": "display_data"
    },
    {
     "data": {
      "text/html": [
       "Run data is saved locally in <code>/Users/yuchi/Desktop/tracon-2023-8/exp/exp04/wandb/run-20230826_213741-49296d0h</code>"
      ],
      "text/plain": [
       "<IPython.core.display.HTML object>"
      ]
     },
     "metadata": {},
     "output_type": "display_data"
    },
    {
     "data": {
      "text/html": [
       "Syncing run <strong><a href='https://wandb.ai/abap/tracon-2023-8/runs/49296d0h' target=\"_blank\">basic-feature-v3</a></strong> to <a href='https://wandb.ai/abap/tracon-2023-8' target=\"_blank\">Weights & Biases</a> (<a href='https://wandb.me/run' target=\"_blank\">docs</a>)<br/>"
      ],
      "text/plain": [
       "<IPython.core.display.HTML object>"
      ]
     },
     "metadata": {},
     "output_type": "display_data"
    },
    {
     "data": {
      "text/html": [
       " View project at <a href='https://wandb.ai/abap/tracon-2023-8' target=\"_blank\">https://wandb.ai/abap/tracon-2023-8</a>"
      ],
      "text/plain": [
       "<IPython.core.display.HTML object>"
      ]
     },
     "metadata": {},
     "output_type": "display_data"
    },
    {
     "data": {
      "text/html": [
       " View run at <a href='https://wandb.ai/abap/tracon-2023-8/runs/49296d0h' target=\"_blank\">https://wandb.ai/abap/tracon-2023-8/runs/49296d0h</a>"
      ],
      "text/plain": [
       "<IPython.core.display.HTML object>"
      ]
     },
     "metadata": {},
     "output_type": "display_data"
    },
    {
     "name": "stderr",
     "output_type": "stream",
     "text": [
      "load train columns: 100%|████████████████████████████████████████████████████████████████████████████████████████████████████████████████████████████████████| 7/7 [00:00<00:00, 227.78it/s, load text_len_std]\n",
      "load test columns: 100%|███████████████████████████████████████████████████████████████████████████████████████████████████████████████████████████| 7/7 [00:00<00:00, 538.71it/s, load test_seen_text_len_std]\n",
      "/Users/yuchi/Library/Python/3.9/lib/python/site-packages/sklearn/model_selection/_split.py:700: UserWarning: The least populated class in y has only 1 members, which is less than n_splits=4.\n",
      "  warnings.warn(\n"
     ]
    },
    {
     "name": "stdout",
     "output_type": "stream",
     "text": [
      "[2023-08-26 21:37:42.551407] start training\n",
      "[2023-08-26 21:37:42.573878] start fold: 0\n",
      "[2023-08-26 21:37:58.532858] start fold: 1\n",
      "[2023-08-26 21:38:15.127611] start fold: 2\n",
      "[2023-08-26 21:38:32.374997] start fold: 3\n",
      "[2023-08-26 21:38:48.348367] save submit file: /Users/yuchi/Desktop/tracon-2023-8/exp/exp04/seen.csv\n"
     ]
    },
    {
     "data": {
      "text/html": [
       "Waiting for W&B process to finish... <strong style=\"color:green\">(success).</strong>"
      ],
      "text/plain": [
       "<IPython.core.display.HTML object>"
      ]
     },
     "metadata": {},
     "output_type": "display_data"
    },
    {
     "data": {
      "text/html": [
       "<style>\n",
       "    table.wandb td:nth-child(1) { padding: 0 10px; text-align: left ; width: auto;} td:nth-child(2) {text-align: left ; width: 100%}\n",
       "    .wandb-row { display: flex; flex-direction: row; flex-wrap: wrap; justify-content: flex-start; width: 100% }\n",
       "    .wandb-col { display: flex; flex-direction: column; flex-basis: 100%; flex: 1; padding: 10px; }\n",
       "    </style>\n",
       "<div class=\"wandb-row\"><div class=\"wandb-col\"><h3>Run history:</h3><br/><table class=\"wandb\"><tr><td>train/0</td><td>█▆▄▃▂▂▂▂▂▂▁▁▁▁▁▁▁▁▁▁▁▁▁▁▁▁▁▁▁▁▁▁▁▁▁▁▁▁▁▁</td></tr><tr><td>train/1</td><td>███▇▇▇▇▇▇▇▆▆▆▆▆▅▅▅▅▅▅▄▄▄▄▄▃▃▃▃▃▃▂▂▂▂▂▁▁▁</td></tr><tr><td>train/2</td><td>███▇▇▇▇▇▇▆▆▆▆▆▆▆▅▅▅▅▅▄▄▄▄▄▃▃▃▃▃▂▂▂▂▂▂▁▁▁</td></tr><tr><td>val/0</td><td>█▆▄▂▂▂▁▁▁▁▁▁▁▁▁▁▁▁▁▁▁▁▁▁▁▁▁▁▁▁▁▁▁▁▁▁▁▁▁▁</td></tr><tr><td>val/1</td><td>████▇▆▆▆▆▆▆▆▆▅▅▄▄▄▄▄▄▃▃▃▂▂▂▂▂▂▂▂▁▁▁▁▁▁▂▁</td></tr><tr><td>val/2</td><td>███▇▇▇▆▆▆▆▆▆▆▅▅▄▄▄▄▄▄▃▃▃▂▂▂▂▂▂▁▁▁▁▁▁▁▂▁▁</td></tr></table><br/></div><div class=\"wandb-col\"><h3>Run summary:</h3><br/><table class=\"wandb\"><tr><td>train/0</td><td>4.22072</td></tr><tr><td>train/1</td><td>4.23422</td></tr><tr><td>train/2</td><td>4.23203</td></tr><tr><td>val/0</td><td>4.03521</td></tr><tr><td>val/1</td><td>4.03924</td></tr><tr><td>val/2</td><td>4.00495</td></tr></table><br/></div></div>"
      ],
      "text/plain": [
       "<IPython.core.display.HTML object>"
      ]
     },
     "metadata": {},
     "output_type": "display_data"
    },
    {
     "data": {
      "text/html": [
       " View run <strong style=\"color:#cdcd00\">basic-feature-v3</strong> at: <a href='https://wandb.ai/abap/tracon-2023-8/runs/49296d0h' target=\"_blank\">https://wandb.ai/abap/tracon-2023-8/runs/49296d0h</a><br/> View job at <a href='https://wandb.ai/abap/tracon-2023-8/jobs/QXJ0aWZhY3RDb2xsZWN0aW9uOjkyOTc4NTk2/version_details/v10' target=\"_blank\">https://wandb.ai/abap/tracon-2023-8/jobs/QXJ0aWZhY3RDb2xsZWN0aW9uOjkyOTc4NTk2/version_details/v10</a><br/>Synced 5 W&B file(s), 4 media file(s), 2 artifact file(s) and 0 other file(s)"
      ],
      "text/plain": [
       "<IPython.core.display.HTML object>"
      ]
     },
     "metadata": {},
     "output_type": "display_data"
    },
    {
     "data": {
      "text/html": [
       "Find logs at: <code>./wandb/run-20230826_213741-49296d0h/logs</code>"
      ],
      "text/plain": [
       "<IPython.core.display.HTML object>"
      ]
     },
     "metadata": {},
     "output_type": "display_data"
    }
   ],
   "source": [
    "run(\n",
    "    in_columns=[\"anime_id\", \"user\", \"user_count_encoding\", \"text_len_*\"],\n",
    "    target_column=\"score\",\n",
    "    test_columns=[\"test_seen_anime_id\", \"test_seen_user\", \"test_seen_user_target_encoding\", \"test_seen_text_len_*\"],\n",
    "    test_id=\"test_seen_ID\",\n",
    "    run_config={\n",
    "        \"name\": \"basic-feature-v3\",\n",
    "        \"fold-rule\":(lambda fold : \"seen\" + str(fold)),\n",
    "        \"model\":\"catboost\",\n",
    "        \"submit\": False,\n",
    "        \"task\": \"reg\",\n",
    "        \"submit_path\": \"seen.csv\",\n",
    "    },\n",
    "    model_params={\n",
    "        \"name\": \"seen-model-reg-v1\",\n",
    "        \"iterations\": 10000,\n",
    "        \"learning_rate\": 0.01,\n",
    "        \"depth\": 5,\n",
    "        \"cat_features\": [\"anime_id\", \"user\"],\n",
    "    },\n",
    "    train_params={\n",
    "        \"early_stopping_rounds\": 10,\n",
    "        \"verbose\": False,\n",
    "    }\n",
    ")"
   ]
  },
  {
   "cell_type": "code",
   "execution_count": 3,
   "id": "0b1d2cdc-a93d-4188-ba6e-31cf77ab1ef6",
   "metadata": {},
   "outputs": [
    {
     "name": "stdout",
     "output_type": "stream",
     "text": [
      "[2023-08-26 21:38:58.685583] Check corresponding columns\n",
      "[2023-08-26 21:38:58.686015] anime_id -> test_unseen_anime_id\n",
      "[2023-08-26 21:38:58.686032] user -> test_unseen_user\n"
     ]
    },
    {
     "data": {
      "application/vnd.jupyter.widget-view+json": {
       "model_id": "12e24bc57ac74d0dad991f8312e9bc52",
       "version_major": 2,
       "version_minor": 0
      },
      "text/plain": [
       "VBox(children=(Label(value='Waiting for wandb.init()...\\r'), FloatProgress(value=0.016752340283333212, max=1.0…"
      ]
     },
     "metadata": {},
     "output_type": "display_data"
    },
    {
     "data": {
      "text/html": [
       "Tracking run with wandb version 0.15.8"
      ],
      "text/plain": [
       "<IPython.core.display.HTML object>"
      ]
     },
     "metadata": {},
     "output_type": "display_data"
    },
    {
     "data": {
      "text/html": [
       "Run data is saved locally in <code>/Users/yuchi/Desktop/tracon-2023-8/exp/exp04/wandb/run-20230826_213858-4qgqogx4</code>"
      ],
      "text/plain": [
       "<IPython.core.display.HTML object>"
      ]
     },
     "metadata": {},
     "output_type": "display_data"
    },
    {
     "data": {
      "text/html": [
       "Syncing run <strong><a href='https://wandb.ai/abap/tracon-2023-8/runs/4qgqogx4' target=\"_blank\">basic-feature-v3</a></strong> to <a href='https://wandb.ai/abap/tracon-2023-8' target=\"_blank\">Weights & Biases</a> (<a href='https://wandb.me/run' target=\"_blank\">docs</a>)<br/>"
      ],
      "text/plain": [
       "<IPython.core.display.HTML object>"
      ]
     },
     "metadata": {},
     "output_type": "display_data"
    },
    {
     "data": {
      "text/html": [
       " View project at <a href='https://wandb.ai/abap/tracon-2023-8' target=\"_blank\">https://wandb.ai/abap/tracon-2023-8</a>"
      ],
      "text/plain": [
       "<IPython.core.display.HTML object>"
      ]
     },
     "metadata": {},
     "output_type": "display_data"
    },
    {
     "data": {
      "text/html": [
       " View run at <a href='https://wandb.ai/abap/tracon-2023-8/runs/4qgqogx4' target=\"_blank\">https://wandb.ai/abap/tracon-2023-8/runs/4qgqogx4</a>"
      ],
      "text/plain": [
       "<IPython.core.display.HTML object>"
      ]
     },
     "metadata": {},
     "output_type": "display_data"
    },
    {
     "name": "stderr",
     "output_type": "stream",
     "text": [
      "load train columns: 100%|████████████████████████████████████████████████████████████████████████████████████████████████████████████████████████████████████████████| 2/2 [00:00<00:00, 160.44it/s, load user]\n",
      "load test columns: 100%|█████████████████████████████████████████████████████████████████████████████████████████████████████████████████████████████████| 2/2 [00:00<00:00, 462.11it/s, load test_unseen_user]\n",
      "/Users/yuchi/Library/Python/3.9/lib/python/site-packages/sklearn/model_selection/_split.py:909: UserWarning: The least populated class in y has only 1 members, which is less than n_splits=4.\n",
      "  warnings.warn(\n"
     ]
    },
    {
     "name": "stdout",
     "output_type": "stream",
     "text": [
      "[2023-08-26 21:39:00.513570] start training\n",
      "[2023-08-26 21:39:04.337587] start fold: 0\n",
      "[2023-08-26 21:39:06.784540] start fold: 1\n",
      "[2023-08-26 21:39:11.288896] start fold: 2\n",
      "[2023-08-26 21:39:14.592231] start fold: 3\n",
      "[2023-08-26 21:39:20.111443] save submit file: /Users/yuchi/Desktop/tracon-2023-8/exp/exp04/unseen.csv\n"
     ]
    },
    {
     "data": {
      "text/html": [
       "Waiting for W&B process to finish... <strong style=\"color:green\">(success).</strong>"
      ],
      "text/plain": [
       "<IPython.core.display.HTML object>"
      ]
     },
     "metadata": {},
     "output_type": "display_data"
    },
    {
     "data": {
      "text/html": [
       "<style>\n",
       "    table.wandb td:nth-child(1) { padding: 0 10px; text-align: left ; width: auto;} td:nth-child(2) {text-align: left ; width: 100%}\n",
       "    .wandb-row { display: flex; flex-direction: row; flex-wrap: wrap; justify-content: flex-start; width: 100% }\n",
       "    .wandb-col { display: flex; flex-direction: column; flex-basis: 100%; flex: 1; padding: 10px; }\n",
       "    </style>\n",
       "<div class=\"wandb-row\"><div class=\"wandb-col\"><h3>Run history:</h3><br/><table class=\"wandb\"><tr><td>train/0</td><td>█▇▆▅▅▄▃▃▃▂▂▂▂▂▂▂▁▁▁▁▁▁▁▁▁▁▁▁▁▁▁▁▁▁▁▁▁▁▁▁</td></tr><tr><td>train/1</td><td>██▇▇▇▆▆▆▆▅▅▅▅▄▄▄▄▄▃▃▃▃▃▃▃▂▂▂▂▂▂▂▂▂▂▁▁▁▁▁</td></tr><tr><td>train/3</td><td>████▇▇▇▇▇▇▆▆▆▆▆▆▅▅▅▅▅▄▄▄▄▄▃▃▃▃▃▂▂▂▂▂▂▁▁▁</td></tr><tr><td>val/0</td><td>█▇▆▅▄▃▃▃▂▂▂▂▂▂▁▁▁▁▁▁▁▁▁▁▁▁▁▁▁▁▁▁▁▁▁▁▁▁▁▁</td></tr><tr><td>val/1</td><td>██▇▇▆▆▆▅▅▅▅▄▄▄▄▄▃▃▃▃▃▃▃▂▂▂▂▂▂▂▂▂▂▁▁▁▁▁▁▁</td></tr><tr><td>val/3</td><td>██▇▇▇▇▇▇▆▆▆▆▆▆▅▅▅▅▄▄▄▄▄▄▄▄▃▃▃▃▃▂▂▂▂▁▁▁▁▁</td></tr></table><br/></div><div class=\"wandb-col\"><h3>Run summary:</h3><br/><table class=\"wandb\"><tr><td>train/0</td><td>4.30086</td></tr><tr><td>train/1</td><td>4.30626</td></tr><tr><td>train/3</td><td>4.28705</td></tr><tr><td>val/0</td><td>4.64316</td></tr><tr><td>val/1</td><td>4.42104</td></tr><tr><td>val/3</td><td>4.49841</td></tr></table><br/></div></div>"
      ],
      "text/plain": [
       "<IPython.core.display.HTML object>"
      ]
     },
     "metadata": {},
     "output_type": "display_data"
    },
    {
     "data": {
      "text/html": [
       " View run <strong style=\"color:#cdcd00\">basic-feature-v3</strong> at: <a href='https://wandb.ai/abap/tracon-2023-8/runs/4qgqogx4' target=\"_blank\">https://wandb.ai/abap/tracon-2023-8/runs/4qgqogx4</a><br/> View job at <a href='https://wandb.ai/abap/tracon-2023-8/jobs/QXJ0aWZhY3RDb2xsZWN0aW9uOjkyOTc4NTk2/version_details/v11' target=\"_blank\">https://wandb.ai/abap/tracon-2023-8/jobs/QXJ0aWZhY3RDb2xsZWN0aW9uOjkyOTc4NTk2/version_details/v11</a><br/>Synced 5 W&B file(s), 4 media file(s), 0 artifact file(s) and 0 other file(s)"
      ],
      "text/plain": [
       "<IPython.core.display.HTML object>"
      ]
     },
     "metadata": {},
     "output_type": "display_data"
    },
    {
     "data": {
      "text/html": [
       "Find logs at: <code>./wandb/run-20230826_213858-4qgqogx4/logs</code>"
      ],
      "text/plain": [
       "<IPython.core.display.HTML object>"
      ]
     },
     "metadata": {},
     "output_type": "display_data"
    }
   ],
   "source": [
    "run(\n",
    "    in_columns=[\"anime_id\", \"user\"],\n",
    "    target_column=\"score\",\n",
    "    test_columns=[\"test_unseen_anime_id\", \"test_unseen_user\"],\n",
    "    test_id=\"test_unseen_ID\",\n",
    "    run_config={\n",
    "        \"name\": \"basic-feature-v3\",\n",
    "        \"fold-rule\":(lambda fold : \"seen\" + str(fold)),\n",
    "        \"model\":\"catboost\",\n",
    "        \"submit\": False,\n",
    "        \"task\": \"reg\",\n",
    "        \"submit_path\": \"unseen.csv\",\n",
    "        \"groupkfold\": \"user_id\"\n",
    "    },\n",
    "    model_params={\n",
    "        \"name\": \"seen-model-reg-v1\",\n",
    "        \"iterations\": 10000,\n",
    "        \"learning_rate\": 0.01,\n",
    "        \"depth\": 7,\n",
    "        \"cat_features\": [\"anime_id\", \"user\"],\n",
    "    },\n",
    "    train_params={\n",
    "        \"early_stopping_rounds\": 10,\n",
    "        \"verbose\": False,\n",
    "    }\n",
    ")"
   ]
  },
  {
   "cell_type": "code",
   "execution_count": 4,
   "id": "3e3cb3dd-cfd4-4eee-8ba1-b8b510c48e40",
   "metadata": {},
   "outputs": [],
   "source": [
    "sample_submission = pd.read_csv('../../data/sample_submission.csv')"
   ]
  },
  {
   "cell_type": "code",
   "execution_count": 5,
   "id": "4d983054-5b29-447d-aad2-e01947468b97",
   "metadata": {},
   "outputs": [],
   "source": [
    "seen_pred = pd.read_csv('seen.csv')\n",
    "unseen_pred = pd.read_csv('unseen.csv')"
   ]
  },
  {
   "cell_type": "code",
   "execution_count": 6,
   "id": "87b134da-8f38-4443-9547-060df6563cc9",
   "metadata": {},
   "outputs": [],
   "source": [
    "sample_seen = pd.merge(\n",
    "    sample_submission, seen_pred, on=\"ID\",  how='left'\n",
    ")[[\"ID\", \"score_y\"]].rename(columns={\"score_y\": \"score\"})\n",
    "\n",
    "final_pred = pd.merge(\n",
    "    sample_seen, unseen_pred, on=\"ID\",  how='left'\n",
    ")\n",
    "\n",
    "final_pred[\"score\"] = final_pred[\"score_x\"].fillna(final_pred[\"score_y\"])"
   ]
  },
  {
   "cell_type": "code",
   "execution_count": 7,
   "id": "fdc51aac-1f78-472b-be59-e43aca34e238",
   "metadata": {},
   "outputs": [],
   "source": [
    "label = pd.read_csv('../../data/solution.csv')"
   ]
  },
  {
   "cell_type": "code",
   "execution_count": 8,
   "id": "91f7467d-f366-4375-8eae-f57f50abbe53",
   "metadata": {},
   "outputs": [],
   "source": [
    "label['seen'] = label['ID'].isin(seen_pred['ID'].values)"
   ]
  },
  {
   "cell_type": "code",
   "execution_count": 9,
   "id": "262c006c-56c9-4ccd-98fa-2c411390bde3",
   "metadata": {},
   "outputs": [],
   "source": [
    "from sklearn.metrics import mean_squared_error"
   ]
  },
  {
   "cell_type": "code",
   "execution_count": 10,
   "id": "15bceccc-b3ff-476d-aa57-0f76b2b2ad4b",
   "metadata": {},
   "outputs": [
    {
     "data": {
      "text/plain": [
       "3.487245725346319"
      ]
     },
     "execution_count": 10,
     "metadata": {},
     "output_type": "execute_result"
    }
   ],
   "source": [
    "mean_squared_error(label[label['seen']]['score'], seen_pred['score'])"
   ]
  },
  {
   "cell_type": "code",
   "execution_count": 11,
   "id": "251dcd82-b036-40d6-8cd2-08120f19896d",
   "metadata": {},
   "outputs": [
    {
     "data": {
      "text/plain": [
       "4.860182663628279"
      ]
     },
     "execution_count": 11,
     "metadata": {},
     "output_type": "execute_result"
    }
   ],
   "source": [
    "mean_squared_error(label[~label['seen']]['score'], unseen_pred['score'])"
   ]
  },
  {
   "cell_type": "code",
   "execution_count": 13,
   "id": "1e6d0e4f-2fe7-4021-91f5-cea22dcd4701",
   "metadata": {},
   "outputs": [],
   "source": [
    "final_pred[['ID', 'score']].to_csv('result.csv', index=False)"
   ]
  },
  {
   "cell_type": "code",
   "execution_count": 14,
   "id": "86706101-d442-40aa-9352-6287837e11ce",
   "metadata": {},
   "outputs": [
    {
     "name": "stdout",
     "output_type": "stream",
     "text": [
      "alias: -m: unknown option\n",
      "100%|█████████████████████████████████████████| 842k/842k [00:03<00:00, 278kB/s]\n",
      "Successfully submitted to traPコンペ 2023 夏"
     ]
    }
   ],
   "source": [
    "!kaggle competitions submit -c trap-competetion-2023-summer -f result.csv -m \"\""
   ]
  },
  {
   "cell_type": "code",
   "execution_count": null,
   "id": "020a32e0-0ecf-40e9-8e05-c8c68f293df9",
   "metadata": {},
   "outputs": [],
   "source": []
  }
 ],
 "metadata": {
  "kernelspec": {
   "display_name": "Python 3 (ipykernel)",
   "language": "python",
   "name": "python3"
  },
  "language_info": {
   "codemirror_mode": {
    "name": "ipython",
    "version": 3
   },
   "file_extension": ".py",
   "mimetype": "text/x-python",
   "name": "python",
   "nbconvert_exporter": "python",
   "pygments_lexer": "ipython3",
   "version": "3.9.6"
  }
 },
 "nbformat": 4,
 "nbformat_minor": 5
}
