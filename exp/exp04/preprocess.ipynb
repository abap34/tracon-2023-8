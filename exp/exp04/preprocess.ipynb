{
 "cells": [
  {
   "cell_type": "code",
   "execution_count": 1,
   "metadata": {},
   "outputs": [
    {
     "name": "stdout",
     "output_type": "stream",
     "text": [
      "register model: lightgbm\n",
      "register model: catboost\n",
      "register model: catboost_class\n"
     ]
    }
   ],
   "source": [
    "import sys\n",
    "sys.path.append('../../src')\n",
    "\n",
    "import pandas as pd\n",
    "import numpy as np\n",
    "\n",
    "from run import run\n",
    "from utils import save_all_columns, save_columns"
   ]
  },
  {
   "cell_type": "code",
   "execution_count": 2,
   "metadata": {},
   "outputs": [],
   "source": [
    "train = pd.read_csv('../../data/train.csv')\n",
    "test = pd.read_csv('../../data/test.csv')\n",
    "anime = pd.read_csv('../../data/anime.csv')\n",
    "profile = pd.read_csv('../../data/profile.csv')"
   ]
  },
  {
   "cell_type": "code",
   "execution_count": 3,
   "metadata": {},
   "outputs": [],
   "source": [
    "# seen のみ user を target encoding, frequency encoding "
   ]
  },
  {
   "cell_type": "code",
   "execution_count": 4,
   "metadata": {},
   "outputs": [],
   "source": [
    "test_seen = test[test[\"user\"].isin(train[\"user\"])].reset_index(drop=True)\n",
    "test_unseen = test[~test[\"user\"].isin(train[\"user\"])].reset_index(drop=True)"
   ]
  },
  {
   "cell_type": "code",
   "execution_count": 17,
   "metadata": {},
   "outputs": [
    {
     "data": {
      "text/html": [
       "<div>\n",
       "<style scoped>\n",
       "    .dataframe tbody tr th:only-of-type {\n",
       "        vertical-align: middle;\n",
       "    }\n",
       "\n",
       "    .dataframe tbody tr th {\n",
       "        vertical-align: top;\n",
       "    }\n",
       "\n",
       "    .dataframe thead th {\n",
       "        text-align: right;\n",
       "    }\n",
       "</style>\n",
       "<table border=\"1\" class=\"dataframe\">\n",
       "  <thead>\n",
       "    <tr style=\"text-align: right;\">\n",
       "      <th></th>\n",
       "      <th>user</th>\n",
       "      <th>anime_id</th>\n",
       "      <th>ID</th>\n",
       "    </tr>\n",
       "  </thead>\n",
       "  <tbody>\n",
       "    <tr>\n",
       "      <th>0</th>\n",
       "      <td>df5ce90323</td>\n",
       "      <td>2191</td>\n",
       "      <td>df5ce90323/2191</td>\n",
       "    </tr>\n",
       "    <tr>\n",
       "      <th>1</th>\n",
       "      <td>fd47680337</td>\n",
       "      <td>12355</td>\n",
       "      <td>fd47680337/12355</td>\n",
       "    </tr>\n",
       "    <tr>\n",
       "      <th>2</th>\n",
       "      <td>8bfc6cea02</td>\n",
       "      <td>3287</td>\n",
       "      <td>8bfc6cea02/3287</td>\n",
       "    </tr>\n",
       "    <tr>\n",
       "      <th>3</th>\n",
       "      <td>5ba4de2706</td>\n",
       "      <td>5114</td>\n",
       "      <td>5ba4de2706/5114</td>\n",
       "    </tr>\n",
       "    <tr>\n",
       "      <th>4</th>\n",
       "      <td>6f78771003</td>\n",
       "      <td>33966</td>\n",
       "      <td>6f78771003/33966</td>\n",
       "    </tr>\n",
       "    <tr>\n",
       "      <th>...</th>\n",
       "      <td>...</td>\n",
       "      <td>...</td>\n",
       "      <td>...</td>\n",
       "    </tr>\n",
       "    <tr>\n",
       "      <th>22124</th>\n",
       "      <td>513878a55e</td>\n",
       "      <td>2501</td>\n",
       "      <td>513878a55e/2501</td>\n",
       "    </tr>\n",
       "    <tr>\n",
       "      <th>22125</th>\n",
       "      <td>f60d21c6ff</td>\n",
       "      <td>34914</td>\n",
       "      <td>f60d21c6ff/34914</td>\n",
       "    </tr>\n",
       "    <tr>\n",
       "      <th>22126</th>\n",
       "      <td>76b6afecea</td>\n",
       "      <td>1606</td>\n",
       "      <td>76b6afecea/1606</td>\n",
       "    </tr>\n",
       "    <tr>\n",
       "      <th>22127</th>\n",
       "      <td>ae8792e8c9</td>\n",
       "      <td>14467</td>\n",
       "      <td>ae8792e8c9/14467</td>\n",
       "    </tr>\n",
       "    <tr>\n",
       "      <th>22128</th>\n",
       "      <td>633644c951</td>\n",
       "      <td>11759</td>\n",
       "      <td>633644c951/11759</td>\n",
       "    </tr>\n",
       "  </tbody>\n",
       "</table>\n",
       "<p>22129 rows × 3 columns</p>\n",
       "</div>"
      ],
      "text/plain": [
       "             user  anime_id                ID\n",
       "0      df5ce90323      2191   df5ce90323/2191\n",
       "1      fd47680337     12355  fd47680337/12355\n",
       "2      8bfc6cea02      3287   8bfc6cea02/3287\n",
       "3      5ba4de2706      5114   5ba4de2706/5114\n",
       "4      6f78771003     33966  6f78771003/33966\n",
       "...           ...       ...               ...\n",
       "22124  513878a55e      2501   513878a55e/2501\n",
       "22125  f60d21c6ff     34914  f60d21c6ff/34914\n",
       "22126  76b6afecea      1606   76b6afecea/1606\n",
       "22127  ae8792e8c9     14467  ae8792e8c9/14467\n",
       "22128  633644c951     11759  633644c951/11759\n",
       "\n",
       "[22129 rows x 3 columns]"
      ]
     },
     "execution_count": 17,
     "metadata": {},
     "output_type": "execute_result"
    }
   ],
   "source": [
    "test_seen"
   ]
  },
  {
   "cell_type": "code",
   "execution_count": 5,
   "metadata": {},
   "outputs": [
    {
     "name": "stderr",
     "output_type": "stream",
     "text": [
      "save columns: 100%|██████████████████████████████████████████████████████████████████████████████████████████████████████████████████████████████████████████| 3/3 [00:00<00:00, 266.95it/s, save test_seen_ID]\n",
      "save columns: 100%|████████████████████████████████████████████████████████████████████████████████████████████████████████████████████████████████████████| 3/3 [00:00<00:00, 713.11it/s, save test_unseen_ID]\n"
     ]
    }
   ],
   "source": [
    "save_all_columns(test_seen.rename(columns=(lambda x: \"test_seen_\" + x)), \"test\")\n",
    "save_all_columns(test_unseen.rename(columns=(lambda x: \"test_unseen_\" + x)), \"test\")"
   ]
  },
  {
   "cell_type": "code",
   "execution_count": 6,
   "metadata": {},
   "outputs": [],
   "source": [
    "from sklearn.model_selection import KFold"
   ]
  },
  {
   "cell_type": "code",
   "execution_count": 7,
   "metadata": {},
   "outputs": [],
   "source": [
    "kf = KFold(n_splits=7, shuffle=True, random_state=34)"
   ]
  },
  {
   "cell_type": "code",
   "execution_count": 8,
   "metadata": {},
   "outputs": [],
   "source": [
    "train_result_df = train.copy()\n",
    "testseen_result_df = test_seen.copy()\n",
    "\n",
    "train_mean = train.groupby('user')['score'].mean()\n",
    "testseen_result_df['user_target_encoding'] = test_seen['user'].map(train_mean)\n",
    "\n",
    "tmp = np.zeros(train.shape[0])\n",
    "for (train_idx, val_idx) in kf.split(train):\n",
    "    target = train.iloc[train_idx]\n",
    "    target_mean = target.groupby('user')['score'].mean()\n",
    "    tmp[val_idx] = train['user'].iloc[val_idx].map(target_mean)\n",
    "\n",
    "train_result_df['user_target_encoding'] = tmp"
   ]
  },
  {
   "cell_type": "code",
   "execution_count": 9,
   "metadata": {},
   "outputs": [],
   "source": [
    "save_columns(train_result_df['user_target_encoding'], 'train', col_rename='user_target_encoding')\n",
    "save_columns(testseen_result_df['user_target_encoding'], 'test', col_rename='test_seen_user_target_encoding')"
   ]
  },
  {
   "cell_type": "code",
   "execution_count": 10,
   "metadata": {},
   "outputs": [],
   "source": [
    "train_result_df['user_count_encoding'] = train['user'].map(train['user'].value_counts())\n",
    "testseen_result_df['user_count_encoding'] = test['user'].map(train['user'].value_counts())"
   ]
  },
  {
   "cell_type": "code",
   "execution_count": 11,
   "metadata": {},
   "outputs": [],
   "source": [
    "save_columns(train_result_df['user_count_encoding'], 'train', col_rename='user_count_encoding')\n",
    "save_columns(testseen_result_df['user_count_encoding'], 'test', col_rename='test_seen_user_count_encoding')"
   ]
  },
  {
   "cell_type": "code",
   "execution_count": 12,
   "metadata": {},
   "outputs": [],
   "source": [
    "train_result_df['text_len'] = train['text'].apply(len)"
   ]
  },
  {
   "cell_type": "code",
   "execution_count": 13,
   "metadata": {},
   "outputs": [],
   "source": [
    "train_result_df['text_len_mean'] = train_result_df['user'].map(train_result_df.groupby('user')['text_len'].mean())\n",
    "train_result_df['text_len_max'] = train_result_df['user'].map(train_result_df.groupby('user')['text_len'].max())\n",
    "train_result_df['text_len_min'] = train_result_df['user'].map(train_result_df.groupby('user')['text_len'].min())\n",
    "train_result_df['text_len_std'] = train_result_df['user'].map(train_result_df.groupby('user')['text_len'].std())\n",
    "\n",
    "\n",
    "testseen_result_df['test_seen_text_len_mean'] = testseen_result_df['user'].map(train_result_df.groupby('user')['text_len'].mean())\n",
    "testseen_result_df['test_seen_text_len_max'] = testseen_result_df['user'].map(train_result_df.groupby('user')['text_len'].max())\n",
    "testseen_result_df['test_seen_text_len_min'] = testseen_result_df['user'].map(train_result_df.groupby('user')['text_len'].min())\n",
    "testseen_result_df['test_seen_text_len_std'] = testseen_result_df['user'].map(train_result_df.groupby('user')['text_len'].std())\n"
   ]
  },
  {
   "cell_type": "code",
   "execution_count": 14,
   "metadata": {},
   "outputs": [
    {
     "name": "stderr",
     "output_type": "stream",
     "text": [
      "save columns: 100%|██████████████████████████████████████████████████████████████████████████████████████████████████████████████████████████████████████████| 4/4 [00:00<00:00, 295.97it/s, save text_len_std]\n",
      "save columns: 100%|████████████████████████████████████████████████████████████████████████████████████████████████████████████████████████████████| 4/4 [00:00<00:00, 333.72it/s, save test_seen_text_len_std]\n"
     ]
    }
   ],
   "source": [
    "save_columns = ['text_len_mean', 'text_len_max', 'text_len_min', 'text_len_std']\n",
    "save_all_columns(train_result_df[save_columns], 'train')\n",
    "\n",
    "test_save_columns = ['test_seen_text_len_mean', 'test_seen_text_len_max', 'test_seen_text_len_min', 'test_seen_text_len_std']\n",
    "save_all_columns(testseen_result_df[test_save_columns], 'test')"
   ]
  },
  {
   "cell_type": "code",
   "execution_count": 15,
   "metadata": {},
   "outputs": [
    {
     "data": {
      "text/html": [
       "<div>\n",
       "<style scoped>\n",
       "    .dataframe tbody tr th:only-of-type {\n",
       "        vertical-align: middle;\n",
       "    }\n",
       "\n",
       "    .dataframe tbody tr th {\n",
       "        vertical-align: top;\n",
       "    }\n",
       "\n",
       "    .dataframe thead th {\n",
       "        text-align: right;\n",
       "    }\n",
       "</style>\n",
       "<table border=\"1\" class=\"dataframe\">\n",
       "  <thead>\n",
       "    <tr style=\"text-align: right;\">\n",
       "      <th></th>\n",
       "      <th>user</th>\n",
       "      <th>anime_id</th>\n",
       "      <th>ID</th>\n",
       "      <th>user_target_encoding</th>\n",
       "      <th>user_count_encoding</th>\n",
       "      <th>test_seen_text_len_mean</th>\n",
       "      <th>test_seen_text_len_max</th>\n",
       "      <th>test_seen_text_len_min</th>\n",
       "      <th>test_seen_text_len_std</th>\n",
       "    </tr>\n",
       "  </thead>\n",
       "  <tbody>\n",
       "    <tr>\n",
       "      <th>0</th>\n",
       "      <td>df5ce90323</td>\n",
       "      <td>2191</td>\n",
       "      <td>df5ce90323/2191</td>\n",
       "      <td>8.250000</td>\n",
       "      <td>32.0</td>\n",
       "      <td>2615.343750</td>\n",
       "      <td>4645</td>\n",
       "      <td>1042</td>\n",
       "      <td>804.416062</td>\n",
       "    </tr>\n",
       "    <tr>\n",
       "      <th>1</th>\n",
       "      <td>fd47680337</td>\n",
       "      <td>12355</td>\n",
       "      <td>fd47680337/12355</td>\n",
       "      <td>6.800000</td>\n",
       "      <td>5.0</td>\n",
       "      <td>7529.600000</td>\n",
       "      <td>11034</td>\n",
       "      <td>3124</td>\n",
       "      <td>3434.728344</td>\n",
       "    </tr>\n",
       "    <tr>\n",
       "      <th>2</th>\n",
       "      <td>8bfc6cea02</td>\n",
       "      <td>3287</td>\n",
       "      <td>8bfc6cea02/3287</td>\n",
       "      <td>4.491803</td>\n",
       "      <td>61.0</td>\n",
       "      <td>3867.098361</td>\n",
       "      <td>9091</td>\n",
       "      <td>1527</td>\n",
       "      <td>1871.456925</td>\n",
       "    </tr>\n",
       "    <tr>\n",
       "      <th>3</th>\n",
       "      <td>5ba4de2706</td>\n",
       "      <td>5114</td>\n",
       "      <td>5ba4de2706/5114</td>\n",
       "      <td>8.000000</td>\n",
       "      <td>5.0</td>\n",
       "      <td>4035.600000</td>\n",
       "      <td>6489</td>\n",
       "      <td>2441</td>\n",
       "      <td>1613.404568</td>\n",
       "    </tr>\n",
       "    <tr>\n",
       "      <th>4</th>\n",
       "      <td>6f78771003</td>\n",
       "      <td>33966</td>\n",
       "      <td>6f78771003/33966</td>\n",
       "      <td>6.084906</td>\n",
       "      <td>106.0</td>\n",
       "      <td>5276.650943</td>\n",
       "      <td>16812</td>\n",
       "      <td>1445</td>\n",
       "      <td>2459.406115</td>\n",
       "    </tr>\n",
       "    <tr>\n",
       "      <th>...</th>\n",
       "      <td>...</td>\n",
       "      <td>...</td>\n",
       "      <td>...</td>\n",
       "      <td>...</td>\n",
       "      <td>...</td>\n",
       "      <td>...</td>\n",
       "      <td>...</td>\n",
       "      <td>...</td>\n",
       "      <td>...</td>\n",
       "    </tr>\n",
       "    <tr>\n",
       "      <th>22124</th>\n",
       "      <td>513878a55e</td>\n",
       "      <td>2501</td>\n",
       "      <td>513878a55e/2501</td>\n",
       "      <td>5.000000</td>\n",
       "      <td>NaN</td>\n",
       "      <td>2482.000000</td>\n",
       "      <td>3636</td>\n",
       "      <td>1512</td>\n",
       "      <td>1073.888262</td>\n",
       "    </tr>\n",
       "    <tr>\n",
       "      <th>22125</th>\n",
       "      <td>f60d21c6ff</td>\n",
       "      <td>34914</td>\n",
       "      <td>f60d21c6ff/34914</td>\n",
       "      <td>7.000000</td>\n",
       "      <td>NaN</td>\n",
       "      <td>2091.000000</td>\n",
       "      <td>2091</td>\n",
       "      <td>2091</td>\n",
       "      <td>NaN</td>\n",
       "    </tr>\n",
       "    <tr>\n",
       "      <th>22126</th>\n",
       "      <td>76b6afecea</td>\n",
       "      <td>1606</td>\n",
       "      <td>76b6afecea/1606</td>\n",
       "      <td>10.000000</td>\n",
       "      <td>NaN</td>\n",
       "      <td>904.000000</td>\n",
       "      <td>904</td>\n",
       "      <td>904</td>\n",
       "      <td>NaN</td>\n",
       "    </tr>\n",
       "    <tr>\n",
       "      <th>22127</th>\n",
       "      <td>ae8792e8c9</td>\n",
       "      <td>14467</td>\n",
       "      <td>ae8792e8c9/14467</td>\n",
       "      <td>6.666667</td>\n",
       "      <td>1.0</td>\n",
       "      <td>1386.000000</td>\n",
       "      <td>1616</td>\n",
       "      <td>1230</td>\n",
       "      <td>203.361747</td>\n",
       "    </tr>\n",
       "    <tr>\n",
       "      <th>22128</th>\n",
       "      <td>633644c951</td>\n",
       "      <td>11759</td>\n",
       "      <td>633644c951/11759</td>\n",
       "      <td>8.000000</td>\n",
       "      <td>NaN</td>\n",
       "      <td>1713.500000</td>\n",
       "      <td>1814</td>\n",
       "      <td>1613</td>\n",
       "      <td>142.128463</td>\n",
       "    </tr>\n",
       "  </tbody>\n",
       "</table>\n",
       "<p>22129 rows × 9 columns</p>\n",
       "</div>"
      ],
      "text/plain": [
       "             user  anime_id                ID  user_target_encoding  \\\n",
       "0      df5ce90323      2191   df5ce90323/2191              8.250000   \n",
       "1      fd47680337     12355  fd47680337/12355              6.800000   \n",
       "2      8bfc6cea02      3287   8bfc6cea02/3287              4.491803   \n",
       "3      5ba4de2706      5114   5ba4de2706/5114              8.000000   \n",
       "4      6f78771003     33966  6f78771003/33966              6.084906   \n",
       "...           ...       ...               ...                   ...   \n",
       "22124  513878a55e      2501   513878a55e/2501              5.000000   \n",
       "22125  f60d21c6ff     34914  f60d21c6ff/34914              7.000000   \n",
       "22126  76b6afecea      1606   76b6afecea/1606             10.000000   \n",
       "22127  ae8792e8c9     14467  ae8792e8c9/14467              6.666667   \n",
       "22128  633644c951     11759  633644c951/11759              8.000000   \n",
       "\n",
       "       user_count_encoding  test_seen_text_len_mean  test_seen_text_len_max  \\\n",
       "0                     32.0              2615.343750                    4645   \n",
       "1                      5.0              7529.600000                   11034   \n",
       "2                     61.0              3867.098361                    9091   \n",
       "3                      5.0              4035.600000                    6489   \n",
       "4                    106.0              5276.650943                   16812   \n",
       "...                    ...                      ...                     ...   \n",
       "22124                  NaN              2482.000000                    3636   \n",
       "22125                  NaN              2091.000000                    2091   \n",
       "22126                  NaN               904.000000                     904   \n",
       "22127                  1.0              1386.000000                    1616   \n",
       "22128                  NaN              1713.500000                    1814   \n",
       "\n",
       "       test_seen_text_len_min  test_seen_text_len_std  \n",
       "0                        1042              804.416062  \n",
       "1                        3124             3434.728344  \n",
       "2                        1527             1871.456925  \n",
       "3                        2441             1613.404568  \n",
       "4                        1445             2459.406115  \n",
       "...                       ...                     ...  \n",
       "22124                    1512             1073.888262  \n",
       "22125                    2091                     NaN  \n",
       "22126                     904                     NaN  \n",
       "22127                    1230              203.361747  \n",
       "22128                    1613              142.128463  \n",
       "\n",
       "[22129 rows x 9 columns]"
      ]
     },
     "execution_count": 15,
     "metadata": {},
     "output_type": "execute_result"
    }
   ],
   "source": [
    "testseen_result_df"
   ]
  }
 ],
 "metadata": {
  "kernelspec": {
   "display_name": "Python 3 (ipykernel)",
   "language": "python",
   "name": "python3"
  },
  "language_info": {
   "codemirror_mode": {
    "name": "ipython",
    "version": 3
   },
   "file_extension": ".py",
   "mimetype": "text/x-python",
   "name": "python",
   "nbconvert_exporter": "python",
   "pygments_lexer": "ipython3",
   "version": "3.9.6"
  }
 },
 "nbformat": 4,
 "nbformat_minor": 4
}
